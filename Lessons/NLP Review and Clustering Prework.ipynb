{
 "cells": [
  {
   "cell_type": "markdown",
   "metadata": {},
   "source": [
    "# Week 7 Prework"
   ]
  },
  {
   "cell_type": "markdown",
   "metadata": {},
   "source": [
    "## Week 6 Review\n",
    "1. Machine Learning Practice - NLP"
   ]
  },
  {
   "cell_type": "markdown",
   "metadata": {},
   "source": [
    "## Week 7 Prework\n",
    "1. LDA\n",
    "2. Clustering"
   ]
  },
  {
   "cell_type": "markdown",
   "metadata": {},
   "source": [
    "<span style=\"font-size:3em; color:green\">Week 6 Review</span>"
   ]
  },
  {
   "cell_type": "code",
   "execution_count": 18,
   "metadata": {
    "collapsed": true
   },
   "outputs": [],
   "source": [
    "verge = \"Internet providers now just need a signature from President Trump before they’re free to take, share, and even sell your web browsing history without your permission. The House of Representatives passed a resolution today overturning an Obama-era FCC rule that required internet providers to get customers’ permission before sharing their browsing history with other companies. The rules also required internet providers to protect that data from hackers and inform customers of any breaches. The resolution was first passed by the Senate last week and now heads to the president, who’s expected to sign it. At that point, there’ll only be a vague baseline of privacy rules governing internet providers and some promises from them not to misbehave. It’s hard to see this as anything but a major loss for consumers. While reversing the FCC’s privacy rules will technically just maintain the status quo — internet providers have actually been able to sell your web browsing data forever (it’s just not a thing we think about all that much) — they were about to lose permission to keep doing it, unless they got explicit consent or anonymized the info. This is an increasingly important issue as Americans spend more and more time online — and keep more and more devices with them at all times. Internet providers can see what sites you visit and what apps you use, and they can see how long you’re using them for. That information is extremely revealing, and it’s easy to imagine most people would prefer to keep their reading habits private. “The consequences of passing this resolution are clear: broadband providers like AT&T, Comcast, and others will be able to sell your personal information to the highest bidder without your permission,” said Representative Anna Eshoo (D-CA) on the House floor this afternoon. “And no one will be able to protect you, not even the Federal Trade Commission that our friends on the other side of the aisle keep talking about.” So why did Congress block the rules from being implemented? Republicans bought into internet providers’ arguments that the rules discriminated against them and could confuse consumers. The rules would prevent internet providers from selling your web browsing history even though, the argument goes, websites like Google and Facebook would remain free to do the same thing. ISPs say that’s unfair and makes it hard for consumers to understand who gets to see their browsing data.\""
   ]
  },
  {
   "cell_type": "code",
   "execution_count": 19,
   "metadata": {
    "collapsed": false
   },
   "outputs": [
    {
     "data": {
      "text/plain": [
       "CountVectorizer(analyzer='word', binary=False, decode_error='strict',\n",
       "        dtype=<class 'numpy.int64'>, encoding='utf-8', input='content',\n",
       "        lowercase=True, max_df=1.0, max_features=None, min_df=1,\n",
       "        ngram_range=(1, 1), preprocessor=None, stop_words='english',\n",
       "        strip_accents=None, token_pattern='(?u)\\\\b\\\\w\\\\w+\\\\b',\n",
       "        tokenizer=None, vocabulary=None)"
      ]
     },
     "execution_count": 19,
     "metadata": {},
     "output_type": "execute_result"
    }
   ],
   "source": [
    "import numpy as np\n",
    "from sklearn.feature_extraction.text import CountVectorizer\n",
    "countVect = CountVectorizer(stop_words = \"english\")\n",
    "countVect.fit([verge])"
   ]
  },
  {
   "cell_type": "code",
   "execution_count": 38,
   "metadata": {
    "collapsed": false
   },
   "outputs": [
    {
     "data": {
      "text/html": [
       "<div>\n",
       "<table border=\"1\" class=\"dataframe\">\n",
       "  <thead>\n",
       "    <tr style=\"text-align: right;\">\n",
       "      <th></th>\n",
       "      <th>0</th>\n",
       "    </tr>\n",
       "  </thead>\n",
       "  <tbody>\n",
       "    <tr>\n",
       "      <th>providers</th>\n",
       "      <td>9</td>\n",
       "    </tr>\n",
       "    <tr>\n",
       "      <th>internet</th>\n",
       "      <td>8</td>\n",
       "    </tr>\n",
       "    <tr>\n",
       "      <th>rules</th>\n",
       "      <td>6</td>\n",
       "    </tr>\n",
       "    <tr>\n",
       "      <th>browsing</th>\n",
       "      <td>5</td>\n",
       "    </tr>\n",
       "    <tr>\n",
       "      <th>permission</th>\n",
       "      <td>4</td>\n",
       "    </tr>\n",
       "    <tr>\n",
       "      <th>consumers</th>\n",
       "      <td>3</td>\n",
       "    </tr>\n",
       "    <tr>\n",
       "      <th>data</th>\n",
       "      <td>3</td>\n",
       "    </tr>\n",
       "    <tr>\n",
       "      <th>history</th>\n",
       "      <td>3</td>\n",
       "    </tr>\n",
       "    <tr>\n",
       "      <th>just</th>\n",
       "      <td>3</td>\n",
       "    </tr>\n",
       "    <tr>\n",
       "      <th>able</th>\n",
       "      <td>3</td>\n",
       "    </tr>\n",
       "  </tbody>\n",
       "</table>\n",
       "</div>"
      ],
      "text/plain": [
       "            0\n",
       "providers   9\n",
       "internet    8\n",
       "rules       6\n",
       "browsing    5\n",
       "permission  4\n",
       "consumers   3\n",
       "data        3\n",
       "history     3\n",
       "just        3\n",
       "able        3"
      ]
     },
     "execution_count": 38,
     "metadata": {},
     "output_type": "execute_result"
    }
   ],
   "source": [
    "test = pd.DataFrame(\n",
    "    np.sum(pd.DataFrame(countVect.transform([verge]).A, \n",
    "                        columns = countVect.get_feature_names()).T, \n",
    "           axis = 1)\n",
    ").sort_values(0,ascending = False)\n",
    "test.head(10)"
   ]
  },
  {
   "cell_type": "code",
   "execution_count": 47,
   "metadata": {
    "collapsed": false
   },
   "outputs": [
    {
     "data": {
      "text/html": [
       "<div>\n",
       "<table border=\"1\" class=\"dataframe\">\n",
       "  <thead>\n",
       "    <tr style=\"text-align: right;\">\n",
       "      <th></th>\n",
       "      <th>0</th>\n",
       "    </tr>\n",
       "  </thead>\n",
       "  <tbody>\n",
       "    <tr>\n",
       "      <th>the</th>\n",
       "      <td>0.442819</td>\n",
       "    </tr>\n",
       "    <tr>\n",
       "      <th>to</th>\n",
       "      <td>0.419513</td>\n",
       "    </tr>\n",
       "    <tr>\n",
       "      <th>and</th>\n",
       "      <td>0.349594</td>\n",
       "    </tr>\n",
       "    <tr>\n",
       "      <th>providers</th>\n",
       "      <td>0.209757</td>\n",
       "    </tr>\n",
       "    <tr>\n",
       "      <th>internet</th>\n",
       "      <td>0.186450</td>\n",
       "    </tr>\n",
       "    <tr>\n",
       "      <th>that</th>\n",
       "      <td>0.186450</td>\n",
       "    </tr>\n",
       "    <tr>\n",
       "      <th>it</th>\n",
       "      <td>0.139838</td>\n",
       "    </tr>\n",
       "    <tr>\n",
       "      <th>rules</th>\n",
       "      <td>0.139838</td>\n",
       "    </tr>\n",
       "    <tr>\n",
       "      <th>your</th>\n",
       "      <td>0.139838</td>\n",
       "    </tr>\n",
       "    <tr>\n",
       "      <th>from</th>\n",
       "      <td>0.116531</td>\n",
       "    </tr>\n",
       "  </tbody>\n",
       "</table>\n",
       "</div>"
      ],
      "text/plain": [
       "                  0\n",
       "the        0.442819\n",
       "to         0.419513\n",
       "and        0.349594\n",
       "providers  0.209757\n",
       "internet   0.186450\n",
       "that       0.186450\n",
       "it         0.139838\n",
       "rules      0.139838\n",
       "your       0.139838\n",
       "from       0.116531"
      ]
     },
     "execution_count": 47,
     "metadata": {},
     "output_type": "execute_result"
    }
   ],
   "source": [
    "from sklearn.feature_extraction.text import TfidfVectorizer\n",
    "tVect = TfidfVectorizer(stop_words = None)\n",
    "tVect.fit([verge])\n",
    "\n",
    "tTest = pd.DataFrame(tVect.transform([verge]).A, columns = tVect.get_feature_names()).T.sort_values(0, ascending = False)\n",
    "tTest.head(10)"
   ]
  },
  {
   "cell_type": "code",
   "execution_count": 49,
   "metadata": {
    "collapsed": false
   },
   "outputs": [
    {
     "data": {
      "text/html": [
       "<div>\n",
       "<table border=\"1\" class=\"dataframe\">\n",
       "  <thead>\n",
       "    <tr style=\"text-align: right;\">\n",
       "      <th></th>\n",
       "      <th>providers</th>\n",
       "      <th>internet</th>\n",
       "      <th>rules</th>\n",
       "      <th>browsing</th>\n",
       "      <th>permission</th>\n",
       "      <th>consumers</th>\n",
       "      <th>data</th>\n",
       "      <th>history</th>\n",
       "      <th>just</th>\n",
       "      <th>able</th>\n",
       "      <th>...</th>\n",
       "      <th>broadband</th>\n",
       "      <th>ca</th>\n",
       "      <th>inform</th>\n",
       "      <th>info</th>\n",
       "      <th>increasingly</th>\n",
       "      <th>important</th>\n",
       "      <th>implemented</th>\n",
       "      <th>imagine</th>\n",
       "      <th>clear</th>\n",
       "      <th>week</th>\n",
       "    </tr>\n",
       "  </thead>\n",
       "  <tbody>\n",
       "    <tr>\n",
       "      <th>0</th>\n",
       "      <td>9</td>\n",
       "      <td>8</td>\n",
       "      <td>6</td>\n",
       "      <td>5</td>\n",
       "      <td>4</td>\n",
       "      <td>3</td>\n",
       "      <td>3</td>\n",
       "      <td>3</td>\n",
       "      <td>3</td>\n",
       "      <td>3</td>\n",
       "      <td>...</td>\n",
       "      <td>1</td>\n",
       "      <td>1</td>\n",
       "      <td>1</td>\n",
       "      <td>1</td>\n",
       "      <td>1</td>\n",
       "      <td>1</td>\n",
       "      <td>1</td>\n",
       "      <td>1</td>\n",
       "      <td>1</td>\n",
       "      <td>1</td>\n",
       "    </tr>\n",
       "  </tbody>\n",
       "</table>\n",
       "<p>1 rows × 139 columns</p>\n",
       "</div>"
      ],
      "text/plain": [
       "   providers  internet  rules  browsing  permission  consumers  data  history  \\\n",
       "0          9         8      6         5           4          3     3        3   \n",
       "\n",
       "   just  able  ...   broadband  ca  inform  info  increasingly  important  \\\n",
       "0     3     3  ...           1   1       1     1             1          1   \n",
       "\n",
       "   implemented  imagine  clear  week  \n",
       "0            1        1      1     1  \n",
       "\n",
       "[1 rows x 139 columns]"
      ]
     },
     "execution_count": 49,
     "metadata": {},
     "output_type": "execute_result"
    }
   ],
   "source": [
    "test.T"
   ]
  },
  {
   "cell_type": "code",
   "execution_count": 51,
   "metadata": {
    "collapsed": false
   },
   "outputs": [
    {
     "data": {
      "text/html": [
       "<div>\n",
       "<table border=\"1\" class=\"dataframe\">\n",
       "  <thead>\n",
       "    <tr style=\"text-align: right;\">\n",
       "      <th></th>\n",
       "      <th>the</th>\n",
       "      <th>to</th>\n",
       "      <th>and</th>\n",
       "      <th>providers</th>\n",
       "      <th>internet</th>\n",
       "      <th>that</th>\n",
       "      <th>it</th>\n",
       "      <th>rules</th>\n",
       "      <th>your</th>\n",
       "      <th>from</th>\n",
       "      <th>...</th>\n",
       "      <th>misbehave</th>\n",
       "      <th>era</th>\n",
       "      <th>most</th>\n",
       "      <th>much</th>\n",
       "      <th>need</th>\n",
       "      <th>no</th>\n",
       "      <th>baseline</th>\n",
       "      <th>easy</th>\n",
       "      <th>obama</th>\n",
       "      <th>major</th>\n",
       "    </tr>\n",
       "  </thead>\n",
       "  <tbody>\n",
       "    <tr>\n",
       "      <th>0</th>\n",
       "      <td>0.442819</td>\n",
       "      <td>0.419513</td>\n",
       "      <td>0.349594</td>\n",
       "      <td>0.209757</td>\n",
       "      <td>0.18645</td>\n",
       "      <td>0.18645</td>\n",
       "      <td>0.139838</td>\n",
       "      <td>0.139838</td>\n",
       "      <td>0.139838</td>\n",
       "      <td>0.116531</td>\n",
       "      <td>...</td>\n",
       "      <td>0.023306</td>\n",
       "      <td>0.023306</td>\n",
       "      <td>0.023306</td>\n",
       "      <td>0.023306</td>\n",
       "      <td>0.023306</td>\n",
       "      <td>0.023306</td>\n",
       "      <td>0.023306</td>\n",
       "      <td>0.023306</td>\n",
       "      <td>0.023306</td>\n",
       "      <td>0.023306</td>\n",
       "    </tr>\n",
       "  </tbody>\n",
       "</table>\n",
       "<p>1 rows × 214 columns</p>\n",
       "</div>"
      ],
      "text/plain": [
       "        the        to       and  providers  internet     that        it  \\\n",
       "0  0.442819  0.419513  0.349594   0.209757   0.18645  0.18645  0.139838   \n",
       "\n",
       "      rules      your      from    ...     misbehave       era      most  \\\n",
       "0  0.139838  0.139838  0.116531    ...      0.023306  0.023306  0.023306   \n",
       "\n",
       "       much      need        no  baseline      easy     obama     major  \n",
       "0  0.023306  0.023306  0.023306  0.023306  0.023306  0.023306  0.023306  \n",
       "\n",
       "[1 rows x 214 columns]"
      ]
     },
     "execution_count": 51,
     "metadata": {},
     "output_type": "execute_result"
    }
   ],
   "source": [
    "tTest.T"
   ]
  },
  {
   "cell_type": "markdown",
   "metadata": {},
   "source": [
    "#### Lesson 11 Replication"
   ]
  },
  {
   "cell_type": "code",
   "execution_count": 55,
   "metadata": {
    "collapsed": false
   },
   "outputs": [],
   "source": [
    "import os\n",
    "import pandas as pd\n",
    "os.chdir(\"/Users/adeniyiharrison/Desktop/General Assembly/DS-SF-32/lessons/lesson-11\")\n",
    "df = pd.read_csv(\"stumbleupon.tsv\", delimiter = \"\\t\")"
   ]
  },
  {
   "cell_type": "code",
   "execution_count": 57,
   "metadata": {
    "collapsed": false
   },
   "outputs": [
    {
     "data": {
      "text/plain": [
       "1    3796\n",
       "0    3599\n",
       "Name: label, dtype: int64"
      ]
     },
     "execution_count": 57,
     "metadata": {},
     "output_type": "execute_result"
    }
   ],
   "source": [
    "df[\"label\"].value_counts()"
   ]
  },
  {
   "cell_type": "code",
   "execution_count": 74,
   "metadata": {
    "collapsed": false
   },
   "outputs": [],
   "source": [
    "title = []\n",
    "body = []\n",
    "for x in df[\"boilerplate\"]:\n",
    "    title.append(json.loads(x).get(\"title\", \"\"))\n",
    "    body.append(json.loads(x).get(\"body\", \"\"))\n",
    "\n",
    "df[\"title\"] = title\n",
    "df[\"body\"] = body"
   ]
  },
  {
   "cell_type": "code",
   "execution_count": 93,
   "metadata": {
    "collapsed": false
   },
   "outputs": [
    {
     "data": {
      "text/plain": [
       "array([ 0.67647059,  0.64705882,  0.59375   ])"
      ]
     },
     "execution_count": 93,
     "metadata": {},
     "output_type": "execute_result"
    }
   ],
   "source": [
    "from sklearn.feature_extraction.text import CountVectorizer, TfidfVectorizer\n",
    "countVect = CountVectorizer(stop_words = \"english\")\n",
    "countVect.fit(df[\"title\"].fillna(\" \"))\n",
    "\n",
    "X = countVect.transform(df[\"title\"][:100].fillna(\" \")).A\n",
    "y = df[\"label\"][:100]\n",
    "\n",
    "from sklearn.ensemble import RandomForestClassifier\n",
    "from sklearn.model_selection import GridSearchCV, cross_val_score\n",
    "\n",
    "random = RandomForestClassifier(n_estimators = 20)\n",
    "\n",
    "cross_val_score(random, X, y, scoring = \"accuracy\")"
   ]
  },
  {
   "cell_type": "code",
   "execution_count": 97,
   "metadata": {
    "collapsed": false
   },
   "outputs": [
    {
     "name": "stdout",
     "output_type": "stream",
     "text": [
      "Accuracy:  0.62\n"
     ]
    }
   ],
   "source": [
    "tVect = TfidfVectorizer(stop_words = \"english\")\n",
    "tVect.fit(df[\"title\"].fillna(\" \"))\n",
    "X = tVect.transform(df[\"title\"].fillna(\" \")).A\n",
    "y = df[\"label\"]\n",
    "\n",
    "from sklearn.model_selection import KFold\n",
    "\n",
    "\n",
    "\n",
    "gs = GridSearchCV(estimator = RandomForestClassifier(), param_grid = {\"n_estimators\": np.arange(10,21).tolist()},\n",
    "                 cv = KFold(n_splits = 5))\n",
    "\n",
    "gs.fit(X[100:300],y[100:300])\n",
    "algo = gs.best_estimator_\n",
    "\n",
    "print(\"Accuracy: \", algo.score(X[:100], y[:100]))"
   ]
  },
  {
   "cell_type": "markdown",
   "metadata": {},
   "source": [
    "<span style=\"font-size:1.5em; color:blue\">NLP</span>\n",
    "\n",
    "I took a random uber article text and saved it into a string. Use what you have learned from NLP and figure out the best way to describe the entire article."
   ]
  },
  {
   "cell_type": "code",
   "execution_count": 1,
   "metadata": {
    "collapsed": true
   },
   "outputs": [],
   "source": [
    "uber_text = \"Embattled ride-hailing company Uber pulled a rare move Tuesday and held a press call to address the state of the company. The call came on the heels of the departure of Uber President Jeff Jones, who left after only six months on the job. Following allegations of pervasive sexual harassment at the company, Uber seems to have made a conscious decision to have the conversation led by female leaders within the company: board member Arianna Huffington; regional general manager for the U.S. and Canada Rachel Holt; and chief human resources officer Liane Hornsey. In her opening remarks, Huffington said that the intent of the call was not to create yet more headlines. Rather it’s to try and explain how we’re thinking about the changes that are necessary to make Uber a truly great company. It was an acknowledgement that recent news about the company has been a significant hit to its reputation. Over the last few months, Uber has had to contend with allegations of systemic sexism and sexual harassment after former engineer Susan Fowler shared a damning account of her year-long employment at the company. Questions around Ubers use of technology to target law enforcement officials came to light, as did a video of CEO Travis Kalanick berating an Uber driver. The company is also currently embroiled in a lawsuit with Alphabet, which has alleged that Uber stole self-driving vehicle technology. Related: 3 Lessons Every CEO Can Learn From Travis Kalanicks Emotional Meeting With Ubers Female Engineers Huffington said that she and the board were confident in Kalanick and he would be saying on as CEO, but Hornsey signaled that Kalanick may no longer occupy most of the company's spotlight. Uber is disruptive -- and disruption demands the confidence to be bold. What I have seen though, is that this has translated internally to what I would call a cult of the individual, Hornsey said. We now need to expend genuine effort ensuring the individual is never more important than the team -- not ever. Huffington was more blunt: There can be no room at Uber for brilliant jerks and zero tolerance for anything but totally respectable behavior in an equitable workplace environment.” Its possible that the controversies and the calls to #DeleteUber did not affect the company’s bottom line (despite reports that half a million users deleted the app). Holt said that as of the week of March 12, “riders in the U.S. took more trips with Uber than ever before.” But if your company was built on a foundation of breaking things and brilliant jerks, its one thing to say you’re going to change, and it’s another to actually put those promises into action and for customers and future job candidates to believe you. Related: Before You Delete Your Account, Uber Wants You to Know Its Deeply Hurting Its a particularly difficult situation because their original ethos and image that they presented was [that of] a challenger, says Adam Galinsky, a professor of business and management at Columbia Business School. There was a sense of competitiveness and brashness. That works well when you’re the insurgent. It becomes extremely problematic when you are now in a position of authority. Galinsky added that Uber’s position as a leader in its industry comes with responsibility. But he says it might be tough to rehabilitate the company’s image at this juncture because that culture and ethos is such an entrenched part of its identity -- and what attracted a large proportion of its workforce, which in turn, was a big part of the problem. So how does Uber change after the gauntlet it has run the last few months? Galinsky says to start with a sincere apology: There are three elements to a successful apology. The first is to accept responsibility. Theyve done that. The second thing is to show some type of remorse, which I think they’ve also done. But the third thing is that you have to make some type of clear, tangible and visible commitment to change in practices. I think at this point, saying 'we’re committed to change' isn’t enough.” To that end, Uber has plans to release its first diversity report by the end of March and updated 1,500 job descriptions to eliminate any sort of “unconscious bias,” Hornsey said in the press call. She also relayed that she and her team will be rolling out training programs about diversity and inclusion, including interview training for women in tech to ensure that all our female employees are really well equipped to be involved. Galinsky adds that people also need to see that there are consequences for unacceptable behavior. In many instances, that can manifest as a symbolic firing. At some point, he says, Uber needs to let someone go who has acted in such a way that might have been consistent with the old culture but isn’t consistent with the present.\""
   ]
  },
  {
   "cell_type": "code",
   "execution_count": 17,
   "metadata": {
    "collapsed": false
   },
   "outputs": [
    {
     "name": "stdout",
     "output_type": "stream",
     "text": [
      "Counter({'the': 41, 'to': 34, 'of': 24, 'a': 23, 'and': 23, 'that': 22, 'uber': 14, 'in': 13, 'its': 9, 'is': 8, 'with': 8, 'at': 7, 'was': 7, 'has': 7, 'but': 6, 'be': 6, 'for': 6, 'as': 5, 'have': 5, 'are': 5, 'call': 4, 'there': 4, 'company': 4, 'i': 4, 'more': 4, 'said': 4, 'you': 4, 'also': 4, 'it': 4, 'an': 4, 'on': 4, 'female': 3, 'says': 3, 'not': 3, 'huffington': 3, 'galinsky': 3, 'about': 3, 'what': 3, 'hornsey': 3, 'her': 3, 'after': 3, 'kalanick': 3, 'which': 3, 'company.': 3, 'some': 3, 'this': 3, 'he': 3, 'thing': 3, 'can': 3, '--': 3, 'she': 3, 'training': 2, 'when': 2, 'ceo': 2, 'sexual': 2, 'would': 2, 'who': 2, 'because': 2, 'ubers': 2, 'first': 2, 'company’s': 2, 'how': 2, 'consistent': 2, 'you’re': 2, 'last': 2, 'few': 2, 'allegations': 2, 'type': 2, 'point,': 2, 'by': 2, 'press': 2, 'than': 2, 'did': 2, 'harassment': 2, 'business': 2, 'your': 2, 'march': 2, 'saying': 2, 'need': 2, 'change': 2, 'image': 2, 'board': 2, 'it’s': 2, 'job': 2, 'might': 2, 'now': 2, 'make': 2, 'isn’t': 2, 'travis': 2, 'been': 2, 'diversity': 2, 'related:': 2, 'well': 2, 'brilliant': 2, 'ethos': 2, 'culture': 2, 'no': 2, 'think': 2, 'such': 2, 'responsibility.': 2, 'position': 2, 'team': 2, 'u.s.': 2, 'part': 2, 'came': 2, 'systemic': 1, 'start': 1, 'translated': 1, 'held': 1, 'disruption': 1, 'leader': 1, 'occupy': 1, 'sense': 1, 'we’re': 1, 'holt;': 1, 'ever': 1, 'controversies': 1, 'third': 1, 'inclusion,': 1, 'school.': 1, 'took': 1, 'human': 1, 'breaking': 1, 'someone': 1, 'hurting': 1, 'sexism': 1, 'jeff': 1, 'spotlight.': 1, 'tolerance': 1, 'believe': 1, 'call.': 1, 'target': 1, 'huffington;': 1, 'calls': 1, 'intent': 1, 'ensure': 1, 'report': 1, 'year-long': 1, 'competitiveness': 1, 'enough.”': 1, 'conversation': 1, 'questions': 1, 'proportion': 1, 'within': 1, 'theyve': 1, 'does': 1, 'light,': 1, 'bold.': 1, 'move': 1, 'way': 1, 'comes': 1, 'sort': 1, 'customers': 1, 'significant': 1, 'that.': 1, 'visible': 1, 'enforcement': 1, 'state': 1, 'great': 1, 'plans': 1, 'opening': 1, 'three': 1, 'seen': 1, 'liane': 1, 'clear,': 1, 'headlines.': 1, 'account': 1, 'company,': 1, 'reports': 1, 'officials': 1, 'million': 1, 'will': 1, 'present.': 1, 'release': 1, 'contend': 1, 'turn,': 1, 'following': 1, 'months,': 1, 'becomes': 1, 'our': 1, 'six': 1, '(despite': 1, '12,': 1, 'member': 1, 'added': 1, 'tough': 1, '“riders': 1, 'every': 1, 'signaled': 1, 'end,': 1, 'brashness.': 1, 'tangible': 1, 'behavior.': 1, 'line': 1, 'tuesday': 1, 'embattled': 1, 'departure': 1, 'rehabilitate': 1, 'one': 1, 'half': 1, 'genuine': 1, 'chief': 1, 'symbolic': 1, 'bias,”': 1, 'built': 1, 'made': 1, 'learn': 1, 'apology:': 1, 'they’ve': 1, 'kalanicks': 1, 'said.': 1, 'heels': 1, 'relayed': 1, 'going': 1, 'say': 1, 'users': 1, 'jones,': 1, 'had': 1, 'into': 1, 'galinsky,': 1, 'pervasive': 1, 'sincere': 1, 'recent': 1, 'know': 1, 'change,': 1, 'acknowledgement': 1, 'insurgent.': 1, 'foundation': 1, '#deleteuber': 1, 'management': 1, '[that': 1, 'demands': 1, 'internally': 1, 'those': 1, 'apology.': 1, 'unacceptable': 1, 'situation': 1, 'people': 1, 'confident': 1, 'instances,': 1, 'juncture': 1, 'tech': 1, 'use': 1, 'gauntlet': 1, 'wants': 1, 'of]': 1, 'respectable': 1, 'shared': 1, 'extremely': 1, 'alphabet,': 1, 'many': 1, 'effort': 1, 'trips': 1, 'individual,': 1, 'their': 1, 'general': 1, 'if': 1, 'rachel': 1, 'accept': 1, 'app).': 1, 'you.': 1, 'all': 1, 'seems': 1, 'important': 1, 'job.': 1, 'professor': 1, 'fowler': 1, 'before.”': 1, 'possible': 1, 'reputation.': 1, 'yet': 1, 'driver.': 1, 'embroiled': 1, 'berating': 1, 'thinking': 1, 'expend': 1, 'arianna': 1, 'ride-hailing': 1, 'any': 1, 'successful': 1, 'from': 1, 'we': 1, 'president': 1, 'law': 1, 'firing.': 1, 'ever.': 1, 'says,': 1, 'anything': 1, 'bottom': 1, 'identity': 1, 'room': 1, 'canada': 1, 'workforce,': 1, 'second': 1, 'actually': 1, 'adds': 1, 'technology.': 1, 'workplace': 1, 'alleged': 1, 'attracted': 1, 'engineer': 1, 'remarks,': 1, 'address': 1, 'try': 1, 'former': 1, 'company:': 1, 'particularly': 1, 'holt': 1, 'necessary': 1, 'remorse,': 1, 'behavior': 1, 'things': 1, 'go': 1, 'action': 1, 'really': 1, 'zero': 1, 'disruptive': 1, 'programs': 1, 'explain': 1, 'original': 1, 'they': 1, 'never': 1, 'months': 1, 'so': 1, 'account,': 1, '“unconscious': 1, 'lawsuit': 1, 'done.': 1, 'out': 1, 'uber’s': 1, 'employment': 1, 'involved.': 1, 'individual': 1, 'truly': 1, 'create': 1, 'problematic': 1, 'interview': 1, 'left': 1, 'done': 1, 'consequences': 1, 'self-driving': 1, 'around': 1, 'entrenched': 1, 'including': 1, 'totally': 1, 'manifest': 1, 'regional': 1, 'updated': 1, 'confidence': 1, 'led': 1, 'damning': 1, 'elements': 1, 'blunt:': 1, 'practices.': 1, 'adam': 1, 'promises': 1, 'big': 1, 'technology': 1, 'acted': 1, 'months?': 1, 'news': 1, 'industry': 1, 'most': 1, 'equitable': 1, 'ensuring': 1, 'deeply': 1, 'changes': 1, 'equipped': 1, 'women': 1, 'rolling': 1, 'challenger,': 1, 'emotional': 1, 'committed': 1, 'old': 1, 'stole': 1, 'currently': 1, 'commitment': 1, 'deleted': 1, 'over': 1, 'employees': 1, 'manager': 1, 'ceo,': 1, 'meeting': 1, 'works': 1, 'difficult': 1, \"change'\": 1, 'susan': 1, 'decision': 1, 'presented': 1, '1,500': 1, 'delete': 1, 'may': 1, 'columbia': 1, 'put': 1, 'lessons': 1, 'hornsey.': 1, 'jerks,': 1, 'candidates': 1, 'run': 1, 'before': 1, 'needs': 1, 'only': 1, 'pulled': 1, \"'we’re\": 1, 'video': 1, 'resources': 1, 'end': 1, 'leaders': 1, 'jerks': 1, 'problem.': 1, 'authority.': 1, 'though,': 1, 'were': 1, 'another': 1, 'rather': 1, 'show': 1, 'officer': 1, 'rare': 1, 'future': 1, 'cult': 1, 'large': 1, 'week': 1, '3': 1, 'descriptions': 1, 'longer': 1, 'conscious': 1, \"company's\": 1, 'eliminate': 1, 'environment.”': 1, 'vehicle': 1, 'engineers': 1, 'see': 1, 'hit': 1, 'affect': 1, 'let': 1})\n"
     ]
    }
   ],
   "source": [
    "### Run this code\n",
    "from collections import Counter\n",
    "print(Counter(uber_text.lower().split()))"
   ]
  },
  {
   "cell_type": "markdown",
   "metadata": {},
   "source": [
    "<span style=\"font-size:1.2em; color:orange\">Run a CountVectorizer and edit the stop_words manually to figure out what the article is emphasizing</span>\n",
    "\n",
    "```\n",
    "ie stop_words=['I', 'we', 'you', 'said', etc...]\n",
    "```"
   ]
  },
  {
   "cell_type": "code",
   "execution_count": 14,
   "metadata": {
    "collapsed": false
   },
   "outputs": [],
   "source": [
    "import pandas as pd\n",
    "from sklearn.feature_extraction.text import CountVectorizer\n",
    "cvec = CountVectorizer(stop_words='english')\n",
    "cvec.fit([uber_text])\n",
    "df  = pd.DataFrame(cvec.transform([uber_text]).todense(),\n",
    "             columns=cvec.get_feature_names())"
   ]
  },
  {
   "cell_type": "code",
   "execution_count": 15,
   "metadata": {
    "collapsed": false
   },
   "outputs": [
    {
     "data": {
      "text/html": [
       "<div>\n",
       "<table border=\"1\" class=\"dataframe\">\n",
       "  <thead>\n",
       "    <tr style=\"text-align: right;\">\n",
       "      <th></th>\n",
       "      <th>0</th>\n",
       "    </tr>\n",
       "  </thead>\n",
       "  <tbody>\n",
       "    <tr>\n",
       "      <th>uber</th>\n",
       "      <td>15</td>\n",
       "    </tr>\n",
       "    <tr>\n",
       "      <th>company</th>\n",
       "      <td>12</td>\n",
       "    </tr>\n",
       "    <tr>\n",
       "      <th>said</th>\n",
       "      <td>5</td>\n",
       "    </tr>\n",
       "    <tr>\n",
       "      <th>change</th>\n",
       "      <td>4</td>\n",
       "    </tr>\n",
       "    <tr>\n",
       "      <th>huffington</th>\n",
       "      <td>4</td>\n",
       "    </tr>\n",
       "    <tr>\n",
       "      <th>says</th>\n",
       "      <td>4</td>\n",
       "    </tr>\n",
       "    <tr>\n",
       "      <th>galinsky</th>\n",
       "      <td>4</td>\n",
       "    </tr>\n",
       "    <tr>\n",
       "      <th>hornsey</th>\n",
       "      <td>4</td>\n",
       "    </tr>\n",
       "    <tr>\n",
       "      <th>thing</th>\n",
       "      <td>3</td>\n",
       "    </tr>\n",
       "    <tr>\n",
       "      <th>ceo</th>\n",
       "      <td>3</td>\n",
       "    </tr>\n",
       "  </tbody>\n",
       "</table>\n",
       "</div>"
      ],
      "text/plain": [
       "             0\n",
       "uber        15\n",
       "company     12\n",
       "said         5\n",
       "change       4\n",
       "huffington   4\n",
       "says         4\n",
       "galinsky     4\n",
       "hornsey      4\n",
       "thing        3\n",
       "ceo          3"
      ]
     },
     "execution_count": 15,
     "metadata": {},
     "output_type": "execute_result"
    }
   ],
   "source": [
    "df.transpose().sort_values(0, ascending = False).head(10)"
   ]
  },
  {
   "cell_type": "markdown",
   "metadata": {},
   "source": [
    "<span style=\"font-size:1.2em; color:orange\">Do the same for TFIDF</span>"
   ]
  },
  {
   "cell_type": "code",
   "execution_count": 48,
   "metadata": {
    "collapsed": false
   },
   "outputs": [
    {
     "data": {
      "text/html": [
       "<div>\n",
       "<table border=\"1\" class=\"dataframe\">\n",
       "  <thead>\n",
       "    <tr style=\"text-align: right;\">\n",
       "      <th></th>\n",
       "      <th>uber_text</th>\n",
       "    </tr>\n",
       "  </thead>\n",
       "  <tbody>\n",
       "    <tr>\n",
       "      <th>the</th>\n",
       "      <td>0.503229</td>\n",
       "    </tr>\n",
       "    <tr>\n",
       "      <th>to</th>\n",
       "      <td>0.417311</td>\n",
       "    </tr>\n",
       "    <tr>\n",
       "      <th>of</th>\n",
       "      <td>0.306847</td>\n",
       "    </tr>\n",
       "    <tr>\n",
       "      <th>that</th>\n",
       "      <td>0.294573</td>\n",
       "    </tr>\n",
       "    <tr>\n",
       "      <th>and</th>\n",
       "      <td>0.282299</td>\n",
       "    </tr>\n",
       "    <tr>\n",
       "      <th>uber</th>\n",
       "      <td>0.184108</td>\n",
       "    </tr>\n",
       "    <tr>\n",
       "      <th>in</th>\n",
       "      <td>0.159560</td>\n",
       "    </tr>\n",
       "    <tr>\n",
       "      <th>company</th>\n",
       "      <td>0.147286</td>\n",
       "    </tr>\n",
       "    <tr>\n",
       "      <th>its</th>\n",
       "      <td>0.110465</td>\n",
       "    </tr>\n",
       "    <tr>\n",
       "      <th>with</th>\n",
       "      <td>0.098191</td>\n",
       "    </tr>\n",
       "  </tbody>\n",
       "</table>\n",
       "</div>"
      ],
      "text/plain": [
       "         uber_text\n",
       "the       0.503229\n",
       "to        0.417311\n",
       "of        0.306847\n",
       "that      0.294573\n",
       "and       0.282299\n",
       "uber      0.184108\n",
       "in        0.159560\n",
       "company   0.147286\n",
       "its       0.110465\n",
       "with      0.098191"
      ]
     },
     "execution_count": 48,
     "metadata": {},
     "output_type": "execute_result"
    }
   ],
   "source": [
    "from sklearn.feature_extraction.text import TfidfVectorizer\n",
    "tvec = TfidfVectorizer(stop_words=None)\n",
    "tvec.fit([uber_text])\n",
    "\n",
    "df  = pd.DataFrame(tvec.transform([uber_text]).todense(),\n",
    "                   columns=tvec.get_feature_names(),\n",
    "                   index=['uber_text'])\n",
    "\n",
    "df.transpose().sort_values('uber_text', ascending=False).head(10)"
   ]
  },
  {
   "cell_type": "markdown",
   "metadata": {},
   "source": [
    "<span style=\"font-size:3em; color:green\">Week 7 Prework</span>"
   ]
  },
  {
   "cell_type": "markdown",
   "metadata": {},
   "source": [
    "<span style = \"font-family:lucida console; font-size:25px\"> Test CSS formatting using markdown </span>"
   ]
  },
  {
   "cell_type": "markdown",
   "metadata": {},
   "source": [
    "### LDA"
   ]
  },
  {
   "cell_type": "markdown",
   "metadata": {},
   "source": [
    "If you haven't already, work on the extra tutorial here: http://localhost:8888/tree/review%20and%20prework/extra_tutorials/NLP-LDA\n",
    "\n",
    "Generally speaking, LDA is dimensionality reduction, which on a high level means that it will reduce the amount of the data and combine words together to create a new topic, hence it is some times referred to topic modeling."
   ]
  },
  {
   "cell_type": "markdown",
   "metadata": {},
   "source": [
    "### Clustering"
   ]
  },
  {
   "cell_type": "markdown",
   "metadata": {},
   "source": [
    "I have uploaded tutorials for 3 different clusterings, also written by my old instructors: http://localhost:8888/tree/review%20and%20prework/extra_tutorials/Clustering\n",
    "\n",
    "The clustering explained in these tutorials are:\n",
    "1. kMeans\n",
    "2. Hierarchical Clustering (aka Agglomerative and Divisive)\n",
    "3. DBSCAN\n",
    "\n",
    "kMeans is very similar to kNearestNeighbors. It is the simplest unsupervised learning, so even though it does the job, it isn't very intuitive. The user has to decide k centriods (the starting node) and can be placed as the user likes.\n",
    "\n",
    "Hierarchical Clustering is similar to Decision Trees. They will break down like brackets based off of \"decisions.\"\n",
    "\n",
    "DBSCAN is the most widely used clustering technique because it is intuitive and does a very good job. It bases on density of area and density connectivity to calculate how many clusters there are. You will still have to set and play around with the eigenvalues for the model to work with, but it is a very strong clustering technique."
   ]
  }
 ],
 "metadata": {
  "kernelspec": {
   "display_name": "Python 3",
   "language": "python",
   "name": "python3"
  },
  "language_info": {
   "codemirror_mode": {
    "name": "ipython",
    "version": 3
   },
   "file_extension": ".py",
   "mimetype": "text/x-python",
   "name": "python",
   "nbconvert_exporter": "python",
   "pygments_lexer": "ipython3",
   "version": "3.5.2"
  }
 },
 "nbformat": 4,
 "nbformat_minor": 2
}
