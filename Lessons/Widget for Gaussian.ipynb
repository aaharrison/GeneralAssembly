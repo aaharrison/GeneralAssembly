{
 "cells": [
  {
   "cell_type": "code",
   "execution_count": 1,
   "metadata": {
    "collapsed": false
   },
   "outputs": [],
   "source": [
    "import os\n",
    "import pandas as pd\n",
    "import numpy as np\n",
    "from scipy import stats\n",
    "import matplotlib.pyplot as plt\n",
    "%matplotlib inline\n",
    "import seaborn as sns\n",
    "\n",
    "\n",
    "from ipywidgets import interact, interactive, fixed\n",
    "import ipywidgets as widgets\n",
    "\n"
   ]
  },
  {
   "cell_type": "code",
   "execution_count": 2,
   "metadata": {
    "collapsed": false
   },
   "outputs": [
    {
     "data": {
      "text/plain": [
       "array([  8.73098651,  10.67137351,   9.13400411,  11.11018398,\n",
       "         9.27527115,  10.68397893,   9.70891839,  11.11681653,\n",
       "        10.10392229,  10.91330016])"
      ]
     },
     "execution_count": 2,
     "metadata": {},
     "output_type": "execute_result"
    }
   ],
   "source": [
    "stats.norm.rvs(10, size=10)"
   ]
  },
  {
   "cell_type": "code",
   "execution_count": 17,
   "metadata": {
    "collapsed": false
   },
   "outputs": [],
   "source": [
    "import statsmodels.stats.weightstats as sm\n",
    "\n",
    "def plot_gaussian(u=0, n=10000, sd = 1, breaks=100):\n",
    "    \n",
    "    #fig, ax = plt.subplots(1, 1)\n",
    "    fig, ax = plt.subplots(figsize=(20,12))\n",
    "    x = np.linspace(stats.norm.ppf(0.01),\n",
    "                 stats.norm.ppf(0.99), 100)\n",
    "    \n",
    "\n",
    "    r = stats.norm.rvs(size=n, scale=sd).tolist()\n",
    "    \n",
    "    newr = [i+u for i in r]\n",
    "    #newr = np.array(newr)\n",
    "   \n",
    "    ax.hist(r, bins=breaks, normed=True, histtype='stepfilled', color=['teal'], alpha=0.2)\n",
    "    \n",
    "    if u!=0:\n",
    "        ax.hist(newr, bins=breaks, normed=True, histtype='stepfilled', color=['red'], alpha=0.2)\n",
    "    else:\n",
    "        pass\n",
    "    \n",
    "    ax.legend(loc='best', frameon=False)\n",
    "    ax.set_ylabel('normal curve with mean $x$')\n",
    "    ax.set_xlabel('$x$')\n",
    "    \n",
    "    result = sm.ttest_ind(r, newr)\n",
    "    \n",
    "    print(np.mean(newr),len(newr), np.mean(r), len(r))\n",
    "\n",
    "    print(\"t = \", np.round(result[0], 3))\n",
    "    print(\"df = \", np.round(result[2], 3))\n",
    "    print(\"p = \", np.round(result[1], 5))\n",
    " \n",
    "    ax.legend()\n"
   ]
  },
  {
   "cell_type": "code",
   "execution_count": 29,
   "metadata": {
    "collapsed": false,
    "scrolled": false
   },
   "outputs": [
    {
     "name": "stderr",
     "output_type": "stream",
     "text": [
      "//anaconda/lib/python3.5/site-packages/matplotlib/axes/_axes.py:519: UserWarning: No labelled objects found. Use label='...' kwarg on individual plots.\n",
      "  warnings.warn(\"No labelled objects found. \"\n"
     ]
    },
    {
     "name": "stdout",
     "output_type": "stream",
     "text": [
      "9.9634618149 100 -0.0365381851042 100\n",
      "t =  -37.952\n",
      "df =  198.0\n",
      "p =  0.0\n"
     ]
    },
    {
     "data": {
      "image/png": "[encoded data removed]",
      "text/plain": [
       "<matplotlib.figure.Figure at 0x117564b70>"
      ]
     },
     "metadata": {},
     "output_type": "display_data"
    }
   ],
   "source": [
    "plot_gaussian(u = 10, sd = 2, n=100, breaks=100)"
   ]
  },
  {
   "cell_type": "code",
   "execution_count": 15,
   "metadata": {
    "collapsed": false
   },
   "outputs": [
    {
     "name": "stdout",
     "output_type": "stream",
     "text": [
      "t =  -7.289\n",
      "df =  198.0\n",
      "p =  0.0\n"
     ]
    }
   ],
   "source": [
    "import statsmodels.stats.weightstats as sm\n",
    "\n",
    "r = stats.norm.rvs(size=100)\n",
    "\n",
    "newr = [i+1 for i in r.tolist()]\n",
    "newr = np.array(newr)\n",
    "   \n",
    "\n",
    "result = sm.ttest_ind(r, newr)\n",
    "\n",
    "print \"t = \", np.round(result[0], 3)\n",
    "print \"df = \", np.round(result[2], 3)\n",
    "print \"p = \", np.round(result[1], 3)\n"
   ]
  },
  {
   "cell_type": "code",
   "execution_count": 16,
   "metadata": {
    "collapsed": false
   },
   "outputs": [
    {
     "name": "stdout",
     "output_type": "stream",
     "text": [
      "t = 9.97951979622\n",
      "df =  99.0\n",
      "p =  6.06252144734e-17\n"
     ]
    }
   ],
   "source": [
    "result = sm.ttost_paired(newr, np.zeros(len(newr)), \n",
    "                         low=np.mean(np.zeros(len(newr))), \n",
    "                         upp=np.mean(newr))\n",
    "\n",
    "print \"t =\", result[1][0]\n",
    "print \"df = \", result[1][2]\n",
    "print \"p = \", result[1][1]"
   ]
  },
  {
   "cell_type": "code",
   "execution_count": 142,
   "metadata": {
    "collapsed": false
   },
   "outputs": [
    {
     "data": {
      "text/plain": [
       "(0.5, (10.399067200544462, 7.3806484211266908e-18, 99.0), (0.0, 0.5, 99.0))"
      ]
     },
     "execution_count": 142,
     "metadata": {},
     "output_type": "execute_result"
    }
   ],
   "source": [
    "result"
   ]
  },
  {
   "cell_type": "code",
   "execution_count": null,
   "metadata": {
    "collapsed": true
   },
   "outputs": [],
   "source": []
  },
  {
   "cell_type": "code",
   "execution_count": null,
   "metadata": {
    "collapsed": true
   },
   "outputs": [],
   "source": []
  },
  {
   "cell_type": "code",
   "execution_count": 29,
   "metadata": {
    "collapsed": false
   },
   "outputs": [],
   "source": []
  },
  {
   "cell_type": "code",
   "execution_count": null,
   "metadata": {
    "collapsed": false
   },
   "outputs": [],
   "source": []
  },
  {
   "cell_type": "code",
   "execution_count": 31,
   "metadata": {
    "collapsed": false
   },
   "outputs": [],
   "source": []
  },
  {
   "cell_type": "code",
   "execution_count": null,
   "metadata": {
    "collapsed": false
   },
   "outputs": [],
   "source": []
  },
  {
   "cell_type": "code",
   "execution_count": null,
   "metadata": {
    "collapsed": false
   },
   "outputs": [],
   "source": []
  },
  {
   "cell_type": "code",
   "execution_count": null,
   "metadata": {
    "collapsed": false
   },
   "outputs": [],
   "source": []
  },
  {
   "cell_type": "code",
   "execution_count": null,
   "metadata": {
    "collapsed": false
   },
   "outputs": [],
   "source": []
  },
  {
   "cell_type": "code",
   "execution_count": null,
   "metadata": {
    "collapsed": false
   },
   "outputs": [],
   "source": []
  },
  {
   "cell_type": "code",
   "execution_count": null,
   "metadata": {
    "collapsed": false
   },
   "outputs": [],
   "source": []
  },
  {
   "cell_type": "code",
   "execution_count": null,
   "metadata": {
    "collapsed": false
   },
   "outputs": [],
   "source": []
  },
  {
   "cell_type": "code",
   "execution_count": null,
   "metadata": {
    "collapsed": false
   },
   "outputs": [],
   "source": []
  },
  {
   "cell_type": "code",
   "execution_count": null,
   "metadata": {
    "collapsed": true
   },
   "outputs": [],
   "source": []
  },
  {
   "cell_type": "code",
   "execution_count": null,
   "metadata": {
    "collapsed": true
   },
   "outputs": [],
   "source": []
  },
  {
   "cell_type": "code",
   "execution_count": null,
   "metadata": {
    "collapsed": true
   },
   "outputs": [],
   "source": []
  },
  {
   "cell_type": "code",
   "execution_count": null,
   "metadata": {
    "collapsed": true
   },
   "outputs": [],
   "source": []
  },
  {
   "cell_type": "code",
   "execution_count": null,
   "metadata": {
    "collapsed": true
   },
   "outputs": [],
   "source": []
  }
 ],
 "metadata": {
  "kernelspec": {
   "display_name": "Python 3",
   "language": "python",
   "name": "python3"
  },
  "language_info": {
   "codemirror_mode": {
    "name": "ipython",
    "version": 3
   },
   "file_extension": ".py",
   "mimetype": "text/x-python",
   "name": "python",
   "nbconvert_exporter": "python",
   "pygments_lexer": "ipython3",
   "version": "3.5.2"
  }
 },
 "nbformat": 4,
 "nbformat_minor": 0
}
