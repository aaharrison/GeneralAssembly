{
 "cells": [
  {
   "cell_type": "code",
   "execution_count": 1,
   "metadata": {
    "collapsed": false
   },
   "outputs": [
    {
     "name": "stderr",
     "output_type": "stream",
     "text": [
      "//anaconda/lib/python3.5/site-packages/sklearn/cross_validation.py:44: DeprecationWarning: This module was deprecated in version 0.18 in favor of the model_selection module into which all the refactored classes and functions are moved. Also note that the interface of the new CV iterators are different from that of this module. This module will be removed in 0.20.\n",
      "  \"This module will be removed in 0.20.\", DeprecationWarning)\n"
     ]
    }
   ],
   "source": [
    "import os\n",
    "import datetime\n",
    "import numpy as np\n",
    "import pandas as pd\n",
    "import seaborn as sns\n",
    "import matplotlib.pyplot as plt\n",
    "%matplotlib inline\n",
    "\n",
    "from sklearn import neighbors, cross_validation, feature_selection\n",
    "from sklearn.preprocessing import LabelEncoder, OneHotEncoder\n",
    "from sklearn.model_selection import GridSearchCV, train_test_split\n",
    "from sklearn.linear_model import LinearRegression, LogisticRegression\n",
    "from sklearn.metrics import classification_report, confusion_matrix, mean_squared_error"
   ]
  },
  {
   "cell_type": "code",
   "execution_count": 2,
   "metadata": {
    "collapsed": false
   },
   "outputs": [],
   "source": [
    "os.chdir(\"/Users/adeniyiharrison/Desktop/Traffic Stop Data\")\n",
    "df = pd.read_csv(\"connecticut-r2.csv\", low_memory = False)"
   ]
  },
  {
   "cell_type": "code",
   "execution_count": 3,
   "metadata": {
    "collapsed": false
   },
   "outputs": [
    {
     "name": "stdout",
     "output_type": "stream",
     "text": [
      "<class 'pandas.core.frame.DataFrame'>\n",
      "RangeIndex: 586849 entries, 0 to 586848\n",
      "Data columns (total 42 columns):\n",
      "CreatedDate                              586849 non-null object\n",
      "ProfileNo                                586849 non-null int64\n",
      "OrganizationIdentificationID             586849 non-null object\n",
      "Department Name                          586849 non-null object\n",
      "OrganizationActivityText                 586849 non-null object\n",
      "ReportingOfficerIdentificationID         586849 non-null object\n",
      "InterventionIdentificationID             586825 non-null object\n",
      "IdentificationCategoryDescriptionText    586849 non-null object\n",
      "InterventionDate                         586849 non-null object\n",
      "Month                                    586849 non-null object\n",
      "SubjectRaceCode                          586849 non-null object\n",
      "SubjectEthnicityCode                     586849 non-null object\n",
      "SubjectSexCode                           586849 non-null object\n",
      "SubjectAge                               586783 non-null float64\n",
      "ResidentIndicator                        586849 non-null bool\n",
      "TownRecidentIndicator                    586848 non-null object\n",
      "InterventionLocationName                 586848 non-null object\n",
      "InterventionLocationDescriptionText      586593 non-null object\n",
      "InterventionLocationLatitude             563553 non-null object\n",
      "InterventionLocationLongitude            563553 non-null object\n",
      "InterventionReasonCode                   586849 non-null object\n",
      "InterventionTechniqueCode                586849 non-null object\n",
      "InterventionDurationCode                 586849 non-null int64\n",
      "TowedIndicator                           586849 non-null bool\n",
      "StatuteCodeIdentificationID              586653 non-null object\n",
      "StatuteReason                            586849 non-null object\n",
      "StatutatoryCitation                      93230 non-null object\n",
      "VehicleSearchedIndicator                 586849 non-null bool\n",
      "SearchAuthorizationCode                  586849 non-null object\n",
      "ContrabandIndicator                      586849 non-null bool\n",
      "CustodialArrestIndicator                 586849 non-null bool\n",
      "InterventionDispositionCode              586849 non-null object\n",
      "InterventionDispositionDate              31761 non-null object\n",
      "InterventionDispositionReasonText        31786 non-null object\n",
      "IsStatuteCodeValid                       0 non-null float64\n",
      "IsStatutatoryCitationValid               0 non-null float64\n",
      "IsaTest                                  586849 non-null bool\n",
      "RecordCount                              586849 non-null int64\n",
      "SourceId                                 586849 non-null object\n",
      "SourceReferenceId                        586849 non-null object\n",
      "InterventionDateTime                     586849 non-null object\n",
      "InterventionTime                         586849 non-null object\n",
      "dtypes: bool(6), float64(3), int64(3), object(30)\n",
      "memory usage: 164.5+ MB\n"
     ]
    }
   ],
   "source": [
    "df.info()"
   ]
  },
  {
   "cell_type": "markdown",
   "metadata": {},
   "source": [
    "#### Data Clean"
   ]
  },
  {
   "cell_type": "code",
   "execution_count": 4,
   "metadata": {
    "collapsed": false
   },
   "outputs": [],
   "source": [
    "dateTime = []\n",
    "for x in df[\"CreatedDate\"]:\n",
    "    try:\n",
    "        dateTime.append(datetime.datetime.strptime(x, \"%m/%d/%y %H:%M\"))\n",
    "    except:\n",
    "        dateTime.append(datetime.datetime.strptime(x, \"%m-%d-%y\"))\n",
    "\n",
    "df[\"CreatedDate\"] = dateTime"
   ]
  },
  {
   "cell_type": "code",
   "execution_count": 7,
   "metadata": {
    "collapsed": false
   },
   "outputs": [
    {
     "data": {
      "text/plain": [
       "count                  586849\n",
       "unique                  36891\n",
       "top       2015-05-29 10:52:00\n",
       "freq                    10086\n",
       "first     2014-10-01 00:16:00\n",
       "last      2016-03-08 11:53:00\n",
       "Name: CreatedDate, dtype: object"
      ]
     },
     "execution_count": 7,
     "metadata": {},
     "output_type": "execute_result"
    }
   ],
   "source": [
    "df[\"CreatedDate\"].describe()"
   ]
  },
  {
   "cell_type": "code",
   "execution_count": 9,
   "metadata": {
    "collapsed": true
   },
   "outputs": [],
   "source": [
    "df[\"ProfileNo\"] = df[\"ProfileNo\"].apply(lambda x: str(x))\n",
    "df[\"ID\"] = df[\"Department Name\"]+ \"_\" + df[\"ProfileNo\"]\n",
    "\n",
    "df.set_index(\"ID\", inplace = True)"
   ]
  },
  {
   "cell_type": "code",
   "execution_count": 410,
   "metadata": {
    "collapsed": false
   },
   "outputs": [
    {
     "data": {
      "text/plain": [
       "101"
      ]
     },
     "execution_count": 410,
     "metadata": {},
     "output_type": "execute_result"
    }
   ],
   "source": [
    "len(df[\"Department Name\"].unique())"
   ]
  },
  {
   "cell_type": "code",
   "execution_count": 10,
   "metadata": {
    "collapsed": false
   },
   "outputs": [],
   "source": [
    "df[\"InterventionDateTime\"] = df[\"InterventionDateTime\"].apply(lambda x: datetime.datetime.strptime(x[:19], \"%Y-%m-%d %H:%M:%S\"))\n",
    "df[\"InterventionDate\"] = df[\"InterventionDate\"].apply(lambda x: datetime.datetime.strptime(x[:10], \"%Y-%m-%d\"))\n",
    "df[\"InterventionTime\"] = df['InterventionTime'].apply(lambda x: datetime.datetime.strptime(x, \"%H:%M\").time())"
   ]
  },
  {
   "cell_type": "code",
   "execution_count": 11,
   "metadata": {
    "collapsed": false
   },
   "outputs": [
    {
     "data": {
      "text/plain": [
       "count                  586849\n",
       "unique                 310818\n",
       "top       2015-01-20 00:00:00\n",
       "freq                       77\n",
       "first     2014-10-01 00:00:00\n",
       "last      2015-09-30 23:59:00\n",
       "Name: InterventionDateTime, dtype: object"
      ]
     },
     "execution_count": 11,
     "metadata": {},
     "output_type": "execute_result"
    }
   ],
   "source": [
    "df[\"InterventionDateTime\"].describe()"
   ]
  },
  {
   "cell_type": "code",
   "execution_count": 12,
   "metadata": {
    "collapsed": false
   },
   "outputs": [
    {
     "data": {
      "text/plain": [
       "April        67684\n",
       "August       59848\n",
       "May          59425\n",
       "July         54432\n",
       "October      46853\n",
       "March        46590\n",
       "November     46530\n",
       "September    45424\n",
       "June         44672\n",
       "December     44253\n",
       "January      40965\n",
       "February     30173\n",
       "Name: Month, dtype: int64"
      ]
     },
     "execution_count": 12,
     "metadata": {},
     "output_type": "execute_result"
    }
   ],
   "source": [
    "df[\"Month\"].value_counts()"
   ]
  },
  {
   "cell_type": "code",
   "execution_count": 13,
   "metadata": {
    "collapsed": false
   },
   "outputs": [
    {
     "data": {
      "text/plain": [
       "Thursday     98486\n",
       "Wednesday    92122\n",
       "Tuesday      87978\n",
       "Friday       83655\n",
       "Monday       83066\n",
       "Sunday       78113\n",
       "Saturday     63429\n",
       "Name: Day of Week, dtype: int64"
      ]
     },
     "execution_count": 13,
     "metadata": {},
     "output_type": "execute_result"
    }
   ],
   "source": [
    "dow = {\n",
    "    0: \"Sunday\",\n",
    "    1: \"Monday\",\n",
    "    2: \"Tuesday\",\n",
    "    3: \"Wednesday\",\n",
    "    4: \"Thursday\",\n",
    "    5: \"Friday\",\n",
    "    6: \"Saturday\"\n",
    "}\n",
    "\n",
    "df[\"Day of Week\"] = df[\"InterventionDate\"].apply(lambda x: dow[x.weekday()])\n",
    "\n",
    "df[\"Day of Week\"].value_counts()"
   ]
  },
  {
   "cell_type": "code",
   "execution_count": 14,
   "metadata": {
    "collapsed": false
   },
   "outputs": [
    {
     "data": {
      "text/plain": [
       "White              484540\n",
       "Black               85345\n",
       "Asian               11929\n",
       "American Indian      5035\n",
       "Name: SubjectRaceCode, dtype: int64"
      ]
     },
     "execution_count": 14,
     "metadata": {},
     "output_type": "execute_result"
    }
   ],
   "source": [
    "race = {\n",
    "    \"W\": \"White\",\n",
    "    \"B\": \"Black\",\n",
    "    \"A\": \"Asian\",\n",
    "    \"I\": \"American Indian\"\n",
    "}\n",
    "\n",
    "\n",
    "df[\"SubjectRaceCode\"] = df[\"SubjectRaceCode\"].apply(lambda x: race[x])\n",
    "df[\"SubjectRaceCode\"].value_counts()"
   ]
  },
  {
   "cell_type": "code",
   "execution_count": 407,
   "metadata": {
    "collapsed": false
   },
   "outputs": [
    {
     "data": {
      "text/plain": [
       "White              9836\n",
       "Black              1326\n",
       "American Indian     839\n",
       "Asian               805\n",
       "Name: SubjectRaceCode, dtype: int64"
      ]
     },
     "execution_count": 407,
     "metadata": {},
     "output_type": "execute_result"
    }
   ],
   "source": [
    "df[df[\"SubjectEthnicityCode\"] == \"Middle Eastern\"][\"SubjectRaceCode\"].value_counts()"
   ]
  },
  {
   "cell_type": "code",
   "execution_count": 15,
   "metadata": {
    "collapsed": false
   },
   "outputs": [
    {
     "data": {
      "text/plain": [
       "Non Hispanic      500907\n",
       "Hispanic           73136\n",
       "Middle Eastern     12806\n",
       "Name: SubjectEthnicityCode, dtype: int64"
      ]
     },
     "execution_count": 15,
     "metadata": {},
     "output_type": "execute_result"
    }
   ],
   "source": [
    "ethnic = {\n",
    "    \"H\": \"Hispanic\",\n",
    "    \"N\": \"Non Hispanic\",\n",
    "    \"M\": \"Middle Eastern\"\n",
    "}\n",
    "\n",
    "df[\"SubjectEthnicityCode\"] = df[\"SubjectEthnicityCode\"].apply(lambda x: ethnic[x])\n",
    "df[\"SubjectEthnicityCode\"].value_counts()"
   ]
  },
  {
   "cell_type": "code",
   "execution_count": 409,
   "metadata": {
    "collapsed": false
   },
   "outputs": [
    {
     "data": {
      "text/plain": [
       "White              404715\n",
       "Black               81197\n",
       "Hispanic            73790\n",
       "Middle Eastern      12001\n",
       "Asian               10973\n",
       "Native American      4022\n",
       "Name: Race Group, dtype: int64"
      ]
     },
     "execution_count": 409,
     "metadata": {},
     "output_type": "execute_result"
    }
   ],
   "source": [
    "person = []\n",
    "for race, eth in zip(df[\"SubjectRaceCode\"], df[\"SubjectEthnicityCode\"]):\n",
    "    if race == \"White\" and eth == \"Non Hispanic\":\n",
    "        person.append(\"White\")\n",
    "    elif race == \"Black\" and eth == \"Non Hispanic\":\n",
    "        person.append(\"Black\")\n",
    "    elif race == \"Asian\" and eth == \"Non Hispanic\":\n",
    "        person.append(\"Asian\")\n",
    "    elif race == \"American Indian\" and eth == \"Non Hispanic\":\n",
    "        person.append(\"Native American\")\n",
    "    elif race == \"White\" and eth == \"Hispanic\":\n",
    "        person.append(\"Hispanic\")\n",
    "    elif race == \"Black\" and eth == \"Hispanic\":\n",
    "        person.append(\"Hispanic\")\n",
    "    elif race == \"American Indian\" and eth == \"Hispanic\":\n",
    "        person.append(\"Hispanic\")\n",
    "    elif race == \"Asian\" and eth == \"Middle Eastern\":\n",
    "        person.append(\"Hispanic\")\n",
    "    elif race == \"White\" and eth == \"Middle Eastern\":\n",
    "        person.append(\"Middle Eastern\")\n",
    "    elif race == \"Black\" and eth == \"Middle Eastern\":\n",
    "        person.append(\"Middle Eastern\")\n",
    "    elif race == \"American Indian\" and eth == \"Middle Eastern\":\n",
    "        person.append(\"Middle Eastern\")\n",
    "    elif race == \"Asian\" and eth == \"Middle Eastern\":\n",
    "        person.append(\"Middle Eastern\")\n",
    "    else:\n",
    "        person.append(np.nan)\n",
    "\n",
    "df[\"Race Group\"] = person\n",
    "            \n",
    "df[\"Race Group\"].value_counts()"
   ]
  },
  {
   "cell_type": "code",
   "execution_count": 16,
   "metadata": {
    "collapsed": false
   },
   "outputs": [
    {
     "data": {
      "text/plain": [
       "M    370630\n",
       "F    216219\n",
       "Name: SubjectSexCode, dtype: int64"
      ]
     },
     "execution_count": 16,
     "metadata": {},
     "output_type": "execute_result"
    }
   ],
   "source": [
    "df[\"SubjectSexCode\"].value_counts()"
   ]
  },
  {
   "cell_type": "code",
   "execution_count": 17,
   "metadata": {
    "collapsed": false
   },
   "outputs": [],
   "source": [
    "age = []\n",
    "for x in df[\"SubjectAge\"]:\n",
    "    if x < 15:\n",
    "        age.append(np.nan)\n",
    "    elif x >= 15 and x <= 85:\n",
    "        age.append(x)\n",
    "    else:\n",
    "        age.append(np.nan)\n",
    "        \n",
    "df[\"SubjectAge\"] = age"
   ]
  },
  {
   "cell_type": "code",
   "execution_count": 18,
   "metadata": {
    "collapsed": false
   },
   "outputs": [
    {
     "data": {
      "text/plain": [
       "count    582796.000000\n",
       "mean         38.438363\n",
       "std          14.622587\n",
       "min          15.000000\n",
       "25%          26.000000\n",
       "50%          36.000000\n",
       "75%          49.000000\n",
       "max          85.000000\n",
       "Name: SubjectAge, dtype: float64"
      ]
     },
     "execution_count": 18,
     "metadata": {},
     "output_type": "execute_result"
    }
   ],
   "source": [
    "df[\"SubjectAge\"].describe()"
   ]
  },
  {
   "cell_type": "code",
   "execution_count": 19,
   "metadata": {
    "collapsed": false
   },
   "outputs": [
    {
     "data": {
      "text/plain": [
       "True     511460\n",
       "False     75389\n",
       "Name: ResidentIndicator, dtype: int64"
      ]
     },
     "execution_count": 19,
     "metadata": {},
     "output_type": "execute_result"
    }
   ],
   "source": [
    "# Resident of Connecticut\n",
    "df[\"ResidentIndicator\"].value_counts()"
   ]
  },
  {
   "cell_type": "code",
   "execution_count": 20,
   "metadata": {
    "collapsed": false
   },
   "outputs": [
    {
     "data": {
      "text/plain": [
       "False    419706\n",
       "True     167142\n",
       "Name: TownRecidentIndicator, dtype: int64"
      ]
     },
     "execution_count": 20,
     "metadata": {},
     "output_type": "execute_result"
    }
   ],
   "source": [
    "# Resident of town they were pulled over in\n",
    "df[\"TownRecidentIndicator\"].value_counts()"
   ]
  },
  {
   "cell_type": "code",
   "execution_count": 21,
   "metadata": {
    "collapsed": false
   },
   "outputs": [
    {
     "data": {
      "text/plain": [
       "1"
      ]
     },
     "execution_count": 21,
     "metadata": {},
     "output_type": "execute_result"
    }
   ],
   "source": [
    "df[pd.isnull(df[\"InterventionLocationName\"])][\"ProfileNo\"].count()"
   ]
  },
  {
   "cell_type": "code",
   "execution_count": 22,
   "metadata": {
    "collapsed": false
   },
   "outputs": [
    {
     "data": {
      "text/plain": [
       "Motor Vehicle Violation    520004\n",
       "Equipment Violation         55409\n",
       "Investigative Stop          11436\n",
       "Name: InterventionReasonCode, dtype: int64"
      ]
     },
     "execution_count": 22,
     "metadata": {},
     "output_type": "execute_result"
    }
   ],
   "source": [
    "reason = {\n",
    "    \"E\": \"Equipment Violation\",\n",
    "    \"I\": \"Investigative Stop\",\n",
    "    \"V\": \"Motor Vehicle Violation\"\n",
    "}\n",
    "\n",
    "df[\"InterventionReasonCode\"] = df[\"InterventionReasonCode\"].apply(lambda x: reason[x])\n",
    "df[\"InterventionReasonCode\"].value_counts()"
   ]
  },
  {
   "cell_type": "code",
   "execution_count": 23,
   "metadata": {
    "collapsed": false
   },
   "outputs": [
    {
     "data": {
      "text/plain": [
       "0 - 15 Minutes     526477\n",
       "16 - 30 Minutes     47451\n",
       "30+ Minutes         12921\n",
       "Name: InterventionDurationCode, dtype: int64"
      ]
     },
     "execution_count": 23,
     "metadata": {},
     "output_type": "execute_result"
    }
   ],
   "source": [
    "duration = {\n",
    "    1: \"0 - 15 Minutes\",\n",
    "    2: \"16 - 30 Minutes\",\n",
    "    3: \"30+ Minutes\"\n",
    "}\n",
    "\n",
    "df[\"InterventionDurationCode\"] = df[\"InterventionDurationCode\"].apply(lambda x: duration[x])\n",
    "df[\"InterventionDurationCode\"].value_counts()"
   ]
  },
  {
   "cell_type": "code",
   "execution_count": 24,
   "metadata": {
    "collapsed": false
   },
   "outputs": [
    {
     "data": {
      "text/plain": [
       "False    556407\n",
       "True      30442\n",
       "Name: TowedIndicator, dtype: int64"
      ]
     },
     "execution_count": 24,
     "metadata": {},
     "output_type": "execute_result"
    }
   ],
   "source": [
    "df[\"TowedIndicator\"].value_counts()"
   ]
  },
  {
   "cell_type": "code",
   "execution_count": 25,
   "metadata": {
    "collapsed": false
   },
   "outputs": [
    {
     "data": {
      "text/plain": [
       "Speed Related             152901\n",
       "Other                      99934\n",
       "Cell Phone                 61186\n",
       "Registration               55484\n",
       "Defective Lights           49351\n",
       "Moving Violation           42905\n",
       "Traffic Control Signal     39305\n",
       "Stop Sign                  33852\n",
       "Seatbelt                   21590\n",
       "Display of Plates          15256\n",
       "Suspended License           8167\n",
       "Window Tint                 5251\n",
       "Equipment Violation         1665\n",
       "Stop Sign                      2\n",
       "Name: StatuteReason, dtype: int64"
      ]
     },
     "execution_count": 25,
     "metadata": {},
     "output_type": "execute_result"
    }
   ],
   "source": [
    "df[\"StatuteReason\"].value_counts()"
   ]
  },
  {
   "cell_type": "code",
   "execution_count": 26,
   "metadata": {
    "collapsed": false
   },
   "outputs": [
    {
     "data": {
      "text/plain": [
       "False    569770\n",
       "True      17079\n",
       "Name: VehicleSearchedIndicator, dtype: int64"
      ]
     },
     "execution_count": 26,
     "metadata": {},
     "output_type": "execute_result"
    }
   ],
   "source": [
    "df[\"VehicleSearchedIndicator\"].value_counts()"
   ]
  },
  {
   "cell_type": "code",
   "execution_count": 27,
   "metadata": {
    "collapsed": false
   },
   "outputs": [
    {
     "data": {
      "text/plain": [
       "Not Applicable    566859\n",
       "Other              10151\n",
       "Consent             6349\n",
       "Inventory           3490\n",
       "Name: SearchAuthorizationCode, dtype: int64"
      ]
     },
     "execution_count": 27,
     "metadata": {},
     "output_type": "execute_result"
    }
   ],
   "source": [
    "search = {\n",
    "    \"C\": \"Consent\",\n",
    "    \"I\": \"Inventory\",\n",
    "    \"N\": \"Not Applicable\",\n",
    "    \"O\": \"Other\"\n",
    "}\n",
    "df[\"SearchAuthorizationCode\"] = df[\"SearchAuthorizationCode\"].apply(lambda x: search[x])\n",
    "df[\"SearchAuthorizationCode\"].value_counts()"
   ]
  },
  {
   "cell_type": "code",
   "execution_count": 28,
   "metadata": {
    "collapsed": false
   },
   "outputs": [
    {
     "data": {
      "text/plain": [
       "False    580441\n",
       "True       6408\n",
       "Name: ContrabandIndicator, dtype: int64"
      ]
     },
     "execution_count": 28,
     "metadata": {},
     "output_type": "execute_result"
    }
   ],
   "source": [
    "df[\"ContrabandIndicator\"].value_counts()"
   ]
  },
  {
   "cell_type": "code",
   "execution_count": 29,
   "metadata": {
    "collapsed": false
   },
   "outputs": [
    {
     "data": {
      "text/plain": [
       "Infraction               276194\n",
       "Verbal Warning           169820\n",
       "Written Warning           94450\n",
       "Misdemeanor Summons       31585\n",
       "No Disposition             9491\n",
       "Uniform Arrest Report      5309\n",
       "Name: InterventionDispositionCode, dtype: int64"
      ]
     },
     "execution_count": 29,
     "metadata": {},
     "output_type": "execute_result"
    }
   ],
   "source": [
    "disposition = {\n",
    "    \"I\": \"Infraction\",\n",
    "    \"M\": \"Misdemeanor Summons\",\n",
    "    \"N\": \"No Disposition\",\n",
    "    \"U\": \"Uniform Arrest Report\",\n",
    "    \"V\": \"Verbal Warning\",\n",
    "    \"W\": \"Written Warning\"\n",
    "}\n",
    "\n",
    "df[\"InterventionDispositionCode\"] = df[\"InterventionDispositionCode\"].apply(lambda x: disposition[x])\n",
    "df[\"InterventionDispositionCode\"].value_counts()"
   ]
  },
  {
   "cell_type": "code",
   "execution_count": 30,
   "metadata": {
    "collapsed": false
   },
   "outputs": [
    {
     "data": {
      "text/plain": [
       "Misdemeanor Summons      4515\n",
       "Uniform Arrest Report    4069\n",
       "Infraction               1426\n",
       "Verbal Warning            444\n",
       "Written Warning           227\n",
       "No Disposition             83\n",
       "Name: InterventionDispositionCode, dtype: int64"
      ]
     },
     "execution_count": 30,
     "metadata": {},
     "output_type": "execute_result"
    }
   ],
   "source": [
    "df[df[\"CustodialArrestIndicator\"] == True][\"InterventionDispositionCode\"].value_counts()"
   ]
  },
  {
   "cell_type": "code",
   "execution_count": 31,
   "metadata": {
    "collapsed": false
   },
   "outputs": [
    {
     "data": {
      "text/plain": [
       "True     4069\n",
       "False    1240\n",
       "Name: CustodialArrestIndicator, dtype: int64"
      ]
     },
     "execution_count": 31,
     "metadata": {},
     "output_type": "execute_result"
    }
   ],
   "source": [
    "df[df[\"InterventionDispositionCode\"] == \"Uniform Arrest Report\"][\"CustodialArrestIndicator\"].value_counts()"
   ]
  },
  {
   "cell_type": "code",
   "execution_count": 32,
   "metadata": {
    "collapsed": false
   },
   "outputs": [
    {
     "data": {
      "text/plain": [
       "False    576085\n",
       "True      10764\n",
       "Name: CustodialArrestIndicator, dtype: int64"
      ]
     },
     "execution_count": 32,
     "metadata": {},
     "output_type": "execute_result"
    }
   ],
   "source": [
    "df[\"CustodialArrestIndicator\"].value_counts()"
   ]
  },
  {
   "cell_type": "code",
   "execution_count": 33,
   "metadata": {
    "collapsed": false
   },
   "outputs": [],
   "source": [
    "df.drop(['InterventionDispositionReasonText', 'IsStatuteCodeValid','IsStatutatoryCitationValid',\n",
    "        'IsaTest', 'RecordCount', 'SourceId', 'SourceReferenceId',\"InterventionLocationLatitude\", \n",
    "         \"InterventionLocationLongitude\", \"OrganizationActivityText\"], axis = 1, inplace = True)"
   ]
  },
  {
   "cell_type": "code",
   "execution_count": 34,
   "metadata": {
    "collapsed": false
   },
   "outputs": [],
   "source": [
    "cols = ['InterventionDateTime',\n",
    " 'InterventionDate',\n",
    " 'InterventionTime',\n",
    " 'Month',\n",
    " 'Day of Week',\n",
    " 'CreatedDate',\n",
    " 'Department Name',\n",
    " 'ProfileNo',\n",
    " 'OrganizationIdentificationID',\n",
    " 'ReportingOfficerIdentificationID',\n",
    " 'InterventionIdentificationID',\n",
    " 'IdentificationCategoryDescriptionText',\n",
    " 'InterventionLocationName',\n",
    " 'ResidentIndicator',\n",
    " 'TownRecidentIndicator',\n",
    " 'SubjectRaceCode',\n",
    " 'SubjectEthnicityCode',\n",
    " 'SubjectSexCode',\n",
    " 'SubjectAge',\n",
    " 'InterventionLocationDescriptionText',\n",
    " 'InterventionReasonCode',\n",
    " 'InterventionTechniqueCode',\n",
    " 'InterventionDurationCode',\n",
    " 'TowedIndicator',\n",
    " 'StatuteCodeIdentificationID',\n",
    " 'StatuteReason',\n",
    " 'StatutatoryCitation',\n",
    " 'VehicleSearchedIndicator',\n",
    " 'SearchAuthorizationCode',\n",
    " 'ContrabandIndicator',\n",
    " 'CustodialArrestIndicator',\n",
    " 'InterventionDispositionCode',\n",
    " 'InterventionDispositionDate']\n",
    "        \n",
    "df = df[cols]"
   ]
  },
  {
   "cell_type": "markdown",
   "metadata": {},
   "source": [
    "#### Predict the length of the stop"
   ]
  },
  {
   "cell_type": "markdown",
   "metadata": {},
   "source": [
    "#### KNN"
   ]
  },
  {
   "cell_type": "code",
   "execution_count": 35,
   "metadata": {
    "collapsed": false
   },
   "outputs": [],
   "source": [
    "# Using Race, Sex, Age, and Reason code use KNN, Logistic Regression and Random Forest to predict Length of Stop\n",
    "X = pd.DataFrame(index = df.index ,columns = [\"SubjectSexCode\", \"SubjectRaceCode\", \"InterventionReasonCode\"])\n",
    "le = LabelEncoder()\n",
    "\n",
    "for x in [\"SubjectSexCode\", \"SubjectRaceCode\", \"InterventionReasonCode\"]:\n",
    "    X[x] = le.fit_transform(df[x])\n",
    "\n",
    "X = X.join(df[[\"SubjectAge\", \"InterventionDurationCode\"]])\n",
    "X.dropna(inplace = True)\n",
    "y = X[\"InterventionDurationCode\"]\n",
    "\n",
    "X.drop(\"InterventionDurationCode\", axis = 1, inplace = True)\n",
    "\n",
    "oneHot = OneHotEncoder(categorical_features = [True, True, True, False], sparse = True)\n",
    "X = oneHot.fit_transform(X)"
   ]
  },
  {
   "cell_type": "code",
   "execution_count": 36,
   "metadata": {
    "collapsed": false
   },
   "outputs": [
    {
     "name": "stdout",
     "output_type": "stream",
     "text": [
      "<class 'pandas.core.frame.DataFrame'>\n",
      "Index: 586849 entries, Ansonia_1038902 to Milford_3177\n",
      "Data columns (total 4 columns):\n",
      "SubjectSexCode              586849 non-null object\n",
      "SubjectRaceCode             586849 non-null object\n",
      "InterventionReasonCode      586849 non-null object\n",
      "InterventionDurationCode    586849 non-null object\n",
      "dtypes: object(4)\n",
      "memory usage: 22.4+ MB\n"
     ]
    }
   ],
   "source": [
    "df[[\"SubjectSexCode\", \"SubjectRaceCode\", \"InterventionReasonCode\", \"InterventionDurationCode\"]].info()"
   ]
  },
  {
   "cell_type": "code",
   "execution_count": 49,
   "metadata": {
    "collapsed": false
   },
   "outputs": [
    {
     "data": {
      "text/plain": [
       "0.88106788325891416"
      ]
     },
     "execution_count": 49,
     "metadata": {},
     "output_type": "execute_result"
    }
   ],
   "source": [
    "from sklearn.model_selection import cross_val_score\n",
    "knn = neighbors.KNeighborsClassifier(n_neighbors = 10)\n",
    "cross_val_score(knn, X.A[:1000], y[:1000], cv=10, scoring='accuracy').mean()"
   ]
  },
  {
   "cell_type": "code",
   "execution_count": 148,
   "metadata": {
    "collapsed": false
   },
   "outputs": [],
   "source": [
    "kf = cross_validation.KFold(len(y[:25000]),n_folds = 3)\n",
    "gs = GridSearchCV(\n",
    "    estimator = neighbors.KNeighborsClassifier(), \n",
    "    param_grid = {\"n_neighbors\" : np.arange(2,20),\n",
    "                  \"weights\" : [\"distance\", \"uniform\"]},\n",
    "    cv = kf)\n",
    "\n",
    "gs.fit(X.A[:25000],y[:25000])\n",
    "test = gs.best_estimator_"
   ]
  },
  {
   "cell_type": "code",
   "execution_count": 149,
   "metadata": {
    "collapsed": false
   },
   "outputs": [
    {
     "data": {
      "text/plain": [
       "0.88995999999999997"
      ]
     },
     "execution_count": 149,
     "metadata": {},
     "output_type": "execute_result"
    }
   ],
   "source": [
    "test.score(X.A[:25000], y[:25000])"
   ]
  },
  {
   "cell_type": "code",
   "execution_count": 153,
   "metadata": {
    "collapsed": false
   },
   "outputs": [],
   "source": [
    "split = np.arange(0,len(y), int(len(y)/22)).tolist()\n",
    "split[22] = len(y)"
   ]
  },
  {
   "cell_type": "code",
   "execution_count": 158,
   "metadata": {
    "collapsed": false
   },
   "outputs": [
    {
     "name": "stdout",
     "output_type": "stream",
     "text": [
      "KNeighborsClassifier(algorithm='auto', leaf_size=30, metric='minkowski',\n",
      "           metric_params=None, n_jobs=1, n_neighbors=9, p=2,\n",
      "           weights='distance')\n",
      "0 2\n",
      "---------------------\n",
      "KNeighborsClassifier(algorithm='auto', leaf_size=30, metric='minkowski',\n",
      "           metric_params=None, n_jobs=1, n_neighbors=8, p=2,\n",
      "           weights='distance')\n",
      "2 4\n",
      "---------------------\n",
      "KNeighborsClassifier(algorithm='auto', leaf_size=30, metric='minkowski',\n",
      "           metric_params=None, n_jobs=1, n_neighbors=10, p=2,\n",
      "           weights='distance')\n",
      "4 6\n",
      "---------------------\n",
      "KNeighborsClassifier(algorithm='auto', leaf_size=30, metric='minkowski',\n",
      "           metric_params=None, n_jobs=1, n_neighbors=10, p=2,\n",
      "           weights='distance')\n",
      "6 8\n",
      "---------------------\n",
      "KNeighborsClassifier(algorithm='auto', leaf_size=30, metric='minkowski',\n",
      "           metric_params=None, n_jobs=1, n_neighbors=10, p=2,\n",
      "           weights='distance')\n",
      "8 10\n",
      "---------------------\n",
      "KNeighborsClassifier(algorithm='auto', leaf_size=30, metric='minkowski',\n",
      "           metric_params=None, n_jobs=1, n_neighbors=10, p=2,\n",
      "           weights='distance')\n",
      "10 12\n",
      "---------------------\n",
      "KNeighborsClassifier(algorithm='auto', leaf_size=30, metric='minkowski',\n",
      "           metric_params=None, n_jobs=1, n_neighbors=10, p=2,\n",
      "           weights='distance')\n",
      "12 14\n",
      "---------------------\n",
      "KNeighborsClassifier(algorithm='auto', leaf_size=30, metric='minkowski',\n",
      "           metric_params=None, n_jobs=1, n_neighbors=10, p=2,\n",
      "           weights='distance')\n",
      "14 16\n",
      "---------------------\n",
      "KNeighborsClassifier(algorithm='auto', leaf_size=30, metric='minkowski',\n",
      "           metric_params=None, n_jobs=1, n_neighbors=10, p=2,\n",
      "           weights='distance')\n",
      "16 18\n",
      "---------------------\n",
      "KNeighborsClassifier(algorithm='auto', leaf_size=30, metric='minkowski',\n",
      "           metric_params=None, n_jobs=1, n_neighbors=10, p=2,\n",
      "           weights='distance')\n",
      "18 20\n",
      "---------------------\n",
      "KNeighborsClassifier(algorithm='auto', leaf_size=30, metric='minkowski',\n",
      "           metric_params=None, n_jobs=1, n_neighbors=10, p=2,\n",
      "           weights='distance')\n",
      "20 22\n",
      "---------------------\n"
     ]
    }
   ],
   "source": [
    "for x in np.arange(0,22,2):\n",
    "    \n",
    "    try:\n",
    "\n",
    "        kf = cross_validation.KFold(len(y[split[x]:split[x+2]]),n_folds = 5)\n",
    "        gs = GridSearchCV(\n",
    "        estimator = neighbors.KNeighborsClassifier(), \n",
    "        param_grid = {\"n_neighbors\" : np.arange(3,11),\n",
    "                      \"weights\" : [\"distance\"]},\n",
    "        cv = kf)\n",
    "\n",
    "        gs.fit(X.A[split[x]:split[x+2]],y[split[x]:split[x+2]])\n",
    "        test = gs.best_estimator_\n",
    "        print(test)\n",
    "        print(x, x+2)\n",
    "        print(\"---------------------\")\n",
    "    \n",
    "    except:\n",
    "        print(\"Exit\")\n",
    "        print(x, x+2)\n",
    "        print(\"---------------------\")"
   ]
  },
  {
   "cell_type": "markdown",
   "metadata": {},
   "source": [
    "#### Train Test Split Needed!"
   ]
  },
  {
   "cell_type": "code",
   "execution_count": 159,
   "metadata": {
    "collapsed": false
   },
   "outputs": [
    {
     "name": "stdout",
     "output_type": "stream",
     "text": [
      "Accuracy:  0.897121805915\n"
     ]
    }
   ],
   "source": [
    "knnEstimator = neighbors.KNeighborsClassifier(n_neighbors = 10, weights = \"distance\")\n",
    "knnEstimator.fit(X.A, y)\n",
    "print(\"Accuracy: \", knnEstimator.score(X.A, y))"
   ]
  },
  {
   "cell_type": "code",
   "execution_count": 166,
   "metadata": {
    "collapsed": false
   },
   "outputs": [
    {
     "name": "stdout",
     "output_type": "stream",
     "text": [
      "Classification Report:                   precision    recall  f1-score   support\n",
      "\n",
      " 0 - 15 Minutes       0.90      1.00      0.95    522822\n",
      "16 - 30 Minutes       0.49      0.00      0.00     47151\n",
      "    30+ Minutes       0.83      0.00      0.00     12823\n",
      "\n",
      "    avg / total       0.86      0.90      0.85    582796\n",
      "\n"
     ]
    }
   ],
   "source": [
    "print(\"Classification Report: \", classification_report(y_true = y, \n",
    "                                                      y_pred = knnEstimator.predict(X.A),\n",
    "                                                      target_names = pd.DataFrame(y)[\"InterventionDurationCode\"].unique().tolist()))"
   ]
  },
  {
   "cell_type": "markdown",
   "metadata": {},
   "source": [
    "### Arrested Predictor (linear regression)"
   ]
  },
  {
   "cell_type": "code",
   "execution_count": null,
   "metadata": {
    "collapsed": true
   },
   "outputs": [],
   "source": [
    "X = df[[\"SubjectRaceCode\", \"SubjectEthnicityCode\", \"SubjectSexCode\", \"SubjectAge\", \n",
    "    \"ResidentIndicator\", \"TownRecidentIndicator\", \"InterventionReasonCode\", \"InterventionDurationCode\", \n",
    "   \"SearchAuthorizationCode\", \"CustodialArrestIndicator\"]]"
   ]
  },
  {
   "cell_type": "code",
   "execution_count": null,
   "metadata": {
    "collapsed": true
   },
   "outputs": [],
   "source": []
  },
  {
   "cell_type": "code",
   "execution_count": null,
   "metadata": {
    "collapsed": true
   },
   "outputs": [],
   "source": []
  },
  {
   "cell_type": "markdown",
   "metadata": {},
   "source": [
    "### Arrested Predictor (Principal Component Analysis)"
   ]
  },
  {
   "cell_type": "code",
   "execution_count": 379,
   "metadata": {
    "collapsed": false
   },
   "outputs": [
    {
     "name": "stderr",
     "output_type": "stream",
     "text": [
      "//anaconda/lib/python3.5/site-packages/ipykernel/__main__.py:7: SettingWithCopyWarning: \n",
      "A value is trying to be set on a copy of a slice from a DataFrame\n",
      "\n",
      "See the caveats in the documentation: http://pandas.pydata.org/pandas-docs/stable/indexing.html#indexing-view-versus-copy\n",
      "//anaconda/lib/python3.5/site-packages/ipykernel/__main__.py:12: SettingWithCopyWarning: \n",
      "A value is trying to be set on a copy of a slice from a DataFrame.\n",
      "Try using .loc[row_indexer,col_indexer] = value instead\n",
      "\n",
      "See the caveats in the documentation: http://pandas.pydata.org/pandas-docs/stable/indexing.html#indexing-view-versus-copy\n",
      "//anaconda/lib/python3.5/site-packages/ipykernel/__main__.py:18: SettingWithCopyWarning: \n",
      "A value is trying to be set on a copy of a slice from a DataFrame\n",
      "\n",
      "See the caveats in the documentation: http://pandas.pydata.org/pandas-docs/stable/indexing.html#indexing-view-versus-copy\n"
     ]
    }
   ],
   "source": [
    "from sklearn import decomposition\n",
    "\n",
    "X = df[[\"Month\", \"Day of Week\", \"SubjectRaceCode\", \"SubjectEthnicityCode\", \"SubjectSexCode\", \"SubjectAge\", \n",
    "    \"ResidentIndicator\", \"TownRecidentIndicator\", \"InterventionReasonCode\", \"InterventionDurationCode\", \n",
    "   \"SearchAuthorizationCode\", \"CustodialArrestIndicator\"]]\n",
    "\n",
    "X.dropna(inplace = True)\n",
    "\n",
    "le = LabelEncoder()\n",
    "for column in X.columns.tolist():\n",
    "    if x != \"SubjectAge\" or x != \"CustodialArrestIndicator\" :\n",
    "        X[column] = le.fit_transform(X[column])\n",
    "    else:\n",
    "        X[column] = X[column]\n",
    "        \n",
    "y = X[\"CustodialArrestIndicator\"]\n",
    "\n",
    "X.drop(\"CustodialArrestIndicator\", axis = 1, inplace = True)"
   ]
  },
  {
   "cell_type": "code",
   "execution_count": 380,
   "metadata": {
    "collapsed": false
   },
   "outputs": [
    {
     "name": "stdout",
     "output_type": "stream",
     "text": [
      "Percentage of Variance Explained:  [ 0.91975515  0.05472947  0.0176885   0.00195741  0.00152742]\n"
     ]
    },
    {
     "data": {
      "text/plain": [
       "(0, 1)"
      ]
     },
     "execution_count": 380,
     "metadata": {},
     "output_type": "execute_result"
    },
    {
     "data": {
      "image/png": "[encoded data removed]",
      "text/plain": [
       "<matplotlib.figure.Figure at 0x12a949400>"
      ]
     },
     "metadata": {},
     "output_type": "display_data"
    }
   ],
   "source": [
    "pca = decomposition.PCA(n_components = 5)\n",
    "X_pca = pca.fit_transform(X)\n",
    "print(\"Percentage of Variance Explained: \", pca.explained_variance_ratio_)\n",
    "variance = pca.explained_variance_ratio_.tolist()\n",
    "\n",
    "plt.figure(figsize = (12,8))\n",
    "plt.plot(pd.DataFrame(data = variance, index = np.arange(1,6).tolist(), columns = [\"Variance\"]))\n",
    "plt.title(\"Percentage of Variance Explained\")\n",
    "plt.ylim(0,1)"
   ]
  },
  {
   "cell_type": "code",
   "execution_count": 381,
   "metadata": {
    "collapsed": false
   },
   "outputs": [],
   "source": [
    "pca = decomposition.PCA(n_components = 2)\n",
    "X_pca = pca.fit_transform(X)"
   ]
  },
  {
   "cell_type": "code",
   "execution_count": 397,
   "metadata": {
    "collapsed": false
   },
   "outputs": [],
   "source": [
    "X_train, X_test, y_train, y_test = train_test_split(X_pca, y, test_size=0.3)"
   ]
  },
  {
   "cell_type": "markdown",
   "metadata": {},
   "source": [
    "#### Logistic Regression"
   ]
  },
  {
   "cell_type": "code",
   "execution_count": 402,
   "metadata": {
    "collapsed": false
   },
   "outputs": [
    {
     "name": "stdout",
     "output_type": "stream",
     "text": [
      "Accuracy:  0.982166450277\n",
      "P Values:  [  9.71123315e-46   8.09093178e-05]\n",
      "Coefficients:  [[-0.01925769  0.01826938]]\n",
      "Y Intercept:  [-4.00095436]\n"
     ]
    }
   ],
   "source": [
    "# These Coefficents and Intercept dont really mean anything because of PCA\n",
    "algo = lr.fit(X_train, y_train)\n",
    "print(\"Accuracy: \", algo.score(X_test, y_test))\n",
    "print(\"P Values: \", feature_selection.f_regression(X_test,y_test)[1])\n",
    "print(\"Coefficients: \", algo.coef_)\n",
    "print(\"Y Intercept: \", algo.intercept_)"
   ]
  },
  {
   "cell_type": "code",
   "execution_count": 403,
   "metadata": {
    "collapsed": false
   },
   "outputs": [
    {
     "data": {
      "text/plain": [
       "array([[171721,      0],\n",
       "       [  3118,      0]])"
      ]
     },
     "execution_count": 403,
     "metadata": {},
     "output_type": "execute_result"
    }
   ],
   "source": [
    "confusion_matrix(y_test, algo.predict(X_test))"
   ]
  },
  {
   "cell_type": "code",
   "execution_count": 404,
   "metadata": {
    "collapsed": false
   },
   "outputs": [
    {
     "name": "stdout",
     "output_type": "stream",
     "text": [
      "             precision    recall  f1-score   support\n",
      "\n",
      "          0       0.98      1.00      0.99    572071\n",
      "          1       0.00      0.00      0.00     10724\n",
      "\n",
      "avg / total       0.96      0.98      0.97    582795\n",
      "\n"
     ]
    },
    {
     "name": "stderr",
     "output_type": "stream",
     "text": [
      "//anaconda/lib/python3.5/site-packages/sklearn/metrics/classification.py:1113: UndefinedMetricWarning: Precision and F-score are ill-defined and being set to 0.0 in labels with no predicted samples.\n",
      "  'precision', 'predicted', average, warn_for)\n"
     ]
    }
   ],
   "source": [
    "print(classification_report(y, algo.predict(X_pca)))"
   ]
  },
  {
   "cell_type": "markdown",
   "metadata": {},
   "source": [
    "### Predict Consequence of Intervention"
   ]
  },
  {
   "cell_type": "markdown",
   "metadata": {},
   "source": [
    "#### For the purpose of this analysis, we re-coded 2 & 3 (Misdemeanor Summons and Infraction Ticket) to \"Ticket\" and 4 & 5 (Written Warning and Verbal Warning) to \"Warning\". Arrests and stops with no disposition were excluded from the totals."
   ]
  },
  {
   "cell_type": "code",
   "execution_count": 390,
   "metadata": {
    "collapsed": true
   },
   "outputs": [],
   "source": [
    "# Create a Ticket/Warning/Arrest category\n",
    "# Create category defining Asian (Non Hispanic), Black (Non Hispanic), Hispanic, \n",
    "# Native American (Non Hispanic), White (Non Hispanic)"
   ]
  },
  {
   "cell_type": "code",
   "execution_count": 392,
   "metadata": {
    "collapsed": false
   },
   "outputs": [
    {
     "data": {
      "text/plain": [
       "'/Users/adeniyiharrison/Desktop/Traffic Stop Data'"
      ]
     },
     "execution_count": 392,
     "metadata": {},
     "output_type": "execute_result"
    }
   ],
   "source": [
    "os.getcwd()"
   ]
  },
  {
   "cell_type": "code",
   "execution_count": null,
   "metadata": {
    "collapsed": true
   },
   "outputs": [],
   "source": []
  }
 ],
 "metadata": {
  "kernelspec": {
   "display_name": "Python 3",
   "language": "python",
   "name": "python3"
  },
  "language_info": {
   "codemirror_mode": {
    "name": "ipython",
    "version": 3
   },
   "file_extension": ".py",
   "mimetype": "text/x-python",
   "name": "python",
   "nbconvert_exporter": "python",
   "pygments_lexer": "ipython3",
   "version": "3.5.2"
  }
 },
 "nbformat": 4,
 "nbformat_minor": 1
}
