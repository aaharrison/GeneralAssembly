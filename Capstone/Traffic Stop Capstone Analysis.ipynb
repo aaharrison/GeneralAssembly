{
 "cells": [
  {
   "cell_type": "code",
   "execution_count": 1,
   "metadata": {
    "collapsed": false
   },
   "outputs": [
    {
     "name": "stderr",
     "output_type": "stream",
     "text": [
      "//anaconda/lib/python3.5/site-packages/sklearn/cross_validation.py:44: DeprecationWarning: This module was deprecated in version 0.18 in favor of the model_selection module into which all the refactored classes and functions are moved. Also note that the interface of the new CV iterators are different from that of this module. This module will be removed in 0.20.\n",
      "  \"This module will be removed in 0.20.\", DeprecationWarning)\n"
     ]
    }
   ],
   "source": [
    "import os\n",
    "import datetime\n",
    "import numpy as np\n",
    "import pandas as pd\n",
    "import seaborn as sns\n",
    "import matplotlib.pyplot as plt\n",
    "%matplotlib inline\n",
    "\n",
    "from sklearn import neighbors, cross_validation, feature_selection\n",
    "from sklearn.preprocessing import LabelEncoder, OneHotEncoder\n",
    "from sklearn.model_selection import GridSearchCV, train_test_split, cross_val_score\n",
    "from sklearn.linear_model import LinearRegression, LogisticRegression\n",
    "from sklearn.metrics import classification_report, confusion_matrix, mean_squared_error, roc_auc_score, roc_curve"
   ]
  },
  {
   "cell_type": "code",
   "execution_count": 2,
   "metadata": {
    "collapsed": false
   },
   "outputs": [
    {
     "name": "stderr",
     "output_type": "stream",
     "text": [
      "//anaconda/lib/python3.5/site-packages/IPython/core/interactiveshell.py:2717: DtypeWarning: Columns (1,13,14,15,23,27,29,30,36) have mixed types. Specify dtype option on import or set low_memory=False.\n",
      "  interactivity=interactivity, compiler=compiler, result=result)\n"
     ]
    }
   ],
   "source": [
    "os.chdir(\"/Users/adeniyiharrison/Desktop/General Assembly/classRepo/GeneralAssembly/Capstone/Traffic Stop Data\")\n",
    "df = pd.read_csv(\"Connecticut_102013_32015.csv\", encoding = \"ISO-8859-1\")"
   ]
  },
  {
   "cell_type": "code",
   "execution_count": 3,
   "metadata": {
    "collapsed": false
   },
   "outputs": [
    {
     "name": "stdout",
     "output_type": "stream",
     "text": [
      "<class 'pandas.core.frame.DataFrame'>\n",
      "RangeIndex: 857895 entries, 0 to 857894\n",
      "Data columns (total 42 columns):\n",
      "CreatedDate                              856928 non-null object\n",
      "ProfileNo                                853704 non-null object\n",
      "OrganizationIdentificationID             857894 non-null object\n",
      "Department Name                          857894 non-null object\n",
      "OrganizationActivityText                 857894 non-null object\n",
      "ReportingOfficerIdentificationID         857892 non-null object\n",
      "InterventionIdentificationID             855361 non-null object\n",
      "IdentificationCategoryDescriptionText    857894 non-null object\n",
      "InterventionDate                         857894 non-null object\n",
      "Month                                    857894 non-null object\n",
      "SubjectRaceCode                          857894 non-null object\n",
      "SubjectEthnicityCode                     857894 non-null object\n",
      "SubjectSexCode                           857894 non-null object\n",
      "SubjectAge                               857693 non-null object\n",
      "ResidentIndicator                        857893 non-null object\n",
      "TownRecidentIndicator                    857889 non-null object\n",
      "InterventionLocationName                 857894 non-null object\n",
      "InterventionLocationDescriptionText      857134 non-null object\n",
      "InterventionLocationLatitude             836891 non-null object\n",
      "InterventionLocationLongitude            836891 non-null object\n",
      "InterventionReasonCode                   857892 non-null object\n",
      "InterventionTechniqueCode                857882 non-null object\n",
      "InterventionDurationCode                 857832 non-null float64\n",
      "TowedIndicator                           857734 non-null object\n",
      "StatuteCodeIdentificationID              856678 non-null object\n",
      "StatuteReason                            857378 non-null object\n",
      "StatutatoryCitation                      154526 non-null object\n",
      "VehicleSearchedIndicator                 857889 non-null object\n",
      "SearchAuthorizationCode                  857879 non-null object\n",
      "ContrabandIndicator                      857881 non-null object\n",
      "CustodialArrestIndicator                 857591 non-null object\n",
      "InterventionDispositionCode              857892 non-null object\n",
      "InterventionDispositionDate              41375 non-null object\n",
      "InterventionDispositionReasonText        41397 non-null object\n",
      "IsStatuteCodeValid                       0 non-null float64\n",
      "IsStatutatoryCitationValid               0 non-null float64\n",
      "IsaTest                                  855791 non-null object\n",
      "RecordCount                              855791 non-null float64\n",
      "SourceId                                 852642 non-null object\n",
      "SourceReferenceId                        852642 non-null object\n",
      "InterventionDateTime                     856852 non-null object\n",
      "InterventionTime                         857894 non-null object\n",
      "dtypes: float64(4), object(38)\n",
      "memory usage: 274.9+ MB\n"
     ]
    }
   ],
   "source": [
    "df.info()"
   ]
  },
  {
   "cell_type": "markdown",
   "metadata": {},
   "source": [
    "### Clean"
   ]
  },
  {
   "cell_type": "code",
   "execution_count": 4,
   "metadata": {
    "collapsed": true
   },
   "outputs": [],
   "source": [
    "hold = []\n",
    "for x in df[\"CreatedDate\"]:\n",
    "    if x == float:\n",
    "        hold.append(x)\n",
    "    else:\n",
    "        pass"
   ]
  },
  {
   "cell_type": "code",
   "execution_count": 5,
   "metadata": {
    "collapsed": false
   },
   "outputs": [],
   "source": [
    "dateTime = []\n",
    "for x in df[\"CreatedDate\"]:\n",
    "    try:\n",
    "        dateTime.append(datetime.datetime.strptime(x, \"%m/%d/%y %H:%M\"))\n",
    "    except:\n",
    "        try:\n",
    "            dateTime.append(datetime.datetime.strptime(x, \"%m-%d-%y\"))\n",
    "        except:\n",
    "            dateTime.append(np.nan)\n",
    "        \n",
    "    \n",
    "\n",
    "df[\"CreatedDate\"] = dateTime"
   ]
  },
  {
   "cell_type": "code",
   "execution_count": 6,
   "metadata": {
    "collapsed": false
   },
   "outputs": [],
   "source": [
    "df[\"ProfileNo\"] = df[\"ProfileNo\"].apply(lambda x: str(x))\n",
    "df[\"ID\"] = df[\"Department Name\"]+ \"_\" + df[\"ProfileNo\"]\n",
    "\n",
    "df.set_index(\"ID\", inplace = True)"
   ]
  },
  {
   "cell_type": "code",
   "execution_count": 7,
   "metadata": {
    "collapsed": false
   },
   "outputs": [
    {
     "data": {
      "text/plain": [
       "105"
      ]
     },
     "execution_count": 7,
     "metadata": {},
     "output_type": "execute_result"
    }
   ],
   "source": [
    "len(df[\"Department Name\"].unique())"
   ]
  },
  {
   "cell_type": "code",
   "execution_count": 8,
   "metadata": {
    "collapsed": false
   },
   "outputs": [],
   "source": [
    "dateTime = []\n",
    "for x in df[\"InterventionDateTime\"]:\n",
    "    try:\n",
    "        dateTime.append(datetime.datetime.strptime(x, \"%m/%d/%y %H:%M\"))\n",
    "    except:\n",
    "        try:\n",
    "            dateTime.append(datetime.datetime.strptime(x, \"%m-%d-%y\"))\n",
    "        except:\n",
    "            dateTime.append(np.nan)\n",
    "        \n",
    "    \n",
    "\n",
    "df[\"InterventionDateTime\"] = dateTime\n",
    "\n",
    "\n",
    "Time = []\n",
    "Date = []\n",
    "for x in df[\"InterventionDateTime\"]:\n",
    "    try:\n",
    "        Time.append(x.time())\n",
    "        Date.append(x.date())\n",
    "    except:\n",
    "        Time.append(np.nan)\n",
    "        Date.append(np.nan)\n",
    "\n",
    "df[\"InterventionTime\"] = Time\n",
    "df[\"InterventionDate\"] = Date"
   ]
  },
  {
   "cell_type": "code",
   "execution_count": 9,
   "metadata": {
    "collapsed": false
   },
   "outputs": [
    {
     "data": {
      "text/plain": [
       "count                  856723\n",
       "unique                 461638\n",
       "top       2014-03-07 00:00:00\n",
       "freq                      270\n",
       "first     2013-10-01 00:00:00\n",
       "last      2015-03-31 23:59:00\n",
       "Name: InterventionDateTime, dtype: object"
      ]
     },
     "execution_count": 9,
     "metadata": {},
     "output_type": "execute_result"
    }
   ],
   "source": [
    "df[\"InterventionDateTime\"].describe()"
   ]
  },
  {
   "cell_type": "code",
   "execution_count": 10,
   "metadata": {
    "collapsed": false
   },
   "outputs": [
    {
     "data": {
      "text/plain": [
       "March        103320\n",
       "November      90734\n",
       "October       89812\n",
       "January       82812\n",
       "December      82125\n",
       "February      65791\n",
       "September     62465\n",
       "May           62189\n",
       "August        60482\n",
       "July          55813\n",
       "April         52907\n",
       "June          49444\n",
       "Name: Month, dtype: int64"
      ]
     },
     "execution_count": 10,
     "metadata": {},
     "output_type": "execute_result"
    }
   ],
   "source": [
    "df[\"Month\"].value_counts()"
   ]
  },
  {
   "cell_type": "code",
   "execution_count": 12,
   "metadata": {
    "collapsed": false
   },
   "outputs": [
    {
     "data": {
      "text/plain": [
       "Thursday     140227\n",
       "Wednesday    132338\n",
       "Monday       125993\n",
       "Friday       123318\n",
       "Tuesday      122093\n",
       "Sunday       115252\n",
       "Saturday      97502\n",
       "Name: Day of Week, dtype: int64"
      ]
     },
     "execution_count": 12,
     "metadata": {},
     "output_type": "execute_result"
    }
   ],
   "source": [
    "dow = {\n",
    "    0: \"Sunday\",\n",
    "    1: \"Monday\",\n",
    "    2: \"Tuesday\",\n",
    "    3: \"Wednesday\",\n",
    "    4: \"Thursday\",\n",
    "    5: \"Friday\",\n",
    "    6: \"Saturday\"\n",
    "}\n",
    "\n",
    "\n",
    "day = []\n",
    "for x in df[\"InterventionDate\"]:\n",
    "    try:\n",
    "        day.append(dow[x.weekday()])\n",
    "    except:\n",
    "        day.append(np.nan)\n",
    "        \n",
    "df[\"Day of Week\"] = day\n",
    "\n",
    "df[\"Day of Week\"].value_counts()"
   ]
  },
  {
   "cell_type": "code",
   "execution_count": 13,
   "metadata": {
    "collapsed": false
   },
   "outputs": [
    {
     "data": {
      "text/plain": [
       "White              718233\n",
       "Black              121306\n",
       "Asian               14746\n",
       "American Indian      3609\n",
       "Name: SubjectRaceCode, dtype: int64"
      ]
     },
     "execution_count": 13,
     "metadata": {},
     "output_type": "execute_result"
    }
   ],
   "source": [
    "race = {\n",
    "    \"W\": \"White\",\n",
    "    \"B\": \"Black\",\n",
    "    \"A\": \"Asian\",\n",
    "    \"I\": \"American Indian\",\n",
    "    np.nan: np.nan\n",
    "}\n",
    "\n",
    "\n",
    "df[\"SubjectRaceCode\"] = df[\"SubjectRaceCode\"].apply(lambda x: race[x])\n",
    "df[\"SubjectRaceCode\"].value_counts()"
   ]
  },
  {
   "cell_type": "code",
   "execution_count": 14,
   "metadata": {
    "collapsed": false
   },
   "outputs": [
    {
     "data": {
      "text/plain": [
       "Non Hispanic      709531\n",
       "Hispanic          102720\n",
       "Middle Eastern     45643\n",
       "Name: SubjectEthnicityCode, dtype: int64"
      ]
     },
     "execution_count": 14,
     "metadata": {},
     "output_type": "execute_result"
    }
   ],
   "source": [
    "ethnic = {\n",
    "    \"H\": \"Hispanic\",\n",
    "    \"N\": \"Non Hispanic\",\n",
    "    \"M\": \"Middle Eastern\",\n",
    "    \"m\": \"Middle Eastern\",\n",
    "    np.nan: np.nan\n",
    "}\n",
    "\n",
    "df[\"SubjectEthnicityCode\"] = df[\"SubjectEthnicityCode\"].apply(lambda x: ethnic[x])\n",
    "df[\"SubjectEthnicityCode\"].value_counts()"
   ]
  },
  {
   "cell_type": "code",
   "execution_count": 15,
   "metadata": {
    "collapsed": false
   },
   "outputs": [
    {
     "data": {
      "text/plain": [
       "White              582053\n",
       "Black              112966\n",
       "Hispanic           105421\n",
       "Middle Eastern      42812\n",
       "Asian               11785\n",
       "Native American      2727\n",
       "Name: Race Group, dtype: int64"
      ]
     },
     "execution_count": 15,
     "metadata": {},
     "output_type": "execute_result"
    }
   ],
   "source": [
    "person = []\n",
    "for race, eth in zip(df[\"SubjectRaceCode\"], df[\"SubjectEthnicityCode\"]):\n",
    "    if race == \"White\" and eth == \"Non Hispanic\":\n",
    "        person.append(\"White\")\n",
    "    elif race == \"Black\" and eth == \"Non Hispanic\":\n",
    "        person.append(\"Black\")\n",
    "    elif race == \"Asian\" and eth == \"Non Hispanic\":\n",
    "        person.append(\"Asian\")\n",
    "    elif race == \"American Indian\" and eth == \"Non Hispanic\":\n",
    "        person.append(\"Native American\")\n",
    "    elif race == \"White\" and eth == \"Hispanic\":\n",
    "        person.append(\"Hispanic\")\n",
    "    elif race == \"Black\" and eth == \"Hispanic\":\n",
    "        person.append(\"Hispanic\")\n",
    "    elif race == \"American Indian\" and eth == \"Hispanic\":\n",
    "        person.append(\"Hispanic\")\n",
    "    elif race == \"Asian\" and eth == \"Middle Eastern\":\n",
    "        person.append(\"Hispanic\")\n",
    "    elif race == \"White\" and eth == \"Middle Eastern\":\n",
    "        person.append(\"Middle Eastern\")\n",
    "    elif race == \"Black\" and eth == \"Middle Eastern\":\n",
    "        person.append(\"Middle Eastern\")\n",
    "    elif race == \"American Indian\" and eth == \"Middle Eastern\":\n",
    "        person.append(\"Middle Eastern\")\n",
    "    elif race == \"Asian\" and eth == \"Middle Eastern\":\n",
    "        person.append(\"Middle Eastern\")\n",
    "    else:\n",
    "        person.append(np.nan)\n",
    "\n",
    "df[\"Race Group\"] = person\n",
    "            \n",
    "df[\"Race Group\"].value_counts()"
   ]
  },
  {
   "cell_type": "code",
   "execution_count": 16,
   "metadata": {
    "collapsed": false
   },
   "outputs": [
    {
     "data": {
      "text/plain": [
       "M    546502\n",
       "F    311392\n",
       "Name: SubjectSexCode, dtype: int64"
      ]
     },
     "execution_count": 16,
     "metadata": {},
     "output_type": "execute_result"
    }
   ],
   "source": [
    "df[\"SubjectSexCode\"].value_counts()"
   ]
  },
  {
   "cell_type": "code",
   "execution_count": 22,
   "metadata": {
    "collapsed": false
   },
   "outputs": [],
   "source": [
    "df[\"Age\"] = df[\"SubjectAge\"].copy()"
   ]
  },
  {
   "cell_type": "code",
   "execution_count": 31,
   "metadata": {
    "collapsed": false
   },
   "outputs": [],
   "source": [
    "age = []\n",
    "for x in df[\"SubjectAge\"]:\n",
    "    try:\n",
    "        if int(x) < 15:\n",
    "            age.append(np.nan)\n",
    "        elif int(x) >= 15 and int(x) <= 85:\n",
    "            age.append(int(x))\n",
    "        else:\n",
    "            age.append(np.nan)\n",
    "    except:\n",
    "        age.append(np.nan)\n",
    "        \n",
    "df[\"SubjectAge\"] = age"
   ]
  },
  {
   "cell_type": "code",
   "execution_count": 34,
   "metadata": {
    "collapsed": false
   },
   "outputs": [
    {
     "data": {
      "text/plain": [
       "count    854534.000000\n",
       "mean         38.387456\n",
       "std          14.551647\n",
       "min          15.000000\n",
       "25%          26.000000\n",
       "50%          36.000000\n",
       "75%          49.000000\n",
       "max          85.000000\n",
       "Name: SubjectAge, dtype: float64"
      ]
     },
     "execution_count": 34,
     "metadata": {},
     "output_type": "execute_result"
    }
   ],
   "source": [
    "df[\"SubjectAge\"].describe()"
   ]
  },
  {
   "cell_type": "code",
   "execution_count": 35,
   "metadata": {
    "collapsed": false
   },
   "outputs": [
    {
     "data": {
      "text/plain": [
       "True     750423\n",
       "False    107470\n",
       "Name: ResidentIndicator, dtype: int64"
      ]
     },
     "execution_count": 35,
     "metadata": {},
     "output_type": "execute_result"
    }
   ],
   "source": [
    "# Resident of Connecticut?\n",
    "df[\"ResidentIndicator\"].value_counts()"
   ]
  },
  {
   "cell_type": "code",
   "execution_count": 42,
   "metadata": {
    "collapsed": false
   },
   "outputs": [
    {
     "data": {
      "text/plain": [
       "False    594921\n",
       "True     262967\n",
       "Name: TownRecidentIndicator, dtype: int64"
      ]
     },
     "execution_count": 42,
     "metadata": {},
     "output_type": "execute_result"
    }
   ],
   "source": [
    "# Resident of town they were pulled over in\n",
    "town = []\n",
    "for x in df[\"TownRecidentIndicator\"]:\n",
    "    try:\n",
    "        if x == True:\n",
    "            town.append(True)\n",
    "        elif x == False:\n",
    "            town.append(False)\n",
    "        elif x == \"TRUE\":\n",
    "            town.append(True)\n",
    "        elif x == \"FALSE\":\n",
    "            town.append(False)\n",
    "        else:\n",
    "            town.append(np.nan)\n",
    "    except:\n",
    "        town.append(np.nan)\n",
    "        \n",
    "df[\"TownRecidentIndicator\"] = town\n",
    "df[\"TownRecidentIndicator\"].value_counts()"
   ]
  },
  {
   "cell_type": "code",
   "execution_count": 44,
   "metadata": {
    "collapsed": false
   },
   "outputs": [
    {
     "data": {
      "text/plain": [
       "Motor Vehicle Violation    750369\n",
       "Equipment Violation         89349\n",
       "Investigative Stop          18171\n",
       "Name: InterventionReasonCode, dtype: int64"
      ]
     },
     "execution_count": 44,
     "metadata": {},
     "output_type": "execute_result"
    }
   ],
   "source": [
    "reason = {\n",
    "    \"E\": \"Equipment Violation\",\n",
    "    \"I\": \"Investigative Stop\",\n",
    "    \"V\": \"Motor Vehicle Violation\",\n",
    "    \"no\": np.nan,\n",
    "    np.nan: np.nan\n",
    "}\n",
    "\n",
    "df[\"InterventionReasonCode\"] = df[\"InterventionReasonCode\"].apply(lambda x: reason[x])\n",
    "df[\"InterventionReasonCode\"].value_counts()"
   ]
  },
  {
   "cell_type": "code",
   "execution_count": 97,
   "metadata": {
    "collapsed": false
   },
   "outputs": [
    {
     "data": {
      "text/plain": [
       "General    666165\n",
       "Blind      179591\n",
       "Spot        12126\n",
       "Name: InterventionTechniqueCode, dtype: int64"
      ]
     },
     "execution_count": 97,
     "metadata": {},
     "output_type": "execute_result"
    }
   ],
   "source": [
    "tech = {\n",
    "    \"B\": \"Blind\",\n",
    "    \"G\": \"General\",\n",
    "    \"S\": \"Spot\",\n",
    "    np.nan: np.nan\n",
    "}\n",
    "\n",
    "df[\"InterventionTechniqueCode\"] = df[\"InterventionTechniqueCode\"].apply(lambda x: tech[x])\n",
    "\n",
    "df[\"InterventionTechniqueCode\"].value_counts()"
   ]
  },
  {
   "cell_type": "code",
   "execution_count": 45,
   "metadata": {
    "collapsed": false
   },
   "outputs": [
    {
     "data": {
      "text/plain": [
       "1.0    763883\n",
       "2.0     75536\n",
       "3.0     18413\n",
       "Name: InterventionDurationCode, dtype: int64"
      ]
     },
     "execution_count": 45,
     "metadata": {},
     "output_type": "execute_result"
    }
   ],
   "source": [
    "df[\"InterventionDurationCode\"].value_counts()"
   ]
  },
  {
   "cell_type": "code",
   "execution_count": 52,
   "metadata": {
    "collapsed": true
   },
   "outputs": [],
   "source": [
    "duration = {\n",
    "    1: \"0 - 15 Minutes\",\n",
    "    2: \"16 - 30 Minutes\",\n",
    "    3: \"30+ Minutes\",\n",
    "    np.nan: np.nan,\n",
    "}\n",
    "dur = []\n",
    "for x in df[\"InterventionDurationCode\"]:\n",
    "    try:\n",
    "        dur.append(duration[x])\n",
    "    except:\n",
    "        dur.append(np.nan)\n",
    "        \n",
    "df[\"InterventionDurationCode\"] = dur"
   ]
  },
  {
   "cell_type": "code",
   "execution_count": 53,
   "metadata": {
    "collapsed": false
   },
   "outputs": [
    {
     "data": {
      "text/plain": [
       "False    807450\n",
       "True      50284\n",
       "Name: TowedIndicator, dtype: int64"
      ]
     },
     "execution_count": 53,
     "metadata": {},
     "output_type": "execute_result"
    }
   ],
   "source": [
    "df[\"TowedIndicator\"].value_counts()"
   ]
  },
  {
   "cell_type": "code",
   "execution_count": 54,
   "metadata": {
    "collapsed": false
   },
   "outputs": [
    {
     "data": {
      "text/plain": [
       "Speed Related             225078\n",
       "Other                      96885\n",
       "Defective Lights           81374\n",
       "Registration               80232\n",
       "Cell Phone                 72144\n",
       "Moving Violation           64857\n",
       "Traffic Control Signal     61994\n",
       "Stop Sign                  52367\n",
       "Other/Error                44322\n",
       "Seatbelt                   29666\n",
       "Display of Plates          24987\n",
       "Suspended License          11562\n",
       "Window Tint                 9026\n",
       "Equipment Violation         2852\n",
       "Stop Sign                     32\n",
       "Name: StatuteReason, dtype: int64"
      ]
     },
     "execution_count": 54,
     "metadata": {},
     "output_type": "execute_result"
    }
   ],
   "source": [
    "df[\"StatuteReason\"].value_counts()"
   ]
  },
  {
   "cell_type": "code",
   "execution_count": 55,
   "metadata": {
    "collapsed": false
   },
   "outputs": [
    {
     "data": {
      "text/plain": [
       "False    832034\n",
       "True      25855\n",
       "Name: VehicleSearchedIndicator, dtype: int64"
      ]
     },
     "execution_count": 55,
     "metadata": {},
     "output_type": "execute_result"
    }
   ],
   "source": [
    "df[\"VehicleSearchedIndicator\"].value_counts()"
   ]
  },
  {
   "cell_type": "code",
   "execution_count": 57,
   "metadata": {
    "collapsed": false
   },
   "outputs": [
    {
     "data": {
      "text/plain": [
       "Not Applicable    822901\n",
       "Other              19939\n",
       "Consent             9756\n",
       "Inventory           5283\n",
       "Name: SearchAuthorizationCode, dtype: int64"
      ]
     },
     "execution_count": 57,
     "metadata": {},
     "output_type": "execute_result"
    }
   ],
   "source": [
    "search = {\n",
    "    \"C\": \"Consent\",\n",
    "    \"I\": \"Inventory\",\n",
    "    \"N\": \"Not Applicable\",\n",
    "    \"O\": \"Other\",\n",
    "    np.nan: np.nan\n",
    "}\n",
    "df[\"SearchAuthorizationCode\"] = df[\"SearchAuthorizationCode\"].apply(lambda x: search[x])\n",
    "df[\"SearchAuthorizationCode\"].value_counts()"
   ]
  },
  {
   "cell_type": "code",
   "execution_count": 58,
   "metadata": {
    "collapsed": false
   },
   "outputs": [
    {
     "data": {
      "text/plain": [
       "False    848551\n",
       "True       9330\n",
       "Name: ContrabandIndicator, dtype: int64"
      ]
     },
     "execution_count": 58,
     "metadata": {},
     "output_type": "execute_result"
    }
   ],
   "source": [
    "df[\"ContrabandIndicator\"].value_counts()"
   ]
  },
  {
   "cell_type": "code",
   "execution_count": 60,
   "metadata": {
    "collapsed": false
   },
   "outputs": [
    {
     "data": {
      "text/plain": [
       "Infraction               392681\n",
       "Verbal Warning           244290\n",
       "Written Warning          151714\n",
       "Misdemeanor Summons       47719\n",
       "No Disposition            13495\n",
       "Uniform Arrest Report      7993\n",
       "Name: InterventionDispositionCode, dtype: int64"
      ]
     },
     "execution_count": 60,
     "metadata": {},
     "output_type": "execute_result"
    }
   ],
   "source": [
    "disposition = {\n",
    "    \"I\": \"Infraction\",\n",
    "    \"I \": \"Infraction\",\n",
    "    \"M\": \"Misdemeanor Summons\",\n",
    "    \"N\": \"No Disposition\",\n",
    "    \"U\": \"Uniform Arrest Report\",\n",
    "    \"V\": \"Verbal Warning\",\n",
    "    \"W\": \"Written Warning\",\n",
    "    np.nan: np.nan\n",
    "}\n",
    "\n",
    "df[\"InterventionDispositionCode\"] = df[\"InterventionDispositionCode\"].apply(lambda x: disposition[x])\n",
    "df[\"InterventionDispositionCode\"].value_counts()"
   ]
  },
  {
   "cell_type": "code",
   "execution_count": 62,
   "metadata": {
    "collapsed": false
   },
   "outputs": [
    {
     "data": {
      "text/plain": [
       "Misdemeanor Summons      8134\n",
       "Uniform Arrest Report    6171\n",
       "Infraction               2125\n",
       "Verbal Warning            626\n",
       "Written Warning           288\n",
       "No Disposition            123\n",
       "Name: InterventionDispositionCode, dtype: int64"
      ]
     },
     "execution_count": 62,
     "metadata": {},
     "output_type": "execute_result"
    }
   ],
   "source": [
    "df[df[\"CustodialArrestIndicator\"] == True][\"InterventionDispositionCode\"].value_counts()"
   ]
  },
  {
   "cell_type": "code",
   "execution_count": 61,
   "metadata": {
    "collapsed": false
   },
   "outputs": [
    {
     "data": {
      "text/plain": [
       "True     6171\n",
       "False    1822\n",
       "Name: CustodialArrestIndicator, dtype: int64"
      ]
     },
     "execution_count": 61,
     "metadata": {},
     "output_type": "execute_result"
    }
   ],
   "source": [
    "df[df[\"InterventionDispositionCode\"] == \"Uniform Arrest Report\"][\"CustodialArrestIndicator\"].value_counts()"
   ]
  },
  {
   "cell_type": "code",
   "execution_count": 69,
   "metadata": {
    "collapsed": false
   },
   "outputs": [
    {
     "data": {
      "text/plain": [
       "False    840124\n",
       "True      17467\n",
       "Name: CustodialArrestIndicator, dtype: int64"
      ]
     },
     "execution_count": 69,
     "metadata": {},
     "output_type": "execute_result"
    }
   ],
   "source": [
    "df[\"CustodialArrestIndicator\"].dropna().value_counts()"
   ]
  },
  {
   "cell_type": "code",
   "execution_count": 66,
   "metadata": {
    "collapsed": false
   },
   "outputs": [
    {
     "data": {
      "text/plain": [
       "0.02079097847460613"
      ]
     },
     "execution_count": 66,
     "metadata": {},
     "output_type": "execute_result"
    }
   ],
   "source": [
    "# Percentage of Interventions resulting in arrests\n",
    "17467/840124"
   ]
  },
  {
   "cell_type": "code",
   "execution_count": 70,
   "metadata": {
    "collapsed": true
   },
   "outputs": [],
   "source": [
    "df.drop(['InterventionDispositionReasonText', 'IsStatuteCodeValid','IsStatutatoryCitationValid',\n",
    "        'IsaTest', 'RecordCount', 'SourceId', 'SourceReferenceId',\"InterventionLocationLatitude\", \n",
    "         \"InterventionLocationLongitude\", \"OrganizationActivityText\"], axis = 1, inplace = True)"
   ]
  },
  {
   "cell_type": "code",
   "execution_count": 77,
   "metadata": {
    "collapsed": false
   },
   "outputs": [],
   "source": [
    "cols = ['InterventionDateTime',\n",
    " 'InterventionDate',\n",
    " 'InterventionTime',\n",
    " 'Month',\n",
    " 'Day of Week',\n",
    " 'CreatedDate',\n",
    " 'Department Name',\n",
    " 'ProfileNo',\n",
    " 'OrganizationIdentificationID',\n",
    " 'ReportingOfficerIdentificationID',\n",
    " 'InterventionIdentificationID',\n",
    " 'IdentificationCategoryDescriptionText',\n",
    " 'InterventionLocationName',\n",
    " 'ResidentIndicator',\n",
    " 'TownRecidentIndicator',\n",
    " 'SubjectRaceCode',\n",
    " 'SubjectEthnicityCode',\n",
    "    \"Race Group\",\n",
    " 'SubjectSexCode',\n",
    " 'SubjectAge',\n",
    " 'InterventionLocationDescriptionText',\n",
    " 'InterventionReasonCode',\n",
    " 'InterventionTechniqueCode',\n",
    " 'InterventionDurationCode',\n",
    " 'TowedIndicator',\n",
    " 'StatuteCodeIdentificationID',\n",
    " 'StatuteReason',\n",
    " 'StatutatoryCitation',\n",
    " 'VehicleSearchedIndicator',\n",
    " 'SearchAuthorizationCode',\n",
    " 'ContrabandIndicator',\n",
    " 'CustodialArrestIndicator',\n",
    " 'InterventionDispositionCode',\n",
    " 'InterventionDispositionDate']\n",
    "        \n",
    "df = df[cols]"
   ]
  },
  {
   "cell_type": "code",
   "execution_count": 83,
   "metadata": {
    "collapsed": true
   },
   "outputs": [],
   "source": [
    "df.to_csv(\"Ct Traffic Stop Data.csv\")"
   ]
  },
  {
   "cell_type": "code",
   "execution_count": 344,
   "metadata": {
    "collapsed": false
   },
   "outputs": [
    {
     "data": {
      "text/html": [
       "<div>\n",
       "<table border=\"1\" class=\"dataframe\">\n",
       "  <thead>\n",
       "    <tr style=\"text-align: right;\">\n",
       "      <th></th>\n",
       "      <th>SubjectAge</th>\n",
       "    </tr>\n",
       "  </thead>\n",
       "  <tbody>\n",
       "    <tr>\n",
       "      <th>count</th>\n",
       "      <td>854534.000000</td>\n",
       "    </tr>\n",
       "    <tr>\n",
       "      <th>mean</th>\n",
       "      <td>38.387456</td>\n",
       "    </tr>\n",
       "    <tr>\n",
       "      <th>std</th>\n",
       "      <td>14.551647</td>\n",
       "    </tr>\n",
       "    <tr>\n",
       "      <th>min</th>\n",
       "      <td>15.000000</td>\n",
       "    </tr>\n",
       "    <tr>\n",
       "      <th>25%</th>\n",
       "      <td>26.000000</td>\n",
       "    </tr>\n",
       "    <tr>\n",
       "      <th>50%</th>\n",
       "      <td>36.000000</td>\n",
       "    </tr>\n",
       "    <tr>\n",
       "      <th>75%</th>\n",
       "      <td>49.000000</td>\n",
       "    </tr>\n",
       "    <tr>\n",
       "      <th>max</th>\n",
       "      <td>85.000000</td>\n",
       "    </tr>\n",
       "  </tbody>\n",
       "</table>\n",
       "</div>"
      ],
      "text/plain": [
       "          SubjectAge\n",
       "count  854534.000000\n",
       "mean       38.387456\n",
       "std        14.551647\n",
       "min        15.000000\n",
       "25%        26.000000\n",
       "50%        36.000000\n",
       "75%        49.000000\n",
       "max        85.000000"
      ]
     },
     "execution_count": 344,
     "metadata": {},
     "output_type": "execute_result"
    }
   ],
   "source": [
    "df.describe()"
   ]
  },
  {
   "cell_type": "markdown",
   "metadata": {},
   "source": [
    "### Exploration"
   ]
  },
  {
   "cell_type": "code",
   "execution_count": 281,
   "metadata": {
    "collapsed": false
   },
   "outputs": [
    {
     "data": {
      "text/plain": [
       "<matplotlib.axes._subplots.AxesSubplot at 0x1241d1438>"
      ]
     },
     "execution_count": 281,
     "metadata": {},
     "output_type": "execute_result"
    },
    {
     "data": {
      "image/png": "[encoded data removed]",
      "text/plain": [
       "<matplotlib.figure.Figure at 0x1241d1048>"
      ]
     },
     "metadata": {},
     "output_type": "display_data"
    }
   ],
   "source": [
    "plt.figure(figsize = (18,8))\n",
    "plt.title(\"Total Count of Traffic Stops by Race\")\n",
    "df[\"Race Group\"].value_counts().plot(kind = \"bar\", color = \"#67696d\")"
   ]
  },
  {
   "cell_type": "code",
   "execution_count": 286,
   "metadata": {
    "collapsed": false
   },
   "outputs": [
    {
     "data": {
      "text/plain": [
       "<matplotlib.axes._subplots.AxesSubplot at 0x11cda5cf8>"
      ]
     },
     "execution_count": 286,
     "metadata": {},
     "output_type": "execute_result"
    },
    {
     "data": {
      "image/png": "[encoded data removed]",
      "text/plain": [
       "<matplotlib.figure.Figure at 0x1350e8ef0>"
      ]
     },
     "metadata": {},
     "output_type": "display_data"
    }
   ],
   "source": [
    "plt.figure(figsize = (18,8))\n",
    "plt.title(\"Count of Tickets Received by Race\")\n",
    "df[(df[\"InterventionDispositionCode\"] == \"Infraction\") | \n",
    "   (df[\"InterventionDispositionCode\"] == \"Misdemeanor Summons\")][\"Race Group\"].value_counts().plot(kind = \"bar\", color = \"#67696d\")"
   ]
  },
  {
   "cell_type": "code",
   "execution_count": 342,
   "metadata": {
    "collapsed": false
   },
   "outputs": [
    {
     "data": {
      "text/plain": [
       "<matplotlib.axes._subplots.AxesSubplot at 0x1171c9908>"
      ]
     },
     "execution_count": 342,
     "metadata": {},
     "output_type": "execute_result"
    },
    {
     "data": {
      "image/png": "[encoded data removed]",
      "text/plain": [
       "<matplotlib.figure.Figure at 0x19373f630>"
      ]
     },
     "metadata": {},
     "output_type": "display_data"
    }
   ],
   "source": [
    "table = pd.pivot_table(df, columns = \"InterventionDispositionCode\", \n",
    "               index = \"Race Group\", aggfunc = \"count\")[\"InterventionDate\"]\n",
    "table[\"Sum\"] = np.sum(table, axis =1)\n",
    "\n",
    "n = 0\n",
    "for x in table.index:\n",
    "    if n == 0:\n",
    "        holder = pd.DataFrame(table.ix[x]/table.ix[x][\"Sum\"])\n",
    "        n+=1\n",
    "    else:\n",
    "        holder = holder.join(pd.DataFrame(table.ix[x]/table.ix[x][\"Sum\"]))\n",
    "\n",
    "fig2 = plt.figure(figsize = (20,12))\n",
    "sns.heatmap(holder.drop(\"Sum\").T, cmap = \"coolwarm\", annot = True)"
   ]
  },
  {
   "cell_type": "code",
   "execution_count": 343,
   "metadata": {
    "collapsed": true
   },
   "outputs": [],
   "source": [
    "fig2.savefig(\"Outcomes Heatmap.png\", bbox_inches = \"tight\")"
   ]
  },
  {
   "cell_type": "code",
   "execution_count": 338,
   "metadata": {
    "collapsed": false
   },
   "outputs": [
    {
     "data": {
      "image/png": "[encoded data removed]",
      "text/plain": [
       "<matplotlib.figure.Figure at 0x128acd860>"
      ]
     },
     "metadata": {},
     "output_type": "display_data"
    }
   ],
   "source": [
    "fig1 = plt.figure(figsize = (20,12))\n",
    "\n",
    "N = len(df[\"Race Group\"].dropna().unique())\n",
    "warning = list(table[\"Verbal Warning\"] + table[\"Written Warning\"] + table[\"No Disposition\"])\n",
    "ticket = list(table[\"Misdemeanor Summons\"] + table[\"Infraction\"])\n",
    "arrest = list(table[\"Uniform Arrest Report\"])\n",
    "ind = np.arange(N)    # the x locations for the groups\n",
    "width = 0.35       # the width of the bars: can also be len(x) sequence\n",
    "\n",
    "p1 = plt.bar(ind, warning, width, bottom = ticket ,color = \"#61935d\")\n",
    "p2 = plt.bar(ind, ticket, width, bottom = arrest, color = \"#d3a313\")\n",
    "p3 = plt.bar(ind, arrest, width, color = \"#af453d\")\n",
    "\n",
    "plt.ylabel('Count')\n",
    "plt.title('Count of Intevention Type by Race Code')\n",
    "plt.xticks(ind, ('Asian', 'Black', 'Hispanic', 'Middle Eastern', 'Native American', 'White'))\n",
    "plt.legend((p1[0], p2[0], p3[0]), ('Warning', 'Ticket', \"Arrested\"),loc = 0)\n",
    "\n",
    "plt.show()"
   ]
  },
  {
   "cell_type": "markdown",
   "metadata": {},
   "source": [
    "#### Ticket or Arrested Predictor"
   ]
  },
  {
   "cell_type": "code",
   "execution_count": 212,
   "metadata": {
    "collapsed": false
   },
   "outputs": [
    {
     "data": {
      "text/plain": [
       "Infraction               392681\n",
       "Verbal Warning           244290\n",
       "Written Warning          151714\n",
       "Misdemeanor Summons       47719\n",
       "No Disposition            13495\n",
       "Uniform Arrest Report      7993\n",
       "Name: InterventionDispositionCode, dtype: int64"
      ]
     },
     "execution_count": 212,
     "metadata": {},
     "output_type": "execute_result"
    }
   ],
   "source": [
    "df[\"InterventionDispositionCode\"].value_counts()"
   ]
  },
  {
   "cell_type": "code",
   "execution_count": 346,
   "metadata": {
    "collapsed": false
   },
   "outputs": [],
   "source": [
    "ticket = []\n",
    "for x in df[\"InterventionDispositionCode\"]:\n",
    "    if x == \"Uniform Arrest Report\" or x == \"Infraction\" or x == \"Misdemeanor Summons\":\n",
    "        ticket.append(1)\n",
    "    else:\n",
    "        ticket.append(0)"
   ]
  },
  {
   "cell_type": "markdown",
   "metadata": {},
   "source": [
    "#### Logistic Regression for Coef"
   ]
  },
  {
   "cell_type": "code",
   "execution_count": 257,
   "metadata": {
    "collapsed": false
   },
   "outputs": [
    {
     "name": "stderr",
     "output_type": "stream",
     "text": [
      "//anaconda/lib/python3.5/site-packages/ipykernel/__main__.py:2: SettingWithCopyWarning: \n",
      "A value is trying to be set on a copy of a slice from a DataFrame.\n",
      "Try using .loc[row_indexer,col_indexer] = value instead\n",
      "\n",
      "See the caveats in the documentation: http://pandas.pydata.org/pandas-docs/stable/indexing.html#indexing-view-versus-copy\n",
      "  from ipykernel import kernelapp as app\n",
      "//anaconda/lib/python3.5/site-packages/ipykernel/__main__.py:3: SettingWithCopyWarning: \n",
      "A value is trying to be set on a copy of a slice from a DataFrame\n",
      "\n",
      "See the caveats in the documentation: http://pandas.pydata.org/pandas-docs/stable/indexing.html#indexing-view-versus-copy\n",
      "  app.launch_new_instance()\n",
      "//anaconda/lib/python3.5/site-packages/ipykernel/__main__.py:5: SettingWithCopyWarning: \n",
      "A value is trying to be set on a copy of a slice from a DataFrame\n",
      "\n",
      "See the caveats in the documentation: http://pandas.pydata.org/pandas-docs/stable/indexing.html#indexing-view-versus-copy\n",
      "//anaconda/lib/python3.5/site-packages/ipykernel/__main__.py:10: SettingWithCopyWarning: \n",
      "A value is trying to be set on a copy of a slice from a DataFrame.\n",
      "Try using .loc[row_indexer,col_indexer] = value instead\n",
      "\n",
      "See the caveats in the documentation: http://pandas.pydata.org/pandas-docs/stable/indexing.html#indexing-view-versus-copy\n"
     ]
    }
   ],
   "source": [
    "X = df[[\"Race Group\", \"SubjectSexCode\", \"SubjectAge\"]]\n",
    "X[\"Ticket\"] = ticket\n",
    "X.dropna(inplace = True)\n",
    "y = X[\"Ticket\"]\n",
    "X.drop(\"Ticket\", axis = 1, inplace = True)\n",
    "\n",
    "catList = (X.dtypes!=np.float64).tolist()\n",
    "le = LabelEncoder()\n",
    "for x in [\"Race Group\", \"SubjectSexCode\", \"SubjectAge\"]:\n",
    "    X[x] = le.fit_transform(X[x])\n",
    "\n",
    "oneHot = OneHotEncoder(categorical_features = catList, sparse = False)\n",
    "X = oneHot.fit_transform(X)\n",
    "\n",
    "X = pd.DataFrame(X, columns = [\"Asian\", \"Black\", \"Hispanic\", \"Middle Eastern\", \"Native\", \n",
    "                               \"White\", \"Female\", \"Male\", \"Age\"],\n",
    "                index = y.index)\n",
    "X.drop([\"White\", \"Male\"], axis = 1, inplace = True)"
   ]
  },
  {
   "cell_type": "code",
   "execution_count": 258,
   "metadata": {
    "collapsed": false
   },
   "outputs": [],
   "source": [
    "kf = cross_validation.KFold(len(X), n_folds = 10)\n",
    "gs = GridSearchCV(estimator = LogisticRegression(), param_grid = {\"penalty\": [\"l1\", 'l2']}, cv = kf)\n",
    "gs.fit(X, y)\n",
    "algo = gs.best_estimator_"
   ]
  },
  {
   "cell_type": "code",
   "execution_count": 259,
   "metadata": {
    "collapsed": false
   },
   "outputs": [
    {
     "data": {
      "text/plain": [
       "LogisticRegression(C=1.0, class_weight=None, dual=False, fit_intercept=True,\n",
       "          intercept_scaling=1, max_iter=100, multi_class='ovr', n_jobs=1,\n",
       "          penalty='l1', random_state=None, solver='liblinear', tol=0.0001,\n",
       "          verbose=0, warm_start=False)"
      ]
     },
     "execution_count": 259,
     "metadata": {},
     "output_type": "execute_result"
    }
   ],
   "source": [
    "algo"
   ]
  },
  {
   "cell_type": "code",
   "execution_count": 261,
   "metadata": {
    "collapsed": false
   },
   "outputs": [
    {
     "name": "stdout",
     "output_type": "stream",
     "text": [
      "Accuracy:  0.542309997097\n",
      "Coefficients:  [[ 0.12162745  0.11566944  0.36252508  0.12036413  0.2229778  -0.13230059\n",
      "  -0.00854607]]\n"
     ]
    }
   ],
   "source": [
    "print(\"Accuracy: \", algo.score(X, y))\n",
    "print(\"Coefficients: \", algo.coef_)"
   ]
  },
  {
   "cell_type": "code",
   "execution_count": 361,
   "metadata": {
    "collapsed": false
   },
   "outputs": [
    {
     "name": "stdout",
     "output_type": "stream",
     "text": [
      "Asian:  112.933329028\n",
      "Black:  112.262471597\n",
      "Hispanic:  143.695325932\n",
      "Middle Eastern:  112.790748176\n",
      "Native American:  124.979282803\n"
     ]
    }
   ],
   "source": [
    "print(\"Asian: \", np.exp(0.12162745)*100)\n",
    "print(\"Black: \", np.exp(0.11566944)*100)\n",
    "print(\"Hispanic: \", np.exp(0.36252508)*100)\n",
    "print(\"Middle Eastern: \", np.exp(0.12036413)*100)\n",
    "print(\"Native American: \", np.exp(0.2229778)*100)"
   ]
  },
  {
   "cell_type": "code",
   "execution_count": 262,
   "metadata": {
    "collapsed": false
   },
   "outputs": [
    {
     "data": {
      "text/plain": [
       "array([[61665, 59985],\n",
       "       [38621, 95410]])"
      ]
     },
     "execution_count": 262,
     "metadata": {},
     "output_type": "execute_result"
    }
   ],
   "source": [
    "confusion_matrix(y_test, lr.predict(X_test))"
   ]
  },
  {
   "cell_type": "code",
   "execution_count": 263,
   "metadata": {
    "collapsed": false
   },
   "outputs": [
    {
     "data": {
      "text/plain": [
       "<matplotlib.axes._subplots.AxesSubplot at 0x126c03780>"
      ]
     },
     "execution_count": 263,
     "metadata": {},
     "output_type": "execute_result"
    },
    {
     "data": {
      "image/png": "[encoded data removed]",
      "text/plain": [
       "<matplotlib.figure.Figure at 0x125481358>"
      ]
     },
     "metadata": {},
     "output_type": "display_data"
    }
   ],
   "source": [
    "sns.heatmap(confusion_matrix(y_test, lr.predict(X_test)), cmap = \"coolwarm\", annot = True, fmt = \"2g\")"
   ]
  },
  {
   "cell_type": "markdown",
   "metadata": {},
   "source": [
    "#### KNN"
   ]
  },
  {
   "cell_type": "code",
   "execution_count": 350,
   "metadata": {
    "collapsed": false
   },
   "outputs": [
    {
     "name": "stderr",
     "output_type": "stream",
     "text": [
      "//anaconda/lib/python3.5/site-packages/ipykernel/__main__.py:2: SettingWithCopyWarning: \n",
      "A value is trying to be set on a copy of a slice from a DataFrame.\n",
      "Try using .loc[row_indexer,col_indexer] = value instead\n",
      "\n",
      "See the caveats in the documentation: http://pandas.pydata.org/pandas-docs/stable/indexing.html#indexing-view-versus-copy\n",
      "  from ipykernel import kernelapp as app\n",
      "//anaconda/lib/python3.5/site-packages/ipykernel/__main__.py:3: SettingWithCopyWarning: \n",
      "A value is trying to be set on a copy of a slice from a DataFrame\n",
      "\n",
      "See the caveats in the documentation: http://pandas.pydata.org/pandas-docs/stable/indexing.html#indexing-view-versus-copy\n",
      "  app.launch_new_instance()\n",
      "//anaconda/lib/python3.5/site-packages/ipykernel/__main__.py:5: SettingWithCopyWarning: \n",
      "A value is trying to be set on a copy of a slice from a DataFrame\n",
      "\n",
      "See the caveats in the documentation: http://pandas.pydata.org/pandas-docs/stable/indexing.html#indexing-view-versus-copy\n"
     ]
    }
   ],
   "source": [
    "X = df[[\"Race Group\", \"SubjectSexCode\", \"SubjectAge\"]]\n",
    "X[\"Ticket\"] = ticket\n",
    "X.dropna(inplace = True)\n",
    "y = X[\"Ticket\"]\n",
    "X.drop(\"Ticket\", axis = 1, inplace = True)\n",
    "\n",
    "le = LabelEncoder()\n",
    "for x in [\"Race Group\", \"SubjectSexCode\", \"SubjectAge\"]:\n",
    "    X[x] = le.fit_transform(X[x])"
   ]
  },
  {
   "cell_type": "code",
   "execution_count": 354,
   "metadata": {
    "collapsed": false
   },
   "outputs": [
    {
     "data": {
      "text/plain": [
       "KNeighborsClassifier(algorithm='auto', leaf_size=30, metric='minkowski',\n",
       "           metric_params=None, n_jobs=1, n_neighbors=5, p=2,\n",
       "           weights='uniform')"
      ]
     },
     "execution_count": 354,
     "metadata": {},
     "output_type": "execute_result"
    }
   ],
   "source": [
    "knn = neighbors.KNeighborsClassifier()\n",
    "X_train, X_test, y_train, y_test = train_test_split(X, y, test_size=0.3)\n",
    "knn.fit(X_train, y_train)"
   ]
  },
  {
   "cell_type": "code",
   "execution_count": 360,
   "metadata": {
    "collapsed": false
   },
   "outputs": [
    {
     "data": {
      "text/plain": [
       "0.51609882843131516"
      ]
     },
     "execution_count": 360,
     "metadata": {},
     "output_type": "execute_result"
    }
   ],
   "source": [
    "knn.score(X_test,y_test)"
   ]
  },
  {
   "cell_type": "code",
   "execution_count": 364,
   "metadata": {
    "collapsed": false
   },
   "outputs": [],
   "source": [
    "# kf = cross_validation.KFold(len(X), n_folds = 2)\n",
    "# gs = GridSearchCV(estimator = knn, param_grid = {\"n_neighbors\": np.arange(5,11,1),\n",
    "#                                                                    \"weights\": [\"uniform\", \"distance\"]}, cv = kf)\n",
    "# gs.fit(X, y)\n",
    "# algo = gs.best_estimator_"
   ]
  },
  {
   "cell_type": "markdown",
   "metadata": {},
   "source": [
    "#### Improved Logistic Regression (More Features)"
   ]
  },
  {
   "cell_type": "code",
   "execution_count": 264,
   "metadata": {
    "collapsed": false
   },
   "outputs": [
    {
     "name": "stderr",
     "output_type": "stream",
     "text": [
      "//anaconda/lib/python3.5/site-packages/ipykernel/__main__.py:4: SettingWithCopyWarning: \n",
      "A value is trying to be set on a copy of a slice from a DataFrame.\n",
      "Try using .loc[row_indexer,col_indexer] = value instead\n",
      "\n",
      "See the caveats in the documentation: http://pandas.pydata.org/pandas-docs/stable/indexing.html#indexing-view-versus-copy\n",
      "//anaconda/lib/python3.5/site-packages/ipykernel/__main__.py:6: SettingWithCopyWarning: \n",
      "A value is trying to be set on a copy of a slice from a DataFrame\n",
      "\n",
      "See the caveats in the documentation: http://pandas.pydata.org/pandas-docs/stable/indexing.html#indexing-view-versus-copy\n",
      "//anaconda/lib/python3.5/site-packages/ipykernel/__main__.py:8: SettingWithCopyWarning: \n",
      "A value is trying to be set on a copy of a slice from a DataFrame\n",
      "\n",
      "See the caveats in the documentation: http://pandas.pydata.org/pandas-docs/stable/indexing.html#indexing-view-versus-copy\n",
      "//anaconda/lib/python3.5/site-packages/ipykernel/__main__.py:14: SettingWithCopyWarning: \n",
      "A value is trying to be set on a copy of a slice from a DataFrame.\n",
      "Try using .loc[row_indexer,col_indexer] = value instead\n",
      "\n",
      "See the caveats in the documentation: http://pandas.pydata.org/pandas-docs/stable/indexing.html#indexing-view-versus-copy\n"
     ]
    }
   ],
   "source": [
    "X = df[[\"Month\", \"Day of Week\", \"Department Name\", \"ResidentIndicator\", \"TownRecidentIndicator\", \"Race Group\",\n",
    "   \"SubjectSexCode\", \"SubjectAge\", \"InterventionReasonCode\", \"InterventionTechniqueCode\", \"InterventionDurationCode\",\n",
    "   \"TowedIndicator\", \"StatuteReason\", \"VehicleSearchedIndicator\", \"ContrabandIndicator\", \"CustodialArrestIndicator\"]]\n",
    "X[\"Ticket\"] = ticket\n",
    "\n",
    "X.dropna(inplace = True)\n",
    "y = X[\"Ticket\"]\n",
    "X.drop(\"Ticket\", axis = 1, inplace = True)\n",
    "\n",
    "le = LabelEncoder()\n",
    "for x in [\"Month\", \"Day of Week\", \"Department Name\", \"ResidentIndicator\", \"TownRecidentIndicator\", \"Race Group\",\n",
    "         \"SubjectSexCode\", \"InterventionReasonCode\", \"InterventionTechniqueCode\", \"InterventionDurationCode\",\n",
    "         \"TowedIndicator\", \"StatuteReason\", \"VehicleSearchedIndicator\", \"ContrabandIndicator\", \"CustodialArrestIndicator\"]:\n",
    "    X[x] = le.fit_transform(X[x])\n",
    "    \n",
    "oneHot = OneHotEncoder(categorical_features = (X.dtypes==np.int64).tolist(), sparse = False)\n",
    "X = oneHot.fit_transform(X)"
   ]
  },
  {
   "cell_type": "code",
   "execution_count": 265,
   "metadata": {
    "collapsed": false
   },
   "outputs": [
    {
     "name": "stdout",
     "output_type": "stream",
     "text": [
      "Percentage of Variance Explained:  [ 0.97198311  0.00239926  0.00213926  0.00168003  0.00136454]\n"
     ]
    },
    {
     "data": {
      "text/plain": [
       "(0, 1)"
      ]
     },
     "execution_count": 265,
     "metadata": {},
     "output_type": "execute_result"
    },
    {
     "data": {
      "image/png": "[encoded data removed]",
      "text/plain": [
       "<matplotlib.figure.Figure at 0x12ac5c470>"
      ]
     },
     "metadata": {},
     "output_type": "display_data"
    }
   ],
   "source": [
    "from sklearn import decomposition\n",
    "\n",
    "pca = decomposition.PCA(n_components = 5)\n",
    "X_pca = pca.fit_transform(X)\n",
    "print(\"Percentage of Variance Explained: \", pca.explained_variance_ratio_)\n",
    "variance = pca.explained_variance_ratio_.tolist()\n",
    "\n",
    "plt.figure(figsize = (12,8))\n",
    "plt.plot(pd.DataFrame(data = variance, index = np.arange(1,6).tolist(), columns = [\"Variance\"]))\n",
    "plt.title(\"Percentage of Variance Explained\")\n",
    "plt.ylim(0,1)"
   ]
  },
  {
   "cell_type": "code",
   "execution_count": 266,
   "metadata": {
    "collapsed": true
   },
   "outputs": [],
   "source": [
    "pca = decomposition.PCA(n_components = 2)\n",
    "X_pca = pca.fit_transform(X)"
   ]
  },
  {
   "cell_type": "code",
   "execution_count": 267,
   "metadata": {
    "collapsed": false
   },
   "outputs": [],
   "source": [
    "kf = cross_validation.KFold(len(X_pca), n_folds = 10)\n",
    "gs = GridSearchCV(estimator = LogisticRegression(), param_grid = {\"penalty\": [\"l1\", 'l2']}, cv = kf)\n",
    "gs.fit(X_pca, y)\n",
    "algo = gs.best_estimator_"
   ]
  },
  {
   "cell_type": "code",
   "execution_count": 268,
   "metadata": {
    "collapsed": false
   },
   "outputs": [
    {
     "name": "stdout",
     "output_type": "stream",
     "text": [
      "Accuracy:  0.614339743665\n"
     ]
    }
   ],
   "source": [
    "print(\"Accuracy: \", lr.score(X_test, y_test))"
   ]
  },
  {
   "cell_type": "code",
   "execution_count": 269,
   "metadata": {
    "collapsed": false
   },
   "outputs": [
    {
     "data": {
      "text/plain": [
       "array([[61665, 59985],\n",
       "       [38621, 95410]])"
      ]
     },
     "execution_count": 269,
     "metadata": {},
     "output_type": "execute_result"
    }
   ],
   "source": [
    "confusion_matrix(y_test, lr.predict(X_test))"
   ]
  },
  {
   "cell_type": "code",
   "execution_count": 270,
   "metadata": {
    "collapsed": false
   },
   "outputs": [
    {
     "name": "stdout",
     "output_type": "stream",
     "text": [
      "             precision    recall  f1-score   support\n",
      "\n",
      "          0       0.61      0.50      0.55    405052\n",
      "          1       0.61      0.71      0.66    447218\n",
      "\n",
      "avg / total       0.61      0.61      0.61    852270\n",
      "\n"
     ]
    }
   ],
   "source": [
    "print(classification_report(y, lr.predict(X_pca)))"
   ]
  },
  {
   "cell_type": "code",
   "execution_count": 271,
   "metadata": {
    "collapsed": false
   },
   "outputs": [
    {
     "data": {
      "text/plain": [
       "[<matplotlib.lines.Line2D at 0x129a16a58>]"
      ]
     },
     "execution_count": 271,
     "metadata": {},
     "output_type": "execute_result"
    },
    {
     "data": {
      "image/png": "[encoded data removed]",
      "text/plain": [
       "<matplotlib.figure.Figure at 0x12ac5c748>"
      ]
     },
     "metadata": {},
     "output_type": "display_data"
    }
   ],
   "source": [
    "predicted = lr.predict(X_pca)\n",
    "probability = lr.predict_proba(X_pca)\n",
    "\n",
    "plt.figure(figsize = (12,8))\n",
    "plt.title(\"ROC Curve / AUC Score\")\n",
    "plt.plot(roc_curve(y, probability[:,1])[0], roc_curve(y, probability[:,1])[1])"
   ]
  },
  {
   "cell_type": "markdown",
   "metadata": {},
   "source": []
  },
  {
   "cell_type": "code",
   "execution_count": 365,
   "metadata": {
    "collapsed": false
   },
   "outputs": [
    {
     "data": {
      "text/plain": [
       "'/Users/adeniyiharrison/.Trash/Traffic Stop Data'"
      ]
     },
     "execution_count": 365,
     "metadata": {},
     "output_type": "execute_result"
    }
   ],
   "source": [
    "os.getcwd()"
   ]
  },
  {
   "cell_type": "code",
   "execution_count": null,
   "metadata": {
    "collapsed": true
   },
   "outputs": [],
   "source": []
  },
  {
   "cell_type": "code",
   "execution_count": null,
   "metadata": {
    "collapsed": true
   },
   "outputs": [],
   "source": []
  },
  {
   "cell_type": "code",
   "execution_count": null,
   "metadata": {
    "collapsed": true
   },
   "outputs": [],
   "source": []
  }
 ],
 "metadata": {
  "kernelspec": {
   "display_name": "Python 3",
   "language": "python",
   "name": "python3"
  },
  "language_info": {
   "codemirror_mode": {
    "name": "ipython",
    "version": 3
   },
   "file_extension": ".py",
   "mimetype": "text/x-python",
   "name": "python",
   "nbconvert_exporter": "python",
   "pygments_lexer": "ipython3",
   "version": "3.5.2"
  }
 },
 "nbformat": 4,
 "nbformat_minor": 1
}
