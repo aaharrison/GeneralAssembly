{
 "cells": [
  {
   "cell_type": "code",
   "execution_count": 1,
   "metadata": {
    "collapsed": false
   },
   "outputs": [],
   "source": [
    "import os\n",
    "import datetime\n",
    "import pandas as pd\n",
    "import numpy as np\n",
    "import seaborn as sns\n",
    "import matplotlib.pyplot as plt\n",
    "%matplotlib inline\n",
    "\n",
    "from sklearn import neighbors, tree, feature_selection\n",
    "from sklearn.model_selection import GridSearchCV, train_test_split\n",
    "from sklearn.preprocessing import OneHotEncoder, StandardScaler\n",
    "from sklearn.linear_model import LinearRegression, LogisticRegression\n",
    "from sklearn.metrics import confusion_matrix, mean_squared_error, roc_auc_score, roc_curve"
   ]
  },
  {
   "cell_type": "code",
   "execution_count": 2,
   "metadata": {
    "collapsed": false
   },
   "outputs": [
    {
     "name": "stderr",
     "output_type": "stream",
     "text": [
      "//anaconda/lib/python3.5/site-packages/ipykernel/__main__.py:2: ParserWarning: Falling back to the 'python' engine because the 'c' engine does not support skipfooter; you can avoid this warning by specifying engine='python'.\n",
      "  from ipykernel import kernelapp as app\n",
      "//anaconda/lib/python3.5/site-packages/IPython/core/interactiveshell.py:2717: DtypeWarning: Columns (0,1,2) have mixed types. Specify dtype option on import or set low_memory=False.\n",
      "  interactivity=interactivity, compiler=compiler, result=result)\n",
      "//anaconda/lib/python3.5/site-packages/IPython/core/interactiveshell.py:2717: DtypeWarning: Columns (0) have mixed types. Specify dtype option on import or set low_memory=False.\n",
      "  interactivity=interactivity, compiler=compiler, result=result)\n"
     ]
    }
   ],
   "source": [
    "os.chdir(\"/Users/adeniyiharrison/Desktop/umn_foursquare_datasets\")\n",
    "users = pd.read_table(open(\"users.dat\"), sep = \"|\", skiprows = 0, skipfooter = 1)\n",
    "venues = pd.read_table(open(\"venues.dat\"), sep = \"|\")\n",
    "ratings = pd.read_table(open(\"ratings.dat\"), sep = \"|\")\n",
    "social = pd.read_table(open(\"socialgraph.dat\"), sep = \"|\")\n",
    "checkin = pd.read_table(open(\"checkins.dat\"), sep = \"|\")"
   ]
  },
  {
   "cell_type": "markdown",
   "metadata": {},
   "source": [
    "#### Users Data Clean"
   ]
  },
  {
   "cell_type": "code",
   "execution_count": 3,
   "metadata": {
    "collapsed": false
   },
   "outputs": [],
   "source": [
    "users.columns = [\"id\", \"lat\", \"long\"]\n",
    "users.drop([0,2153470], inplace = True)\n",
    "users[\"id\"] = users[\"id\"].apply(lambda x: int(x))\n",
    "\n",
    "userLat = []\n",
    "for x in users[\"lat\"]:\n",
    "    try:\n",
    "        userLat.append(float(x))\n",
    "    except:\n",
    "        userLat.append(np.nan)\n",
    "        \n",
    "\n",
    "userLong = []\n",
    "for x in users[\"long\"]:\n",
    "    try:\n",
    "        userLong.append(float(x))\n",
    "    except:\n",
    "        userLong.append(np.nan)\n",
    "        \n",
    "\n",
    "users[\"lat\"] = userLat\n",
    "users[\"long\"] = userLong\n",
    "\n",
    "users.sort_values(\"id\", ascending = True, inplace = True)\n",
    "users.set_index(\"id\", inplace = True)"
   ]
  },
  {
   "cell_type": "markdown",
   "metadata": {},
   "source": [
    "#### Venue Data Clean"
   ]
  },
  {
   "cell_type": "code",
   "execution_count": 4,
   "metadata": {
    "collapsed": false
   },
   "outputs": [],
   "source": [
    "venues.columns = [\"id\", \"lat\", \"long\"]\n",
    "venues.drop([0, 1143091], inplace = True)\n",
    "venues[\"id\"] = venues[\"id\"].apply(lambda x: int(x))\n",
    "\n",
    "venueLat = []\n",
    "for x in venues[\"lat\"]:\n",
    "    try:\n",
    "        venueLat.append(float(x))\n",
    "    except:\n",
    "        venueLat.append(np.nan)\n",
    "\n",
    "venueLong = []\n",
    "for x in venues[\"long\"]:\n",
    "    try:\n",
    "        venueLong.append(float(x))\n",
    "    except:\n",
    "        venueLong.append(np.nan)\n",
    "\n",
    "venues[\"lat\"] = venueLat\n",
    "venues[\"long\"] = venueLong\n",
    "\n",
    "venues.sort_values(\"id\", ascending = True, inplace = True)\n",
    "venues.set_index(\"id\", inplace = True)"
   ]
  },
  {
   "cell_type": "markdown",
   "metadata": {},
   "source": [
    "#### Rating Data Clean"
   ]
  },
  {
   "cell_type": "code",
   "execution_count": 5,
   "metadata": {
    "collapsed": false
   },
   "outputs": [],
   "source": [
    "ratings.drop([0,2809581], inplace = True)\n",
    "ratings.columns = [\"user_id\", \"venue_id\", \"rating\"]\n",
    "ratings[\"user_id\"] = ratings[\"user_id\"].apply(lambda x: int(x))\n",
    "ratings[\"venue_id\"] = ratings[\"venue_id\"].apply(lambda x: int(x))\n",
    "ratings[\"rating\"] = ratings[\"rating\"].apply(lambda x: float(x))"
   ]
  },
  {
   "cell_type": "markdown",
   "metadata": {},
   "source": [
    "#### Social Data Clean"
   ]
  },
  {
   "cell_type": "code",
   "execution_count": 6,
   "metadata": {
    "collapsed": false
   },
   "outputs": [],
   "source": [
    "social.drop([0,27098473, 27098474, 27098475, 27098476, 27098477, 27098478,\n",
    "       27098479, 27098480, 27098481, 27098482, 27098483, 27098484,\n",
    "       27098485, 27098486, 27098487, 27098487, 27098488], inplace = True)\n",
    "\n",
    "social.columns = [\"first_user_id\", \"second_user_id\"]\n",
    "\n",
    "first = []\n",
    "second = []\n",
    "for x in social[\"first_user_id\"]:\n",
    "    try:\n",
    "        x = x.replace(\" \", \"\")\n",
    "        first.append(int(x))\n",
    "    except:\n",
    "        first.append(x)\n",
    "        \n",
    "for x in social[\"second_user_id\"]:\n",
    "    try:\n",
    "        x = x.replace(\" \", \"\")\n",
    "        second.append(int(x))\n",
    "    except:\n",
    "        second.append(x)\n",
    "\n",
    "social[\"first_user_id\"] = first\n",
    "social[\"second_user_id\"] = second"
   ]
  },
  {
   "cell_type": "markdown",
   "metadata": {},
   "source": [
    "#### Check In Data Clean"
   ]
  },
  {
   "cell_type": "code",
   "execution_count": 7,
   "metadata": {
    "collapsed": false
   },
   "outputs": [],
   "source": [
    "checkin.drop([0,1021967], inplace = True)\n",
    "checkin.columns = [\"id\", \"user_id\", \"venue_id\", \"lat\", \"long\", \"timestamp\"]\n",
    "\n",
    "checkID = []\n",
    "userID = []\n",
    "venueID = []\n",
    "lat = []\n",
    "long = []\n",
    "time = []\n",
    "for x in checkin[\"id\"]:\n",
    "    try:\n",
    "        checkID.append(int(x))\n",
    "    except:\n",
    "        checkID.append(np.nan)\n",
    "\n",
    "for x in checkin[\"user_id\"]:\n",
    "    try:\n",
    "        userID.append(int(x))\n",
    "    except:\n",
    "        userID.append(np.nan)\n",
    "\n",
    "for x in checkin[\"venue_id\"]:\n",
    "    try:\n",
    "        venueID.append(int(x))\n",
    "    except:\n",
    "        venueID.append(np.nan)\n",
    "\n",
    "for x in checkin[\"lat\"]:\n",
    "    try:\n",
    "        lat.append(float(x))\n",
    "    except:\n",
    "        lat.append(np.nan)\n",
    "\n",
    "for x in checkin[\"long\"]:\n",
    "    try:\n",
    "        long.append(float(x))\n",
    "    except:\n",
    "        long.append(np.nan)\n",
    "\n",
    "for x in checkin[\"timestamp\"]:\n",
    "    if pd.isnull(x):\n",
    "        time.append(np.nan)\n",
    "    else:\n",
    "        time.append(x)\n",
    "\n",
    "checkin[\"id\"] = checkID\n",
    "checkin[\"user_id\"] = userID\n",
    "checkin[\"venue_id\"] = venueID\n",
    "checkin[\"lat\"] = lat\n",
    "checkin[\"long\"] = long\n",
    "checkin[\"timestamp\"] = time\n",
    "\n",
    "checkin.sort_values(\"id\", ascending = True, inplace = True)\n",
    "checkin.set_index(\"id\", inplace = True)\n",
    "checkin[\"timestamp\"] = checkin[\"timestamp\"].apply(lambda x: datetime.datetime.strptime(x, \" %Y-%m-%d %H:%M:%S\"))\n",
    "checkin[\"Year\"] = checkin[\"timestamp\"].apply(lambda x: x.year)\n",
    "checkin[\"Month\"] = checkin[\"timestamp\"].apply(lambda x: x.month)\n",
    "checkin[\"Day\"] = checkin[\"timestamp\"].apply(lambda x: x.day)\n",
    "checkin[\"Hour\"] = checkin[\"timestamp\"].apply(lambda x: x.hour)"
   ]
  },
  {
   "cell_type": "markdown",
   "metadata": {},
   "source": [
    "#### Save DataFrames"
   ]
  },
  {
   "cell_type": "code",
   "execution_count": 130,
   "metadata": {
    "collapsed": false
   },
   "outputs": [],
   "source": [
    "os.chdir(\"/Users/adeniyiharrison/Desktop/umn_foursquare_datasets/Cleaned\")\n",
    "# users.to_csv(\"Users.csv\")\n",
    "# venues.to_csv(\"Venues.csv\")\n",
    "# ratings.to_csv(\"Ratings.csv\")\n",
    "# checkin.to_csv(\"CheckIns.csv\")\n",
    "# social.to_csv(\"SocialGraph.csv\")"
   ]
  },
  {
   "cell_type": "markdown",
   "metadata": {},
   "source": [
    "### Analysis"
   ]
  },
  {
   "cell_type": "code",
   "execution_count": 8,
   "metadata": {
    "collapsed": false
   },
   "outputs": [],
   "source": [
    "users.reset_index(inplace = True)\n",
    "users.columns = [\"user_id\", \"user_lat\", \"user_long\"]\n",
    "\n",
    "venues.reset_index(inplace = True)\n",
    "venues.columns = [\"venue_id\", \"venue_lat\", \"venue_long\"]"
   ]
  },
  {
   "cell_type": "code",
   "execution_count": 9,
   "metadata": {
    "collapsed": false
   },
   "outputs": [],
   "source": [
    "userData = users.merge(ratings, left_on = \"user_id\", right_on = \"user_id\")\n",
    "userData = userData.merge(venues, left_on = \"venue_id\", right_on = \"venue_id\")"
   ]
  },
  {
   "cell_type": "code",
   "execution_count": 10,
   "metadata": {
    "collapsed": false
   },
   "outputs": [],
   "source": [
    "avgUserRating = pd.DataFrame(userData.groupby(\"user_id\")[\"rating\"].mean())"
   ]
  },
  {
   "cell_type": "code",
   "execution_count": 11,
   "metadata": {
    "collapsed": false
   },
   "outputs": [],
   "source": [
    "firstFriend = pd.DataFrame(social.groupby(\"first_user_id\")[\"first_user_id\"].count())"
   ]
  },
  {
   "cell_type": "code",
   "execution_count": 12,
   "metadata": {
    "collapsed": false
   },
   "outputs": [],
   "source": [
    "avgUserRating = avgUserRating.join(firstFriend)\n",
    "avgUserRating.columns = [\"Avg Rating\", \"Total Friends\"]\n",
    "avgUserRating[\"Total Friends\"].fillna(0, inplace = True)"
   ]
  },
  {
   "cell_type": "code",
   "execution_count": 13,
   "metadata": {
    "collapsed": false
   },
   "outputs": [
    {
     "name": "stdout",
     "output_type": "stream",
     "text": [
      "<class 'pandas.core.frame.DataFrame'>\n",
      "Int64Index: 2809580 entries, 0 to 2809579\n",
      "Data columns (total 7 columns):\n",
      "user_id       int64\n",
      "user_lat      float64\n",
      "user_long     float64\n",
      "venue_id      int64\n",
      "rating        float64\n",
      "venue_lat     float64\n",
      "venue_long    float64\n",
      "dtypes: float64(5), int64(2)\n",
      "memory usage: 171.5 MB\n"
     ]
    }
   ],
   "source": [
    "userData.info()"
   ]
  },
  {
   "cell_type": "code",
   "execution_count": 14,
   "metadata": {
    "collapsed": false
   },
   "outputs": [
    {
     "name": "stdout",
     "output_type": "stream",
     "text": [
      "<class 'pandas.core.frame.DataFrame'>\n",
      "Int64Index: 661986 entries, 1 to 2153502\n",
      "Data columns (total 2 columns):\n",
      "Avg Rating       661986 non-null float64\n",
      "Total Friends    661986 non-null float64\n",
      "dtypes: float64(2)\n",
      "memory usage: 15.2 MB\n"
     ]
    }
   ],
   "source": [
    "avgUserRating.info()"
   ]
  },
  {
   "cell_type": "markdown",
   "metadata": {},
   "source": [
    "#### Linear Regression"
   ]
  },
  {
   "cell_type": "code",
   "execution_count": 22,
   "metadata": {
    "collapsed": true
   },
   "outputs": [],
   "source": [
    "X = avgUserRating[\"Total Friends\"]\n",
    "y = avgUserRating[\"Avg Rating\"]\n",
    "\n",
    "X_train, X_test, y_train, y_test = train_test_split(X, y, test_size=0.3)\n",
    "\n",
    "lr = LinearRegression()"
   ]
  },
  {
   "cell_type": "code",
   "execution_count": 23,
   "metadata": {
    "collapsed": false
   },
   "outputs": [
    {
     "name": "stderr",
     "output_type": "stream",
     "text": [
      "//anaconda/lib/python3.5/site-packages/ipykernel/__main__.py:1: FutureWarning: reshape is deprecated and will raise in a subsequent release. Please use .values.reshape(...) instead\n",
      "  if __name__ == '__main__':\n"
     ]
    }
   ],
   "source": [
    "algo = lr.fit(X_train.reshape(len(X_train),1),y_train)"
   ]
  },
  {
   "cell_type": "code",
   "execution_count": null,
   "metadata": {
    "collapsed": true
   },
   "outputs": [],
   "source": [
    "feature_selection."
   ]
  },
  {
   "cell_type": "code",
   "execution_count": 29,
   "metadata": {
    "collapsed": false
   },
   "outputs": [
    {
     "name": "stdout",
     "output_type": "stream",
     "text": [
      "P Values:  [ 0.]\n",
      "Coeff:  [ 0.00018182]\n",
      "Y Intercept:  2.7026597934\n",
      "R Squared:  0.0049533429468\n"
     ]
    },
    {
     "name": "stderr",
     "output_type": "stream",
     "text": [
      "//anaconda/lib/python3.5/site-packages/ipykernel/__main__.py:1: FutureWarning: reshape is deprecated and will raise in a subsequent release. Please use .values.reshape(...) instead\n",
      "  if __name__ == '__main__':\n",
      "//anaconda/lib/python3.5/site-packages/ipykernel/__main__.py:6: FutureWarning: reshape is deprecated and will raise in a subsequent release. Please use .values.reshape(...) instead\n"
     ]
    }
   ],
   "source": [
    "pvals = feature_selection.f_regression(X_train.reshape(len(X_train),1),y_train)[1]\n",
    "\n",
    "print(\"P Values: \", pvals)\n",
    "print(\"Coeff: \", algo.coef_)\n",
    "print(\"Y Intercept: \", algo.intercept_)\n",
    "print(\"R Squared: \", algo.score(X_train.reshape(len(X_train), 1), y_train))\n",
    "\n",
    "\n"
   ]
  },
  {
   "cell_type": "code",
   "execution_count": 32,
   "metadata": {
    "collapsed": false,
    "scrolled": true
   },
   "outputs": [
    {
     "name": "stderr",
     "output_type": "stream",
     "text": [
      "//anaconda/lib/python3.5/site-packages/ipykernel/__main__.py:1: FutureWarning: reshape is deprecated and will raise in a subsequent release. Please use .values.reshape(...) instead\n",
      "  if __name__ == '__main__':\n",
      "//anaconda/lib/python3.5/site-packages/numpy/lib/function_base.py:564: VisibleDeprecationWarning: using a non-integer number instead of an integer will result in an error in the future\n",
      "  n = np.zeros(bins, ntype)\n",
      "//anaconda/lib/python3.5/site-packages/numpy/lib/function_base.py:611: VisibleDeprecationWarning: using a non-integer number instead of an integer will result in an error in the future\n",
      "  n += np.bincount(indices, weights=tmp_w, minlength=bins).astype(ntype)\n"
     ]
    },
    {
     "data": {
      "text/plain": [
       "(array([  1.00000000e+00,   0.00000000e+00,   0.00000000e+00,\n",
       "          1.00000000e+00,   0.00000000e+00,   0.00000000e+00,\n",
       "          0.00000000e+00,   0.00000000e+00,   0.00000000e+00,\n",
       "          0.00000000e+00,   0.00000000e+00,   0.00000000e+00,\n",
       "          0.00000000e+00,   0.00000000e+00,   0.00000000e+00,\n",
       "          0.00000000e+00,   0.00000000e+00,   0.00000000e+00,\n",
       "          0.00000000e+00,   0.00000000e+00,   0.00000000e+00,\n",
       "          0.00000000e+00,   0.00000000e+00,   0.00000000e+00,\n",
       "          0.00000000e+00,   0.00000000e+00,   0.00000000e+00,\n",
       "          0.00000000e+00,   0.00000000e+00,   0.00000000e+00,\n",
       "          0.00000000e+00,   0.00000000e+00,   0.00000000e+00,\n",
       "          0.00000000e+00,   0.00000000e+00,   0.00000000e+00,\n",
       "          0.00000000e+00,   0.00000000e+00,   0.00000000e+00,\n",
       "          0.00000000e+00,   0.00000000e+00,   0.00000000e+00,\n",
       "          0.00000000e+00,   0.00000000e+00,   0.00000000e+00,\n",
       "          0.00000000e+00,   0.00000000e+00,   0.00000000e+00,\n",
       "          0.00000000e+00,   0.00000000e+00,   0.00000000e+00,\n",
       "          0.00000000e+00,   0.00000000e+00,   0.00000000e+00,\n",
       "          0.00000000e+00,   0.00000000e+00,   0.00000000e+00,\n",
       "          0.00000000e+00,   0.00000000e+00,   0.00000000e+00,\n",
       "          0.00000000e+00,   0.00000000e+00,   0.00000000e+00,\n",
       "          0.00000000e+00,   0.00000000e+00,   0.00000000e+00,\n",
       "          0.00000000e+00,   0.00000000e+00,   0.00000000e+00,\n",
       "          0.00000000e+00,   0.00000000e+00,   0.00000000e+00,\n",
       "          0.00000000e+00,   0.00000000e+00,   0.00000000e+00,\n",
       "          0.00000000e+00,   0.00000000e+00,   0.00000000e+00,\n",
       "          0.00000000e+00,   0.00000000e+00,   0.00000000e+00,\n",
       "          0.00000000e+00,   0.00000000e+00,   0.00000000e+00,\n",
       "          0.00000000e+00,   0.00000000e+00,   0.00000000e+00,\n",
       "          0.00000000e+00,   0.00000000e+00,   0.00000000e+00,\n",
       "          0.00000000e+00,   0.00000000e+00,   0.00000000e+00,\n",
       "          0.00000000e+00,   0.00000000e+00,   0.00000000e+00,\n",
       "          0.00000000e+00,   0.00000000e+00,   0.00000000e+00,\n",
       "          0.00000000e+00,   0.00000000e+00,   0.00000000e+00,\n",
       "          0.00000000e+00,   0.00000000e+00,   0.00000000e+00,\n",
       "          0.00000000e+00,   0.00000000e+00,   0.00000000e+00,\n",
       "          0.00000000e+00,   0.00000000e+00,   0.00000000e+00,\n",
       "          0.00000000e+00,   0.00000000e+00,   0.00000000e+00,\n",
       "          0.00000000e+00,   0.00000000e+00,   0.00000000e+00,\n",
       "          0.00000000e+00,   0.00000000e+00,   0.00000000e+00,\n",
       "          0.00000000e+00,   0.00000000e+00,   0.00000000e+00,\n",
       "          0.00000000e+00,   0.00000000e+00,   0.00000000e+00,\n",
       "          0.00000000e+00,   0.00000000e+00,   0.00000000e+00,\n",
       "          0.00000000e+00,   0.00000000e+00,   0.00000000e+00,\n",
       "          0.00000000e+00,   0.00000000e+00,   0.00000000e+00,\n",
       "          0.00000000e+00,   0.00000000e+00,   0.00000000e+00,\n",
       "          0.00000000e+00,   1.00000000e+00,   0.00000000e+00,\n",
       "          0.00000000e+00,   0.00000000e+00,   0.00000000e+00,\n",
       "          0.00000000e+00,   0.00000000e+00,   0.00000000e+00,\n",
       "          0.00000000e+00,   0.00000000e+00,   0.00000000e+00,\n",
       "          0.00000000e+00,   0.00000000e+00,   0.00000000e+00,\n",
       "          0.00000000e+00,   0.00000000e+00,   0.00000000e+00,\n",
       "          0.00000000e+00,   0.00000000e+00,   0.00000000e+00,\n",
       "          0.00000000e+00,   0.00000000e+00,   0.00000000e+00,\n",
       "          0.00000000e+00,   0.00000000e+00,   0.00000000e+00,\n",
       "          0.00000000e+00,   0.00000000e+00,   0.00000000e+00,\n",
       "          0.00000000e+00,   0.00000000e+00,   0.00000000e+00,\n",
       "          0.00000000e+00,   0.00000000e+00,   0.00000000e+00,\n",
       "          0.00000000e+00,   0.00000000e+00,   0.00000000e+00,\n",
       "          0.00000000e+00,   0.00000000e+00,   0.00000000e+00,\n",
       "          0.00000000e+00,   0.00000000e+00,   0.00000000e+00,\n",
       "          0.00000000e+00,   0.00000000e+00,   0.00000000e+00,\n",
       "          0.00000000e+00,   0.00000000e+00,   0.00000000e+00,\n",
       "          0.00000000e+00,   0.00000000e+00,   0.00000000e+00,\n",
       "          0.00000000e+00,   1.00000000e+00,   0.00000000e+00,\n",
       "          0.00000000e+00,   0.00000000e+00,   0.00000000e+00,\n",
       "          0.00000000e+00,   0.00000000e+00,   0.00000000e+00,\n",
       "          0.00000000e+00,   0.00000000e+00,   0.00000000e+00,\n",
       "          0.00000000e+00,   0.00000000e+00,   0.00000000e+00,\n",
       "          0.00000000e+00,   0.00000000e+00,   0.00000000e+00,\n",
       "          0.00000000e+00,   0.00000000e+00,   0.00000000e+00,\n",
       "          0.00000000e+00,   0.00000000e+00,   0.00000000e+00,\n",
       "          0.00000000e+00,   0.00000000e+00,   0.00000000e+00,\n",
       "          0.00000000e+00,   0.00000000e+00,   0.00000000e+00,\n",
       "          0.00000000e+00,   0.00000000e+00,   0.00000000e+00,\n",
       "          1.00000000e+00,   0.00000000e+00,   0.00000000e+00,\n",
       "          0.00000000e+00,   0.00000000e+00,   0.00000000e+00,\n",
       "          0.00000000e+00,   0.00000000e+00,   0.00000000e+00,\n",
       "          0.00000000e+00,   0.00000000e+00,   0.00000000e+00,\n",
       "          0.00000000e+00,   0.00000000e+00,   0.00000000e+00,\n",
       "          0.00000000e+00,   0.00000000e+00,   0.00000000e+00,\n",
       "          0.00000000e+00,   0.00000000e+00,   0.00000000e+00,\n",
       "          0.00000000e+00,   0.00000000e+00,   0.00000000e+00,\n",
       "          0.00000000e+00,   0.00000000e+00,   0.00000000e+00,\n",
       "          0.00000000e+00,   0.00000000e+00,   0.00000000e+00,\n",
       "          0.00000000e+00,   0.00000000e+00,   0.00000000e+00,\n",
       "          0.00000000e+00,   0.00000000e+00,   0.00000000e+00,\n",
       "          0.00000000e+00,   0.00000000e+00,   1.00000000e+00,\n",
       "          0.00000000e+00,   0.00000000e+00,   0.00000000e+00,\n",
       "          0.00000000e+00,   0.00000000e+00,   0.00000000e+00,\n",
       "          0.00000000e+00,   0.00000000e+00,   1.00000000e+00,\n",
       "          0.00000000e+00,   0.00000000e+00,   0.00000000e+00,\n",
       "          0.00000000e+00,   0.00000000e+00,   0.00000000e+00,\n",
       "          0.00000000e+00,   0.00000000e+00,   0.00000000e+00,\n",
       "          0.00000000e+00,   0.00000000e+00,   0.00000000e+00,\n",
       "          0.00000000e+00,   0.00000000e+00,   0.00000000e+00,\n",
       "          0.00000000e+00,   0.00000000e+00,   0.00000000e+00,\n",
       "          0.00000000e+00,   0.00000000e+00,   0.00000000e+00,\n",
       "          0.00000000e+00,   0.00000000e+00,   0.00000000e+00,\n",
       "          0.00000000e+00,   0.00000000e+00,   0.00000000e+00,\n",
       "          0.00000000e+00,   0.00000000e+00,   0.00000000e+00,\n",
       "          1.00000000e+00,   0.00000000e+00,   0.00000000e+00,\n",
       "          0.00000000e+00,   0.00000000e+00,   0.00000000e+00,\n",
       "          0.00000000e+00,   0.00000000e+00,   0.00000000e+00,\n",
       "          0.00000000e+00,   0.00000000e+00,   0.00000000e+00,\n",
       "          0.00000000e+00,   0.00000000e+00,   0.00000000e+00,\n",
       "          0.00000000e+00,   0.00000000e+00,   0.00000000e+00,\n",
       "          0.00000000e+00,   0.00000000e+00,   0.00000000e+00,\n",
       "          0.00000000e+00,   0.00000000e+00,   0.00000000e+00,\n",
       "          0.00000000e+00,   0.00000000e+00,   0.00000000e+00,\n",
       "          0.00000000e+00,   0.00000000e+00,   1.00000000e+00,\n",
       "          0.00000000e+00,   0.00000000e+00,   0.00000000e+00,\n",
       "          0.00000000e+00,   0.00000000e+00,   0.00000000e+00,\n",
       "          0.00000000e+00,   0.00000000e+00,   0.00000000e+00,\n",
       "          0.00000000e+00,   0.00000000e+00,   0.00000000e+00,\n",
       "          1.00000000e+00,   0.00000000e+00,   0.00000000e+00,\n",
       "          0.00000000e+00,   0.00000000e+00,   0.00000000e+00,\n",
       "          0.00000000e+00,   0.00000000e+00,   0.00000000e+00,\n",
       "          0.00000000e+00,   0.00000000e+00,   0.00000000e+00,\n",
       "          0.00000000e+00,   0.00000000e+00,   0.00000000e+00,\n",
       "          0.00000000e+00,   0.00000000e+00,   0.00000000e+00,\n",
       "          0.00000000e+00,   0.00000000e+00,   0.00000000e+00,\n",
       "          0.00000000e+00,   0.00000000e+00,   0.00000000e+00,\n",
       "          0.00000000e+00,   0.00000000e+00,   0.00000000e+00,\n",
       "          0.00000000e+00,   0.00000000e+00,   0.00000000e+00,\n",
       "          0.00000000e+00,   0.00000000e+00,   0.00000000e+00,\n",
       "          0.00000000e+00,   0.00000000e+00,   0.00000000e+00,\n",
       "          0.00000000e+00,   0.00000000e+00,   0.00000000e+00,\n",
       "          0.00000000e+00,   0.00000000e+00,   0.00000000e+00,\n",
       "          0.00000000e+00,   0.00000000e+00,   0.00000000e+00,\n",
       "          0.00000000e+00,   0.00000000e+00,   0.00000000e+00,\n",
       "          0.00000000e+00,   0.00000000e+00,   0.00000000e+00,\n",
       "          0.00000000e+00,   0.00000000e+00,   0.00000000e+00,\n",
       "          0.00000000e+00,   0.00000000e+00,   0.00000000e+00,\n",
       "          0.00000000e+00,   0.00000000e+00,   1.00000000e+00,\n",
       "          0.00000000e+00,   0.00000000e+00,   0.00000000e+00,\n",
       "          0.00000000e+00,   0.00000000e+00,   0.00000000e+00,\n",
       "          0.00000000e+00,   0.00000000e+00,   0.00000000e+00,\n",
       "          0.00000000e+00,   0.00000000e+00,   0.00000000e+00,\n",
       "          0.00000000e+00,   0.00000000e+00,   0.00000000e+00,\n",
       "          0.00000000e+00,   0.00000000e+00,   0.00000000e+00,\n",
       "          0.00000000e+00,   0.00000000e+00,   0.00000000e+00,\n",
       "          0.00000000e+00,   0.00000000e+00,   0.00000000e+00,\n",
       "          0.00000000e+00,   0.00000000e+00,   0.00000000e+00,\n",
       "          0.00000000e+00,   0.00000000e+00,   0.00000000e+00,\n",
       "          0.00000000e+00,   0.00000000e+00,   0.00000000e+00,\n",
       "          0.00000000e+00,   0.00000000e+00,   1.00000000e+00,\n",
       "          0.00000000e+00,   0.00000000e+00,   0.00000000e+00,\n",
       "          0.00000000e+00,   0.00000000e+00,   0.00000000e+00,\n",
       "          1.00000000e+00,   0.00000000e+00,   0.00000000e+00,\n",
       "          0.00000000e+00,   0.00000000e+00,   0.00000000e+00,\n",
       "          1.00000000e+00,   0.00000000e+00,   1.00000000e+00,\n",
       "          0.00000000e+00,   0.00000000e+00,   0.00000000e+00,\n",
       "          0.00000000e+00,   0.00000000e+00,   0.00000000e+00,\n",
       "          0.00000000e+00,   0.00000000e+00,   0.00000000e+00,\n",
       "          0.00000000e+00,   0.00000000e+00,   0.00000000e+00,\n",
       "          0.00000000e+00,   1.00000000e+00,   0.00000000e+00,\n",
       "          0.00000000e+00,   0.00000000e+00,   0.00000000e+00,\n",
       "          0.00000000e+00,   0.00000000e+00,   0.00000000e+00,\n",
       "          0.00000000e+00,   0.00000000e+00,   0.00000000e+00,\n",
       "          0.00000000e+00,   0.00000000e+00,   0.00000000e+00,\n",
       "          0.00000000e+00,   0.00000000e+00,   0.00000000e+00,\n",
       "          0.00000000e+00,   0.00000000e+00,   0.00000000e+00,\n",
       "          0.00000000e+00,   1.00000000e+00,   0.00000000e+00,\n",
       "          0.00000000e+00,   0.00000000e+00,   0.00000000e+00,\n",
       "          0.00000000e+00,   0.00000000e+00,   0.00000000e+00,\n",
       "          0.00000000e+00,   0.00000000e+00,   0.00000000e+00,\n",
       "          0.00000000e+00,   0.00000000e+00,   0.00000000e+00,\n",
       "          0.00000000e+00,   1.00000000e+00,   0.00000000e+00,\n",
       "          0.00000000e+00,   0.00000000e+00,   0.00000000e+00,\n",
       "          1.00000000e+00,   0.00000000e+00,   0.00000000e+00,\n",
       "          0.00000000e+00,   0.00000000e+00,   0.00000000e+00,\n",
       "          0.00000000e+00,   0.00000000e+00,   0.00000000e+00,\n",
       "          1.00000000e+00,   0.00000000e+00,   1.00000000e+00,\n",
       "          1.00000000e+00,   0.00000000e+00,   0.00000000e+00,\n",
       "          1.00000000e+00,   1.00000000e+00,   0.00000000e+00,\n",
       "          0.00000000e+00,   0.00000000e+00,   0.00000000e+00,\n",
       "          0.00000000e+00,   0.00000000e+00,   0.00000000e+00,\n",
       "          0.00000000e+00,   0.00000000e+00,   0.00000000e+00,\n",
       "          0.00000000e+00,   0.00000000e+00,   1.00000000e+00,\n",
       "          0.00000000e+00,   0.00000000e+00,   0.00000000e+00,\n",
       "          1.00000000e+00,   1.00000000e+00,   1.00000000e+00,\n",
       "          0.00000000e+00,   0.00000000e+00,   0.00000000e+00,\n",
       "          0.00000000e+00,   0.00000000e+00,   3.00000000e+00,\n",
       "          1.00000000e+00,   2.00000000e+00,   1.00000000e+00,\n",
       "          1.00000000e+00,   0.00000000e+00,   1.00000000e+00,\n",
       "          2.00000000e+00,   1.00000000e+00,   0.00000000e+00,\n",
       "          1.00000000e+00,   0.00000000e+00,   0.00000000e+00,\n",
       "          0.00000000e+00,   0.00000000e+00,   1.00000000e+00,\n",
       "          2.00000000e+00,   0.00000000e+00,   0.00000000e+00,\n",
       "          2.00000000e+00,   0.00000000e+00,   0.00000000e+00,\n",
       "          2.00000000e+00,   4.00000000e+00,   6.00000000e+00,\n",
       "          8.00000000e+00,   1.40000000e+01,   5.00000000e+01,\n",
       "          1.08000000e+02,   6.13000000e+02,   2.97065000e+05,\n",
       "          1.20000000e+01,   3.20000000e+01,   1.06000000e+02,\n",
       "          1.87000000e+02,   1.90000000e+02,   2.43000000e+02,\n",
       "          3.71000000e+02,   2.51000000e+02,   4.93000000e+02,\n",
       "          2.17000000e+02,   1.29700000e+03,   5.90000000e+01,\n",
       "          3.07000000e+02,   3.75000000e+02,   1.15000000e+02,\n",
       "          2.21000000e+02,   2.68200000e+03,   5.60000000e+01,\n",
       "          1.50000000e+02,   3.70000000e+02,   1.05000000e+02,\n",
       "          1.53000000e+03,   7.50000000e+01,   1.51000000e+02,\n",
       "          7.19000000e+02,   1.13000000e+02,   2.69000000e+02,\n",
       "          2.27000000e+02,   1.65000000e+02,   1.49000000e+02,\n",
       "          1.14000000e+02,   3.20000000e+02,   2.65140000e+04,\n",
       "          3.30000000e+01,   8.50000000e+01,   1.53000000e+02,\n",
       "          2.36000000e+02,   2.03000000e+02,   2.66000000e+02,\n",
       "          4.90000000e+02,   2.91000000e+02,   4.52000000e+02,\n",
       "          2.87000000e+02,   1.15700000e+03,   2.44000000e+02,\n",
       "          3.69000000e+02,   3.96000000e+02,   3.86000000e+02,\n",
       "          9.50000000e+02,   5.24700000e+03,   4.16000000e+02,\n",
       "          5.95000000e+02,   7.16000000e+02,   6.16000000e+02,\n",
       "          1.47500000e+03,   5.61000000e+02,   7.15000000e+02,\n",
       "          9.50000000e+02,   7.11000000e+02,   1.11700000e+03,\n",
       "          9.11000000e+02,   9.03000000e+02,   8.67000000e+02,\n",
       "          7.81000000e+02,   9.51000000e+02,   3.06270000e+04,\n",
       "          3.77000000e+02,   7.24000000e+02,   9.40000000e+02,\n",
       "          1.11500000e+03,   1.25800000e+03,   1.31200000e+03,\n",
       "          1.50600000e+03,   1.55300000e+03,   1.86000000e+03,\n",
       "          1.30500000e+03,   2.73500000e+03,   9.34000000e+02,\n",
       "          1.56900000e+03,   1.60900000e+03,   1.32800000e+03,\n",
       "          1.22600000e+03,   4.84000000e+03,   1.06000000e+03,\n",
       "          1.53400000e+03,   1.68800000e+03,   1.39700000e+03,\n",
       "          3.23200000e+03,   9.21000000e+02,   1.42400000e+03,\n",
       "          2.29500000e+03,   1.24700000e+03,   1.79900000e+03,\n",
       "          1.47500000e+03,   1.43300000e+03,   1.22800000e+03,\n",
       "          9.42000000e+02,   8.48000000e+02,   2.44180000e+04]),\n",
       " array([ -1.83110669e+01,  -1.82808050e+01,  -1.82505430e+01,\n",
       "         -1.82202810e+01,  -1.81900190e+01,  -1.81597570e+01,\n",
       "         -1.81294951e+01,  -1.80992331e+01,  -1.80689711e+01,\n",
       "         -1.80387091e+01,  -1.80084472e+01,  -1.79781852e+01,\n",
       "         -1.79479232e+01,  -1.79176612e+01,  -1.78873992e+01,\n",
       "         -1.78571373e+01,  -1.78268753e+01,  -1.77966133e+01,\n",
       "         -1.77663513e+01,  -1.77360894e+01,  -1.77058274e+01,\n",
       "         -1.76755654e+01,  -1.76453034e+01,  -1.76150414e+01,\n",
       "         -1.75847795e+01,  -1.75545175e+01,  -1.75242555e+01,\n",
       "         -1.74939935e+01,  -1.74637315e+01,  -1.74334696e+01,\n",
       "         -1.74032076e+01,  -1.73729456e+01,  -1.73426836e+01,\n",
       "         -1.73124217e+01,  -1.72821597e+01,  -1.72518977e+01,\n",
       "         -1.72216357e+01,  -1.71913737e+01,  -1.71611118e+01,\n",
       "         -1.71308498e+01,  -1.71005878e+01,  -1.70703258e+01,\n",
       "         -1.70400639e+01,  -1.70098019e+01,  -1.69795399e+01,\n",
       "         -1.69492779e+01,  -1.69190159e+01,  -1.68887540e+01,\n",
       "         -1.68584920e+01,  -1.68282300e+01,  -1.67979680e+01,\n",
       "         -1.67677060e+01,  -1.67374441e+01,  -1.67071821e+01,\n",
       "         -1.66769201e+01,  -1.66466581e+01,  -1.66163962e+01,\n",
       "         -1.65861342e+01,  -1.65558722e+01,  -1.65256102e+01,\n",
       "         -1.64953482e+01,  -1.64650863e+01,  -1.64348243e+01,\n",
       "         -1.64045623e+01,  -1.63743003e+01,  -1.63440384e+01,\n",
       "         -1.63137764e+01,  -1.62835144e+01,  -1.62532524e+01,\n",
       "         -1.62229904e+01,  -1.61927285e+01,  -1.61624665e+01,\n",
       "         -1.61322045e+01,  -1.61019425e+01,  -1.60716806e+01,\n",
       "         -1.60414186e+01,  -1.60111566e+01,  -1.59808946e+01,\n",
       "         -1.59506326e+01,  -1.59203707e+01,  -1.58901087e+01,\n",
       "         -1.58598467e+01,  -1.58295847e+01,  -1.57993227e+01,\n",
       "         -1.57690608e+01,  -1.57387988e+01,  -1.57085368e+01,\n",
       "         -1.56782748e+01,  -1.56480129e+01,  -1.56177509e+01,\n",
       "         -1.55874889e+01,  -1.55572269e+01,  -1.55269649e+01,\n",
       "         -1.54967030e+01,  -1.54664410e+01,  -1.54361790e+01,\n",
       "         -1.54059170e+01,  -1.53756551e+01,  -1.53453931e+01,\n",
       "         -1.53151311e+01,  -1.52848691e+01,  -1.52546071e+01,\n",
       "         -1.52243452e+01,  -1.51940832e+01,  -1.51638212e+01,\n",
       "         -1.51335592e+01,  -1.51032972e+01,  -1.50730353e+01,\n",
       "         -1.50427733e+01,  -1.50125113e+01,  -1.49822493e+01,\n",
       "         -1.49519874e+01,  -1.49217254e+01,  -1.48914634e+01,\n",
       "         -1.48612014e+01,  -1.48309394e+01,  -1.48006775e+01,\n",
       "         -1.47704155e+01,  -1.47401535e+01,  -1.47098915e+01,\n",
       "         -1.46796296e+01,  -1.46493676e+01,  -1.46191056e+01,\n",
       "         -1.45888436e+01,  -1.45585816e+01,  -1.45283197e+01,\n",
       "         -1.44980577e+01,  -1.44677957e+01,  -1.44375337e+01,\n",
       "         -1.44072718e+01,  -1.43770098e+01,  -1.43467478e+01,\n",
       "         -1.43164858e+01,  -1.42862238e+01,  -1.42559619e+01,\n",
       "         -1.42256999e+01,  -1.41954379e+01,  -1.41651759e+01,\n",
       "         -1.41349139e+01,  -1.41046520e+01,  -1.40743900e+01,\n",
       "         -1.40441280e+01,  -1.40138660e+01,  -1.39836041e+01,\n",
       "         -1.39533421e+01,  -1.39230801e+01,  -1.38928181e+01,\n",
       "         -1.38625561e+01,  -1.38322942e+01,  -1.38020322e+01,\n",
       "         -1.37717702e+01,  -1.37415082e+01,  -1.37112463e+01,\n",
       "         -1.36809843e+01,  -1.36507223e+01,  -1.36204603e+01,\n",
       "         -1.35901983e+01,  -1.35599364e+01,  -1.35296744e+01,\n",
       "         -1.34994124e+01,  -1.34691504e+01,  -1.34388884e+01,\n",
       "         -1.34086265e+01,  -1.33783645e+01,  -1.33481025e+01,\n",
       "         -1.33178405e+01,  -1.32875786e+01,  -1.32573166e+01,\n",
       "         -1.32270546e+01,  -1.31967926e+01,  -1.31665306e+01,\n",
       "         -1.31362687e+01,  -1.31060067e+01,  -1.30757447e+01,\n",
       "         -1.30454827e+01,  -1.30152208e+01,  -1.29849588e+01,\n",
       "         -1.29546968e+01,  -1.29244348e+01,  -1.28941728e+01,\n",
       "         -1.28639109e+01,  -1.28336489e+01,  -1.28033869e+01,\n",
       "         -1.27731249e+01,  -1.27428630e+01,  -1.27126010e+01,\n",
       "         -1.26823390e+01,  -1.26520770e+01,  -1.26218150e+01,\n",
       "         -1.25915531e+01,  -1.25612911e+01,  -1.25310291e+01,\n",
       "         -1.25007671e+01,  -1.24705051e+01,  -1.24402432e+01,\n",
       "         -1.24099812e+01,  -1.23797192e+01,  -1.23494572e+01,\n",
       "         -1.23191953e+01,  -1.22889333e+01,  -1.22586713e+01,\n",
       "         -1.22284093e+01,  -1.21981473e+01,  -1.21678854e+01,\n",
       "         -1.21376234e+01,  -1.21073614e+01,  -1.20770994e+01,\n",
       "         -1.20468375e+01,  -1.20165755e+01,  -1.19863135e+01,\n",
       "         -1.19560515e+01,  -1.19257895e+01,  -1.18955276e+01,\n",
       "         -1.18652656e+01,  -1.18350036e+01,  -1.18047416e+01,\n",
       "         -1.17744796e+01,  -1.17442177e+01,  -1.17139557e+01,\n",
       "         -1.16836937e+01,  -1.16534317e+01,  -1.16231698e+01,\n",
       "         -1.15929078e+01,  -1.15626458e+01,  -1.15323838e+01,\n",
       "         -1.15021218e+01,  -1.14718599e+01,  -1.14415979e+01,\n",
       "         -1.14113359e+01,  -1.13810739e+01,  -1.13508120e+01,\n",
       "         -1.13205500e+01,  -1.12902880e+01,  -1.12600260e+01,\n",
       "         -1.12297640e+01,  -1.11995021e+01,  -1.11692401e+01,\n",
       "         -1.11389781e+01,  -1.11087161e+01,  -1.10784542e+01,\n",
       "         -1.10481922e+01,  -1.10179302e+01,  -1.09876682e+01,\n",
       "         -1.09574062e+01,  -1.09271443e+01,  -1.08968823e+01,\n",
       "         -1.08666203e+01,  -1.08363583e+01,  -1.08060963e+01,\n",
       "         -1.07758344e+01,  -1.07455724e+01,  -1.07153104e+01,\n",
       "         -1.06850484e+01,  -1.06547865e+01,  -1.06245245e+01,\n",
       "         -1.05942625e+01,  -1.05640005e+01,  -1.05337385e+01,\n",
       "         -1.05034766e+01,  -1.04732146e+01,  -1.04429526e+01,\n",
       "         -1.04126906e+01,  -1.03824287e+01,  -1.03521667e+01,\n",
       "         -1.03219047e+01,  -1.02916427e+01,  -1.02613807e+01,\n",
       "         -1.02311188e+01,  -1.02008568e+01,  -1.01705948e+01,\n",
       "         -1.01403328e+01,  -1.01100708e+01,  -1.00798089e+01,\n",
       "         -1.00495469e+01,  -1.00192849e+01,  -9.98902294e+00,\n",
       "         -9.95876096e+00,  -9.92849898e+00,  -9.89823700e+00,\n",
       "         -9.86797502e+00,  -9.83771305e+00,  -9.80745107e+00,\n",
       "         -9.77718909e+00,  -9.74692711e+00,  -9.71666513e+00,\n",
       "         -9.68640315e+00,  -9.65614118e+00,  -9.62587920e+00,\n",
       "         -9.59561722e+00,  -9.56535524e+00,  -9.53509326e+00,\n",
       "         -9.50483129e+00,  -9.47456931e+00,  -9.44430733e+00,\n",
       "         -9.41404535e+00,  -9.38378337e+00,  -9.35352139e+00,\n",
       "         -9.32325942e+00,  -9.29299744e+00,  -9.26273546e+00,\n",
       "         -9.23247348e+00,  -9.20221150e+00,  -9.17194953e+00,\n",
       "         -9.14168755e+00,  -9.11142557e+00,  -9.08116359e+00,\n",
       "         -9.05090161e+00,  -9.02063963e+00,  -8.99037766e+00,\n",
       "         -8.96011568e+00,  -8.92985370e+00,  -8.89959172e+00,\n",
       "         -8.86932974e+00,  -8.83906777e+00,  -8.80880579e+00,\n",
       "         -8.77854381e+00,  -8.74828183e+00,  -8.71801985e+00,\n",
       "         -8.68775787e+00,  -8.65749590e+00,  -8.62723392e+00,\n",
       "         -8.59697194e+00,  -8.56670996e+00,  -8.53644798e+00,\n",
       "         -8.50618601e+00,  -8.47592403e+00,  -8.44566205e+00,\n",
       "         -8.41540007e+00,  -8.38513809e+00,  -8.35487611e+00,\n",
       "         -8.32461414e+00,  -8.29435216e+00,  -8.26409018e+00,\n",
       "         -8.23382820e+00,  -8.20356622e+00,  -8.17330425e+00,\n",
       "         -8.14304227e+00,  -8.11278029e+00,  -8.08251831e+00,\n",
       "         -8.05225633e+00,  -8.02199435e+00,  -7.99173238e+00,\n",
       "         -7.96147040e+00,  -7.93120842e+00,  -7.90094644e+00,\n",
       "         -7.87068446e+00,  -7.84042249e+00,  -7.81016051e+00,\n",
       "         -7.77989853e+00,  -7.74963655e+00,  -7.71937457e+00,\n",
       "         -7.68911259e+00,  -7.65885062e+00,  -7.62858864e+00,\n",
       "         -7.59832666e+00,  -7.56806468e+00,  -7.53780270e+00,\n",
       "         -7.50754073e+00,  -7.47727875e+00,  -7.44701677e+00,\n",
       "         -7.41675479e+00,  -7.38649281e+00,  -7.35623083e+00,\n",
       "         -7.32596886e+00,  -7.29570688e+00,  -7.26544490e+00,\n",
       "         -7.23518292e+00,  -7.20492094e+00,  -7.17465897e+00,\n",
       "         -7.14439699e+00,  -7.11413501e+00,  -7.08387303e+00,\n",
       "         -7.05361105e+00,  -7.02334907e+00,  -6.99308710e+00,\n",
       "         -6.96282512e+00,  -6.93256314e+00,  -6.90230116e+00,\n",
       "         -6.87203918e+00,  -6.84177721e+00,  -6.81151523e+00,\n",
       "         -6.78125325e+00,  -6.75099127e+00,  -6.72072929e+00,\n",
       "         -6.69046731e+00,  -6.66020534e+00,  -6.62994336e+00,\n",
       "         -6.59968138e+00,  -6.56941940e+00,  -6.53915742e+00,\n",
       "         -6.50889545e+00,  -6.47863347e+00,  -6.44837149e+00,\n",
       "         -6.41810951e+00,  -6.38784753e+00,  -6.35758555e+00,\n",
       "         -6.32732358e+00,  -6.29706160e+00,  -6.26679962e+00,\n",
       "         -6.23653764e+00,  -6.20627566e+00,  -6.17601369e+00,\n",
       "         -6.14575171e+00,  -6.11548973e+00,  -6.08522775e+00,\n",
       "         -6.05496577e+00,  -6.02470379e+00,  -5.99444182e+00,\n",
       "         -5.96417984e+00,  -5.93391786e+00,  -5.90365588e+00,\n",
       "         -5.87339390e+00,  -5.84313193e+00,  -5.81286995e+00,\n",
       "         -5.78260797e+00,  -5.75234599e+00,  -5.72208401e+00,\n",
       "         -5.69182203e+00,  -5.66156006e+00,  -5.63129808e+00,\n",
       "         -5.60103610e+00,  -5.57077412e+00,  -5.54051214e+00,\n",
       "         -5.51025017e+00,  -5.47998819e+00,  -5.44972621e+00,\n",
       "         -5.41946423e+00,  -5.38920225e+00,  -5.35894027e+00,\n",
       "         -5.32867830e+00,  -5.29841632e+00,  -5.26815434e+00,\n",
       "         -5.23789236e+00,  -5.20763038e+00,  -5.17736841e+00,\n",
       "         -5.14710643e+00,  -5.11684445e+00,  -5.08658247e+00,\n",
       "         -5.05632049e+00,  -5.02605851e+00,  -4.99579654e+00,\n",
       "         -4.96553456e+00,  -4.93527258e+00,  -4.90501060e+00,\n",
       "         -4.87474862e+00,  -4.84448664e+00,  -4.81422467e+00,\n",
       "         -4.78396269e+00,  -4.75370071e+00,  -4.72343873e+00,\n",
       "         -4.69317675e+00,  -4.66291478e+00,  -4.63265280e+00,\n",
       "         -4.60239082e+00,  -4.57212884e+00,  -4.54186686e+00,\n",
       "         -4.51160488e+00,  -4.48134291e+00,  -4.45108093e+00,\n",
       "         -4.42081895e+00,  -4.39055697e+00,  -4.36029499e+00,\n",
       "         -4.33003302e+00,  -4.29977104e+00,  -4.26950906e+00,\n",
       "         -4.23924708e+00,  -4.20898510e+00,  -4.17872312e+00,\n",
       "         -4.14846115e+00,  -4.11819917e+00,  -4.08793719e+00,\n",
       "         -4.05767521e+00,  -4.02741323e+00,  -3.99715126e+00,\n",
       "         -3.96688928e+00,  -3.93662730e+00,  -3.90636532e+00,\n",
       "         -3.87610334e+00,  -3.84584136e+00,  -3.81557939e+00,\n",
       "         -3.78531741e+00,  -3.75505543e+00,  -3.72479345e+00,\n",
       "         -3.69453147e+00,  -3.66426950e+00,  -3.63400752e+00,\n",
       "         -3.60374554e+00,  -3.57348356e+00,  -3.54322158e+00,\n",
       "         -3.51295960e+00,  -3.48269763e+00,  -3.45243565e+00,\n",
       "         -3.42217367e+00,  -3.39191169e+00,  -3.36164971e+00,\n",
       "         -3.33138774e+00,  -3.30112576e+00,  -3.27086378e+00,\n",
       "         -3.24060180e+00,  -3.21033982e+00,  -3.18007784e+00,\n",
       "         -3.14981587e+00,  -3.11955389e+00,  -3.08929191e+00,\n",
       "         -3.05902993e+00,  -3.02876795e+00,  -2.99850598e+00,\n",
       "         -2.96824400e+00,  -2.93798202e+00,  -2.90772004e+00,\n",
       "         -2.87745806e+00,  -2.84719608e+00,  -2.81693411e+00,\n",
       "         -2.78667213e+00,  -2.75641015e+00,  -2.72614817e+00,\n",
       "         -2.69588619e+00,  -2.66562422e+00,  -2.63536224e+00,\n",
       "         -2.60510026e+00,  -2.57483828e+00,  -2.54457630e+00,\n",
       "         -2.51431432e+00,  -2.48405235e+00,  -2.45379037e+00,\n",
       "         -2.42352839e+00,  -2.39326641e+00,  -2.36300443e+00,\n",
       "         -2.33274246e+00,  -2.30248048e+00,  -2.27221850e+00,\n",
       "         -2.24195652e+00,  -2.21169454e+00,  -2.18143256e+00,\n",
       "         -2.15117059e+00,  -2.12090861e+00,  -2.09064663e+00,\n",
       "         -2.06038465e+00,  -2.03012267e+00,  -1.99986070e+00,\n",
       "         -1.96959872e+00,  -1.93933674e+00,  -1.90907476e+00,\n",
       "         -1.87881278e+00,  -1.84855080e+00,  -1.81828883e+00,\n",
       "         -1.78802685e+00,  -1.75776487e+00,  -1.72750289e+00,\n",
       "         -1.69724091e+00,  -1.66697894e+00,  -1.63671696e+00,\n",
       "         -1.60645498e+00,  -1.57619300e+00,  -1.54593102e+00,\n",
       "         -1.51566904e+00,  -1.48540707e+00,  -1.45514509e+00,\n",
       "         -1.42488311e+00,  -1.39462113e+00,  -1.36435915e+00,\n",
       "         -1.33409718e+00,  -1.30383520e+00,  -1.27357322e+00,\n",
       "         -1.24331124e+00,  -1.21304926e+00,  -1.18278728e+00,\n",
       "         -1.15252531e+00,  -1.12226333e+00,  -1.09200135e+00,\n",
       "         -1.06173937e+00,  -1.03147739e+00,  -1.00121542e+00,\n",
       "         -9.70953437e-01,  -9.40691459e-01,  -9.10429481e-01,\n",
       "         -8.80167503e-01,  -8.49905525e-01,  -8.19643546e-01,\n",
       "         -7.89381568e-01,  -7.59119590e-01,  -7.28857612e-01,\n",
       "         -6.98595634e-01,  -6.68333655e-01,  -6.38071677e-01,\n",
       "         -6.07809699e-01,  -5.77547721e-01,  -5.47285743e-01,\n",
       "         -5.17023765e-01,  -4.86761786e-01,  -4.56499808e-01,\n",
       "         -4.26237830e-01,  -3.95975852e-01,  -3.65713874e-01,\n",
       "         -3.35451895e-01,  -3.05189917e-01,  -2.74927939e-01,\n",
       "         -2.44665961e-01,  -2.14403983e-01,  -1.84142005e-01,\n",
       "         -1.53880026e-01,  -1.23618048e-01,  -9.33560700e-02,\n",
       "         -6.30940918e-02,  -3.28321136e-02,  -2.57013543e-03,\n",
       "          2.76918427e-02,   5.79538209e-02,   8.82157991e-02,\n",
       "          1.18477777e-01,   1.48739755e-01,   1.79001734e-01,\n",
       "          2.09263712e-01,   2.39525690e-01,   2.69787668e-01,\n",
       "          3.00049646e-01,   3.30311625e-01,   3.60573603e-01,\n",
       "          3.90835581e-01,   4.21097559e-01,   4.51359537e-01,\n",
       "          4.81621516e-01,   5.11883494e-01,   5.42145472e-01,\n",
       "          5.72407450e-01,   6.02669428e-01,   6.32931406e-01,\n",
       "          6.63193385e-01,   6.93455363e-01,   7.23717341e-01,\n",
       "          7.53979319e-01,   7.84241297e-01,   8.14503276e-01,\n",
       "          8.44765254e-01,   8.75027232e-01,   9.05289210e-01,\n",
       "          9.35551188e-01,   9.65813166e-01,   9.96075145e-01,\n",
       "          1.02633712e+00,   1.05659910e+00,   1.08686108e+00,\n",
       "          1.11712306e+00,   1.14738504e+00,   1.17764701e+00,\n",
       "          1.20790899e+00,   1.23817097e+00,   1.26843295e+00,\n",
       "          1.29869493e+00,   1.32895690e+00,   1.35921888e+00,\n",
       "          1.38948086e+00,   1.41974284e+00,   1.45000482e+00,\n",
       "          1.48026680e+00,   1.51052877e+00,   1.54079075e+00,\n",
       "          1.57105273e+00,   1.60131471e+00,   1.63157669e+00,\n",
       "          1.66183866e+00,   1.69210064e+00,   1.72236262e+00,\n",
       "          1.75262460e+00,   1.78288658e+00,   1.81314856e+00,\n",
       "          1.84341053e+00,   1.87367251e+00,   1.90393449e+00,\n",
       "          1.93419647e+00,   1.96445845e+00,   1.99472042e+00,\n",
       "          2.02498240e+00,   2.05524438e+00,   2.08550636e+00,\n",
       "          2.11576834e+00,   2.14603032e+00,   2.17629229e+00,\n",
       "          2.20655427e+00,   2.23681625e+00,   2.26707823e+00,\n",
       "          2.29734021e+00]),\n",
       " <a list of 681 Patch objects>)"
      ]
     },
     "execution_count": 32,
     "metadata": {},
     "output_type": "execute_result"
    },
    {
     "data": {
      "image/png": "[encoded data removed]",
      "text/plain": [
       "<matplotlib.figure.Figure at 0x133d0f7f0>"
      ]
     },
     "metadata": {},
     "output_type": "display_data"
    }
   ],
   "source": [
    "residuals = (y_train - algo.predict(X_train.reshape(len(X_train),1))).values\n",
    "bins = np.round(np.sqrt(len(residuals)))\n",
    "\n",
    "plt.figure(figsize = (20,12))\n",
    "plt.hist(residuals, bins = bins, color = \"grey\")"
   ]
  }
 ],
 "metadata": {
  "kernelspec": {
   "display_name": "Python 3",
   "language": "python",
   "name": "python3"
  },
  "language_info": {
   "codemirror_mode": {
    "name": "ipython",
    "version": 3
   },
   "file_extension": ".py",
   "mimetype": "text/x-python",
   "name": "python",
   "nbconvert_exporter": "python",
   "pygments_lexer": "ipython3",
   "version": "3.5.2"
  }
 },
 "nbformat": 4,
 "nbformat_minor": 1
}
