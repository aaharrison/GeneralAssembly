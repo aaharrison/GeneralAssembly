{
 "cells": [
  {
   "cell_type": "code",
   "execution_count": 1,
   "metadata": {
    "collapsed": false
   },
   "outputs": [],
   "source": [
    "import os\n",
    "import datetime\n",
    "import pandas as pd\n",
    "import numpy as np\n",
    "import seaborn as sns\n",
    "import matplotlib.pyplot as plt\n",
    "%matplotlib inline\n",
    "\n",
    "from sklearn import neighbors, tree, feature_selection\n",
    "from sklearn.model_selection import GridSearchCV, train_test_split\n",
    "from sklearn.preprocessing import OneHotEncoder, StandardScaler\n",
    "from sklearn.linear_model import LinearRegression, LogisticRegression\n",
    "from sklearn.metrics import confusion_matrix, mean_squared_error, roc_auc_score, roc_curve"
   ]
  },
  {
   "cell_type": "code",
   "execution_count": 2,
   "metadata": {
    "collapsed": false
   },
   "outputs": [
    {
     "name": "stderr",
     "output_type": "stream",
     "text": [
      "//anaconda/lib/python3.5/site-packages/ipykernel/__main__.py:2: ParserWarning: Falling back to the 'python' engine because the 'c' engine does not support skipfooter; you can avoid this warning by specifying engine='python'.\n",
      "  from ipykernel import kernelapp as app\n",
      "//anaconda/lib/python3.5/site-packages/IPython/core/interactiveshell.py:2717: DtypeWarning: Columns (0,1,2) have mixed types. Specify dtype option on import or set low_memory=False.\n",
      "  interactivity=interactivity, compiler=compiler, result=result)\n",
      "//anaconda/lib/python3.5/site-packages/IPython/core/interactiveshell.py:2717: DtypeWarning: Columns (0) have mixed types. Specify dtype option on import or set low_memory=False.\n",
      "  interactivity=interactivity, compiler=compiler, result=result)\n"
     ]
    }
   ],
   "source": [
    "os.chdir(\"/Users/adeniyiharrison/Desktop/umn_foursquare_datasets\")\n",
    "users = pd.read_table(open(\"users.dat\"), sep = \"|\", skiprows = 0, skipfooter = 1)\n",
    "venues = pd.read_table(open(\"venues.dat\"), sep = \"|\")\n",
    "ratings = pd.read_table(open(\"ratings.dat\"), sep = \"|\")\n",
    "social = pd.read_table(open(\"socialgraph.dat\"), sep = \"|\")\n",
    "checkin = pd.read_table(open(\"checkins.dat\"), sep = \"|\")"
   ]
  },
  {
   "cell_type": "markdown",
   "metadata": {},
   "source": [
    "#### Users Data Clean"
   ]
  },
  {
   "cell_type": "code",
   "execution_count": 3,
   "metadata": {
    "collapsed": false
   },
   "outputs": [
    {
     "name": "stderr",
     "output_type": "stream",
     "text": [
      "//anaconda/lib/python3.5/site-packages/ipykernel/__main__.py:24: FutureWarning: sort(columns=....) is deprecated, use sort_values(by=.....)\n"
     ]
    }
   ],
   "source": [
    "users.columns = [\"id\", \"lat\", \"long\"]\n",
    "users.drop([0,2153470], inplace = True)\n",
    "users[\"id\"] = users[\"id\"].apply(lambda x: int(x))\n",
    "\n",
    "userLat = []\n",
    "for x in users[\"lat\"]:\n",
    "    try:\n",
    "        userLat.append(float(x))\n",
    "    except:\n",
    "        userLat.append(np.nan)\n",
    "        \n",
    "\n",
    "userLong = []\n",
    "for x in users[\"long\"]:\n",
    "    try:\n",
    "        userLong.append(float(x))\n",
    "    except:\n",
    "        userLong.append(np.nan)\n",
    "        \n",
    "\n",
    "users[\"lat\"] = userLat\n",
    "users[\"long\"] = userLong\n",
    "\n",
    "users.sort(\"id\", ascending = True, inplace = True)\n",
    "users.set_index(\"id\", inplace = True)"
   ]
  },
  {
   "cell_type": "markdown",
   "metadata": {},
   "source": [
    "#### Venue Data Clean"
   ]
  },
  {
   "cell_type": "code",
   "execution_count": 4,
   "metadata": {
    "collapsed": false
   },
   "outputs": [
    {
     "name": "stderr",
     "output_type": "stream",
     "text": [
      "//anaconda/lib/python3.5/site-packages/ipykernel/__main__.py:22: FutureWarning: sort(columns=....) is deprecated, use sort_values(by=.....)\n"
     ]
    }
   ],
   "source": [
    "venues.columns = [\"id\", \"lat\", \"long\"]\n",
    "venues.drop([0, 1143091], inplace = True)\n",
    "venues[\"id\"] = venues[\"id\"].apply(lambda x: int(x))\n",
    "\n",
    "venueLat = []\n",
    "for x in venues[\"lat\"]:\n",
    "    try:\n",
    "        venueLat.append(float(x))\n",
    "    except:\n",
    "        venueLat.append(np.nan)\n",
    "\n",
    "venueLong = []\n",
    "for x in venues[\"long\"]:\n",
    "    try:\n",
    "        venueLong.append(float(x))\n",
    "    except:\n",
    "        venueLong.append(np.nan)\n",
    "\n",
    "venues[\"lat\"] = venueLat\n",
    "venues[\"long\"] = venueLong\n",
    "\n",
    "venues.sort(\"id\", ascending = True, inplace = True)\n",
    "venues.set_index(\"id\", inplace = True)"
   ]
  },
  {
   "cell_type": "markdown",
   "metadata": {},
   "source": [
    "#### Rating Data Clean"
   ]
  },
  {
   "cell_type": "code",
   "execution_count": 5,
   "metadata": {
    "collapsed": false
   },
   "outputs": [],
   "source": [
    "ratings.drop([0,2809581], inplace = True)\n",
    "ratings.columns = [\"user_id\", \"venue_id\", \"rating\"]\n",
    "ratings[\"user_id\"] = ratings[\"user_id\"].apply(lambda x: int(x))\n",
    "ratings[\"venue_id\"] = ratings[\"venue_id\"].apply(lambda x: int(x))\n",
    "ratings[\"rating\"] = ratings[\"rating\"].apply(lambda x: float(x))"
   ]
  },
  {
   "cell_type": "markdown",
   "metadata": {},
   "source": [
    "#### Social Data Clean"
   ]
  },
  {
   "cell_type": "code",
   "execution_count": 6,
   "metadata": {
    "collapsed": false
   },
   "outputs": [],
   "source": [
    "social.drop([0,27098473, 27098474, 27098475, 27098476, 27098477, 27098478,\n",
    "       27098479, 27098480, 27098481, 27098482, 27098483, 27098484,\n",
    "       27098485, 27098486, 27098487, 27098487, 27098488], inplace = True)\n",
    "\n",
    "social.columns = [\"first_user_id\", \"second_user_id\"]\n",
    "\n",
    "first = []\n",
    "second = []\n",
    "for x in social[\"first_user_id\"]:\n",
    "    try:\n",
    "        x = x.replace(\" \", \"\")\n",
    "        first.append(int(x))\n",
    "    except:\n",
    "        first.append(x)\n",
    "        \n",
    "for x in social[\"second_user_id\"]:\n",
    "    try:\n",
    "        x = x.replace(\" \", \"\")\n",
    "        second.append(int(x))\n",
    "    except:\n",
    "        second.append(x)\n",
    "\n",
    "social[\"first_user_id\"] = first\n",
    "social[\"second_user_id\"] = second"
   ]
  },
  {
   "cell_type": "markdown",
   "metadata": {},
   "source": [
    "#### Check In Data Clean"
   ]
  },
  {
   "cell_type": "code",
   "execution_count": 7,
   "metadata": {
    "collapsed": false
   },
   "outputs": [],
   "source": [
    "checkin.drop([0,1021967], inplace = True)\n",
    "checkin.columns = [\"id\", \"user_id\", \"venue_id\", \"lat\", \"long\", \"timestamp\"]\n",
    "\n",
    "checkID = []\n",
    "userID = []\n",
    "venueID = []\n",
    "lat = []\n",
    "long = []\n",
    "time = []\n",
    "for x in checkin[\"id\"]:\n",
    "    try:\n",
    "        checkID.append(int(x))\n",
    "    except:\n",
    "        checkID.append(np.nan)\n",
    "\n",
    "for x in checkin[\"user_id\"]:\n",
    "    try:\n",
    "        userID.append(int(x))\n",
    "    except:\n",
    "        userID.append(np.nan)\n",
    "\n",
    "for x in checkin[\"venue_id\"]:\n",
    "    try:\n",
    "        venueID.append(int(x))\n",
    "    except:\n",
    "        venueID.append(np.nan)\n",
    "\n",
    "for x in checkin[\"lat\"]:\n",
    "    try:\n",
    "        lat.append(float(x))\n",
    "    except:\n",
    "        lat.append(np.nan)\n",
    "\n",
    "for x in checkin[\"long\"]:\n",
    "    try:\n",
    "        long.append(float(x))\n",
    "    except:\n",
    "        long.append(np.nan)\n",
    "\n",
    "for x in checkin[\"timestamp\"]:\n",
    "    if pd.isnull(x):\n",
    "        time.append(np.nan)\n",
    "    else:\n",
    "        time.append(x)\n",
    "\n",
    "checkin[\"id\"] = checkID\n",
    "checkin[\"user_id\"] = userID\n",
    "checkin[\"venue_id\"] = venueID\n",
    "checkin[\"lat\"] = lat\n",
    "checkin[\"long\"] = long\n",
    "checkin[\"timestamp\"] = time\n",
    "\n",
    "checkin.sort_values(\"id\", ascending = True, inplace = True)\n",
    "checkin.set_index(\"id\", inplace = True)\n",
    "checkin[\"timestamp\"] = checkin[\"timestamp\"].apply(lambda x: datetime.datetime.strptime(x, \" %Y-%m-%d %H:%M:%S\"))\n",
    "checkin[\"Year\"] = checkin[\"timestamp\"].apply(lambda x: x.year)\n",
    "checkin[\"Month\"] = checkin[\"timestamp\"].apply(lambda x: x.month)\n",
    "checkin[\"Day\"] = checkin[\"timestamp\"].apply(lambda x: x.day)\n",
    "checkin[\"Hour\"] = checkin[\"timestamp\"].apply(lambda x: x.hour)"
   ]
  },
  {
   "cell_type": "markdown",
   "metadata": {},
   "source": [
    "#### Save DataFrames"
   ]
  },
  {
   "cell_type": "code",
   "execution_count": 130,
   "metadata": {
    "collapsed": false
   },
   "outputs": [],
   "source": [
    "os.chdir(\"/Users/adeniyiharrison/Desktop/umn_foursquare_datasets/Cleaned\")\n",
    "# users.to_csv(\"Users.csv\")\n",
    "# venues.to_csv(\"Venues.csv\")\n",
    "# ratings.to_csv(\"Ratings.csv\")\n",
    "# checkin.to_csv(\"CheckIns.csv\")\n",
    "# social.to_csv(\"SocialGraph.csv\")"
   ]
  },
  {
   "cell_type": "markdown",
   "metadata": {},
   "source": [
    "### Analysis"
   ]
  },
  {
   "cell_type": "code",
   "execution_count": 8,
   "metadata": {
    "collapsed": false
   },
   "outputs": [],
   "source": [
    "users.reset_index(inplace = True)\n",
    "users.columns = [\"user_id\", \"user_lat\", \"user_long\"]\n",
    "\n",
    "venues.reset_index(inplace = True)\n",
    "venues.columns = [\"venue_id\", \"venue_lat\", \"venue_long\"]"
   ]
  },
  {
   "cell_type": "code",
   "execution_count": 9,
   "metadata": {
    "collapsed": false
   },
   "outputs": [],
   "source": [
    "userData = users.merge(ratings, left_on = \"user_id\", right_on = \"user_id\")\n",
    "userData = userData.merge(venues, left_on = \"venue_id\", right_on = \"venue_id\")"
   ]
  },
  {
   "cell_type": "code",
   "execution_count": 10,
   "metadata": {
    "collapsed": false
   },
   "outputs": [],
   "source": [
    "avgUserRating = pd.DataFrame(userData.groupby(\"user_id\")[\"rating\"].mean())"
   ]
  },
  {
   "cell_type": "code",
   "execution_count": 11,
   "metadata": {
    "collapsed": false
   },
   "outputs": [],
   "source": [
    "firstFriend = pd.DataFrame(social.groupby(\"first_user_id\")[\"first_user_id\"].count())"
   ]
  },
  {
   "cell_type": "code",
   "execution_count": 12,
   "metadata": {
    "collapsed": false
   },
   "outputs": [],
   "source": [
    "avgUserRating = avgUserRating.join(firstFriend)\n",
    "avgUserRating.columns = [\"Avg Rating\", \"Total Friends\"]\n",
    "avgUserRating[\"Total Friends\"].fillna(0, inplace = True)"
   ]
  },
  {
   "cell_type": "markdown",
   "metadata": {},
   "source": [
    "#### Linear Regression"
   ]
  },
  {
   "cell_type": "code",
   "execution_count": null,
   "metadata": {
    "collapsed": true
   },
   "outputs": [],
   "source": [
    "X = avgUserRating[\"Total Friends\"]\n",
    "y = avgUserRating[\"Avg Rating\"]\n",
    "\n",
    "X_train, X_test, y_train, y_test = train_test_split(X, y, test_size=0.9)\n",
    "\n",
    "lr = LinearRegression()\n",
    "# algo = lr.fit(X_train.values.reshape(1,len(X_train)),y_train.values.reshape(1,len(y_train)))\n",
    "\n",
    "# pvals = feature_selection(X_train,y_train)[1]\n",
    "# # residuals = (y_train - algo.predict(X_train)).values\n",
    "# # bins = np.round(np.sqrt(len(reisiduals)))\n",
    "\n",
    "# print(\"P Values: \", pvals)\n",
    "# print(\"Coeff: \", algo.coef_)\n",
    "# print(\"Y Intercept: \", algo.intercept_)\n",
    "# print(\"R Squared: \", algo.score(X_test, y_test))\n",
    "\n",
    "\n",
    "# # plt.figure(figsize = (20,12))\n",
    "# # plt.hist(residuals, bins = bins, color = \"grey\")"
   ]
  },
  {
   "cell_type": "code",
   "execution_count": null,
   "metadata": {
    "collapsed": true
   },
   "outputs": [],
   "source": []
  }
 ],
 "metadata": {
  "kernelspec": {
   "display_name": "Python 3",
   "language": "python",
   "name": "python3"
  },
  "language_info": {
   "codemirror_mode": {
    "name": "ipython",
    "version": 3
   },
   "file_extension": ".py",
   "mimetype": "text/x-python",
   "name": "python",
   "nbconvert_exporter": "python",
   "pygments_lexer": "ipython3",
   "version": "3.5.2"
  }
 },
 "nbformat": 4,
 "nbformat_minor": 1
}
