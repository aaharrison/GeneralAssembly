{
 "cells": [
  {
   "cell_type": "code",
   "execution_count": 1,
   "metadata": {
    "collapsed": false
   },
   "outputs": [
    {
     "name": "stderr",
     "output_type": "stream",
     "text": [
      "//anaconda/lib/python3.5/site-packages/sklearn/cross_validation.py:44: DeprecationWarning: This module was deprecated in version 0.18 in favor of the model_selection module into which all the refactored classes and functions are moved. Also note that the interface of the new CV iterators are different from that of this module. This module will be removed in 0.20.\n",
      "  \"This module will be removed in 0.20.\", DeprecationWarning)\n"
     ]
    }
   ],
   "source": [
    "import os\n",
    "import datetime\n",
    "import numpy as np\n",
    "import pandas as pd\n",
    "import seaborn as sns\n",
    "import matplotlib.pyplot as plt\n",
    "%matplotlib inline\n",
    "\n",
    "from sklearn import neighbors, cross_validation\n",
    "from sklearn.preprocessing import LabelEncoder, OneHotEncoder\n",
    "from sklearn.model_selection import GridSearchCV\n",
    "from sklearn.linear_model import LinearRegression, LogisticRegression\n",
    "from sklearn.metrics import classification_report, confusion_matrix, mean_squared_error"
   ]
  },
  {
   "cell_type": "code",
   "execution_count": 2,
   "metadata": {
    "collapsed": false
   },
   "outputs": [],
   "source": [
    "os.chdir(\"/Users/adeniyiharrison/Desktop/Traffic Stop Data\")\n",
    "df = pd.read_csv(\"connecticut-r2.csv\", low_memory = False)"
   ]
  },
  {
   "cell_type": "code",
   "execution_count": 3,
   "metadata": {
    "collapsed": false
   },
   "outputs": [
    {
     "name": "stdout",
     "output_type": "stream",
     "text": [
      "<class 'pandas.core.frame.DataFrame'>\n",
      "RangeIndex: 586849 entries, 0 to 586848\n",
      "Data columns (total 42 columns):\n",
      "CreatedDate                              586849 non-null object\n",
      "ProfileNo                                586849 non-null int64\n",
      "OrganizationIdentificationID             586849 non-null object\n",
      "Department Name                          586849 non-null object\n",
      "OrganizationActivityText                 586849 non-null object\n",
      "ReportingOfficerIdentificationID         586849 non-null object\n",
      "InterventionIdentificationID             586825 non-null object\n",
      "IdentificationCategoryDescriptionText    586849 non-null object\n",
      "InterventionDate                         586849 non-null object\n",
      "Month                                    586849 non-null object\n",
      "SubjectRaceCode                          586849 non-null object\n",
      "SubjectEthnicityCode                     586849 non-null object\n",
      "SubjectSexCode                           586849 non-null object\n",
      "SubjectAge                               586783 non-null float64\n",
      "ResidentIndicator                        586849 non-null bool\n",
      "TownRecidentIndicator                    586848 non-null object\n",
      "InterventionLocationName                 586848 non-null object\n",
      "InterventionLocationDescriptionText      586593 non-null object\n",
      "InterventionLocationLatitude             563553 non-null object\n",
      "InterventionLocationLongitude            563553 non-null object\n",
      "InterventionReasonCode                   586849 non-null object\n",
      "InterventionTechniqueCode                586849 non-null object\n",
      "InterventionDurationCode                 586849 non-null int64\n",
      "TowedIndicator                           586849 non-null bool\n",
      "StatuteCodeIdentificationID              586653 non-null object\n",
      "StatuteReason                            586849 non-null object\n",
      "StatutatoryCitation                      93230 non-null object\n",
      "VehicleSearchedIndicator                 586849 non-null bool\n",
      "SearchAuthorizationCode                  586849 non-null object\n",
      "ContrabandIndicator                      586849 non-null bool\n",
      "CustodialArrestIndicator                 586849 non-null bool\n",
      "InterventionDispositionCode              586849 non-null object\n",
      "InterventionDispositionDate              31761 non-null object\n",
      "InterventionDispositionReasonText        31786 non-null object\n",
      "IsStatuteCodeValid                       0 non-null float64\n",
      "IsStatutatoryCitationValid               0 non-null float64\n",
      "IsaTest                                  586849 non-null bool\n",
      "RecordCount                              586849 non-null int64\n",
      "SourceId                                 586849 non-null object\n",
      "SourceReferenceId                        586849 non-null object\n",
      "InterventionDateTime                     586849 non-null object\n",
      "InterventionTime                         586849 non-null object\n",
      "dtypes: bool(6), float64(3), int64(3), object(30)\n",
      "memory usage: 164.5+ MB\n"
     ]
    }
   ],
   "source": [
    "df.info()"
   ]
  },
  {
   "cell_type": "markdown",
   "metadata": {},
   "source": [
    "#### Data Clean"
   ]
  },
  {
   "cell_type": "code",
   "execution_count": 4,
   "metadata": {
    "collapsed": false
   },
   "outputs": [],
   "source": [
    "dateTime = []\n",
    "for x in df[\"CreatedDate\"]:\n",
    "    try:\n",
    "        dateTime.append(datetime.datetime.strptime(x, \"%m/%d/%y %H:%M\"))\n",
    "    except:\n",
    "        dateTime.append(datetime.datetime.strptime(x, \"%m-%d-%y\"))\n",
    "\n",
    "df[\"CreatedDate\"] = dateTime"
   ]
  },
  {
   "cell_type": "code",
   "execution_count": 7,
   "metadata": {
    "collapsed": false
   },
   "outputs": [
    {
     "data": {
      "text/plain": [
       "count                  586849\n",
       "unique                  36891\n",
       "top       2015-05-29 10:52:00\n",
       "freq                    10086\n",
       "first     2014-10-01 00:16:00\n",
       "last      2016-03-08 11:53:00\n",
       "Name: CreatedDate, dtype: object"
      ]
     },
     "execution_count": 7,
     "metadata": {},
     "output_type": "execute_result"
    }
   ],
   "source": [
    "df[\"CreatedDate\"].describe()"
   ]
  },
  {
   "cell_type": "code",
   "execution_count": 9,
   "metadata": {
    "collapsed": true
   },
   "outputs": [],
   "source": [
    "df[\"ProfileNo\"] = df[\"ProfileNo\"].apply(lambda x: str(x))\n",
    "df[\"ID\"] = df[\"Department Name\"]+ \"_\" + df[\"ProfileNo\"]\n",
    "\n",
    "df.set_index(\"ID\", inplace = True)"
   ]
  },
  {
   "cell_type": "code",
   "execution_count": 10,
   "metadata": {
    "collapsed": false
   },
   "outputs": [],
   "source": [
    "df[\"InterventionDateTime\"] = df[\"InterventionDateTime\"].apply(lambda x: datetime.datetime.strptime(x[:19], \"%Y-%m-%d %H:%M:%S\"))\n",
    "df[\"InterventionDate\"] = df[\"InterventionDate\"].apply(lambda x: datetime.datetime.strptime(x[:10], \"%Y-%m-%d\"))\n",
    "df[\"InterventionTime\"] = df['InterventionTime'].apply(lambda x: datetime.datetime.strptime(x, \"%H:%M\").time())"
   ]
  },
  {
   "cell_type": "code",
   "execution_count": 11,
   "metadata": {
    "collapsed": false
   },
   "outputs": [
    {
     "data": {
      "text/plain": [
       "count                  586849\n",
       "unique                 310818\n",
       "top       2015-01-20 00:00:00\n",
       "freq                       77\n",
       "first     2014-10-01 00:00:00\n",
       "last      2015-09-30 23:59:00\n",
       "Name: InterventionDateTime, dtype: object"
      ]
     },
     "execution_count": 11,
     "metadata": {},
     "output_type": "execute_result"
    }
   ],
   "source": [
    "df[\"InterventionDateTime\"].describe()"
   ]
  },
  {
   "cell_type": "code",
   "execution_count": 12,
   "metadata": {
    "collapsed": false
   },
   "outputs": [
    {
     "data": {
      "text/plain": [
       "April        67684\n",
       "August       59848\n",
       "May          59425\n",
       "July         54432\n",
       "October      46853\n",
       "March        46590\n",
       "November     46530\n",
       "September    45424\n",
       "June         44672\n",
       "December     44253\n",
       "January      40965\n",
       "February     30173\n",
       "Name: Month, dtype: int64"
      ]
     },
     "execution_count": 12,
     "metadata": {},
     "output_type": "execute_result"
    }
   ],
   "source": [
    "df[\"Month\"].value_counts()"
   ]
  },
  {
   "cell_type": "code",
   "execution_count": 13,
   "metadata": {
    "collapsed": false
   },
   "outputs": [
    {
     "data": {
      "text/plain": [
       "Thursday     98486\n",
       "Wednesday    92122\n",
       "Tuesday      87978\n",
       "Friday       83655\n",
       "Monday       83066\n",
       "Sunday       78113\n",
       "Saturday     63429\n",
       "Name: Day of Week, dtype: int64"
      ]
     },
     "execution_count": 13,
     "metadata": {},
     "output_type": "execute_result"
    }
   ],
   "source": [
    "dow = {\n",
    "    0: \"Sunday\",\n",
    "    1: \"Monday\",\n",
    "    2: \"Tuesday\",\n",
    "    3: \"Wednesday\",\n",
    "    4: \"Thursday\",\n",
    "    5: \"Friday\",\n",
    "    6: \"Saturday\"\n",
    "}\n",
    "\n",
    "df[\"Day of Week\"] = df[\"InterventionDate\"].apply(lambda x: dow[x.weekday()])\n",
    "\n",
    "df[\"Day of Week\"].value_counts()"
   ]
  },
  {
   "cell_type": "code",
   "execution_count": 14,
   "metadata": {
    "collapsed": false
   },
   "outputs": [
    {
     "data": {
      "text/plain": [
       "White              484540\n",
       "Black               85345\n",
       "Asian               11929\n",
       "American Indian      5035\n",
       "Name: SubjectRaceCode, dtype: int64"
      ]
     },
     "execution_count": 14,
     "metadata": {},
     "output_type": "execute_result"
    }
   ],
   "source": [
    "race = {\n",
    "    \"W\": \"White\",\n",
    "    \"B\": \"Black\",\n",
    "    \"A\": \"Asian\",\n",
    "    \"I\": \"American Indian\"\n",
    "}\n",
    "\n",
    "\n",
    "df[\"SubjectRaceCode\"] = df[\"SubjectRaceCode\"].apply(lambda x: race[x])\n",
    "df[\"SubjectRaceCode\"].value_counts()"
   ]
  },
  {
   "cell_type": "code",
   "execution_count": 15,
   "metadata": {
    "collapsed": false
   },
   "outputs": [
    {
     "data": {
      "text/plain": [
       "Non Hispanic      500907\n",
       "Hispanic           73136\n",
       "Middle Eastern     12806\n",
       "Name: SubjectEthnicityCode, dtype: int64"
      ]
     },
     "execution_count": 15,
     "metadata": {},
     "output_type": "execute_result"
    }
   ],
   "source": [
    "ethnic = {\n",
    "    \"H\": \"Hispanic\",\n",
    "    \"N\": \"Non Hispanic\",\n",
    "    \"M\": \"Middle Eastern\"\n",
    "}\n",
    "\n",
    "df[\"SubjectEthnicityCode\"] = df[\"SubjectEthnicityCode\"].apply(lambda x: ethnic[x])\n",
    "df[\"SubjectEthnicityCode\"].value_counts()"
   ]
  },
  {
   "cell_type": "code",
   "execution_count": 16,
   "metadata": {
    "collapsed": false
   },
   "outputs": [
    {
     "data": {
      "text/plain": [
       "M    370630\n",
       "F    216219\n",
       "Name: SubjectSexCode, dtype: int64"
      ]
     },
     "execution_count": 16,
     "metadata": {},
     "output_type": "execute_result"
    }
   ],
   "source": [
    "df[\"SubjectSexCode\"].value_counts()"
   ]
  },
  {
   "cell_type": "code",
   "execution_count": 17,
   "metadata": {
    "collapsed": false
   },
   "outputs": [],
   "source": [
    "age = []\n",
    "for x in df[\"SubjectAge\"]:\n",
    "    if x < 15:\n",
    "        age.append(np.nan)\n",
    "    elif x >= 15 and x <= 85:\n",
    "        age.append(x)\n",
    "    else:\n",
    "        age.append(np.nan)\n",
    "        \n",
    "df[\"SubjectAge\"] = age"
   ]
  },
  {
   "cell_type": "code",
   "execution_count": 18,
   "metadata": {
    "collapsed": false
   },
   "outputs": [
    {
     "data": {
      "text/plain": [
       "count    582796.000000\n",
       "mean         38.438363\n",
       "std          14.622587\n",
       "min          15.000000\n",
       "25%          26.000000\n",
       "50%          36.000000\n",
       "75%          49.000000\n",
       "max          85.000000\n",
       "Name: SubjectAge, dtype: float64"
      ]
     },
     "execution_count": 18,
     "metadata": {},
     "output_type": "execute_result"
    }
   ],
   "source": [
    "df[\"SubjectAge\"].describe()"
   ]
  },
  {
   "cell_type": "code",
   "execution_count": 19,
   "metadata": {
    "collapsed": false
   },
   "outputs": [
    {
     "data": {
      "text/plain": [
       "True     511460\n",
       "False     75389\n",
       "Name: ResidentIndicator, dtype: int64"
      ]
     },
     "execution_count": 19,
     "metadata": {},
     "output_type": "execute_result"
    }
   ],
   "source": [
    "# Resident of Connecticut\n",
    "df[\"ResidentIndicator\"].value_counts()"
   ]
  },
  {
   "cell_type": "code",
   "execution_count": 20,
   "metadata": {
    "collapsed": false
   },
   "outputs": [
    {
     "data": {
      "text/plain": [
       "False    419706\n",
       "True     167142\n",
       "Name: TownRecidentIndicator, dtype: int64"
      ]
     },
     "execution_count": 20,
     "metadata": {},
     "output_type": "execute_result"
    }
   ],
   "source": [
    "# Resident of town they were pulled over in\n",
    "df[\"TownRecidentIndicator\"].value_counts()"
   ]
  },
  {
   "cell_type": "code",
   "execution_count": 21,
   "metadata": {
    "collapsed": false
   },
   "outputs": [
    {
     "data": {
      "text/plain": [
       "1"
      ]
     },
     "execution_count": 21,
     "metadata": {},
     "output_type": "execute_result"
    }
   ],
   "source": [
    "df[pd.isnull(df[\"InterventionLocationName\"])][\"ProfileNo\"].count()"
   ]
  },
  {
   "cell_type": "code",
   "execution_count": 22,
   "metadata": {
    "collapsed": false
   },
   "outputs": [
    {
     "data": {
      "text/plain": [
       "Motor Vehicle Violation    520004\n",
       "Equipment Violation         55409\n",
       "Investigative Stop          11436\n",
       "Name: InterventionReasonCode, dtype: int64"
      ]
     },
     "execution_count": 22,
     "metadata": {},
     "output_type": "execute_result"
    }
   ],
   "source": [
    "reason = {\n",
    "    \"E\": \"Equipment Violation\",\n",
    "    \"I\": \"Investigative Stop\",\n",
    "    \"V\": \"Motor Vehicle Violation\"\n",
    "}\n",
    "\n",
    "df[\"InterventionReasonCode\"] = df[\"InterventionReasonCode\"].apply(lambda x: reason[x])\n",
    "df[\"InterventionReasonCode\"].value_counts()"
   ]
  },
  {
   "cell_type": "code",
   "execution_count": 23,
   "metadata": {
    "collapsed": false
   },
   "outputs": [
    {
     "data": {
      "text/plain": [
       "0 - 15 Minutes     526477\n",
       "16 - 30 Minutes     47451\n",
       "30+ Minutes         12921\n",
       "Name: InterventionDurationCode, dtype: int64"
      ]
     },
     "execution_count": 23,
     "metadata": {},
     "output_type": "execute_result"
    }
   ],
   "source": [
    "duration = {\n",
    "    1: \"0 - 15 Minutes\",\n",
    "    2: \"16 - 30 Minutes\",\n",
    "    3: \"30+ Minutes\"\n",
    "}\n",
    "\n",
    "df[\"InterventionDurationCode\"] = df[\"InterventionDurationCode\"].apply(lambda x: duration[x])\n",
    "df[\"InterventionDurationCode\"].value_counts()"
   ]
  },
  {
   "cell_type": "code",
   "execution_count": 24,
   "metadata": {
    "collapsed": false
   },
   "outputs": [
    {
     "data": {
      "text/plain": [
       "False    556407\n",
       "True      30442\n",
       "Name: TowedIndicator, dtype: int64"
      ]
     },
     "execution_count": 24,
     "metadata": {},
     "output_type": "execute_result"
    }
   ],
   "source": [
    "df[\"TowedIndicator\"].value_counts()"
   ]
  },
  {
   "cell_type": "code",
   "execution_count": 25,
   "metadata": {
    "collapsed": false
   },
   "outputs": [
    {
     "data": {
      "text/plain": [
       "Speed Related             152901\n",
       "Other                      99934\n",
       "Cell Phone                 61186\n",
       "Registration               55484\n",
       "Defective Lights           49351\n",
       "Moving Violation           42905\n",
       "Traffic Control Signal     39305\n",
       "Stop Sign                  33852\n",
       "Seatbelt                   21590\n",
       "Display of Plates          15256\n",
       "Suspended License           8167\n",
       "Window Tint                 5251\n",
       "Equipment Violation         1665\n",
       "Stop Sign                      2\n",
       "Name: StatuteReason, dtype: int64"
      ]
     },
     "execution_count": 25,
     "metadata": {},
     "output_type": "execute_result"
    }
   ],
   "source": [
    "df[\"StatuteReason\"].value_counts()"
   ]
  },
  {
   "cell_type": "code",
   "execution_count": 26,
   "metadata": {
    "collapsed": false
   },
   "outputs": [
    {
     "data": {
      "text/plain": [
       "False    569770\n",
       "True      17079\n",
       "Name: VehicleSearchedIndicator, dtype: int64"
      ]
     },
     "execution_count": 26,
     "metadata": {},
     "output_type": "execute_result"
    }
   ],
   "source": [
    "df[\"VehicleSearchedIndicator\"].value_counts()"
   ]
  },
  {
   "cell_type": "code",
   "execution_count": 27,
   "metadata": {
    "collapsed": false
   },
   "outputs": [
    {
     "data": {
      "text/plain": [
       "Not Applicable    566859\n",
       "Other              10151\n",
       "Consent             6349\n",
       "Inventory           3490\n",
       "Name: SearchAuthorizationCode, dtype: int64"
      ]
     },
     "execution_count": 27,
     "metadata": {},
     "output_type": "execute_result"
    }
   ],
   "source": [
    "search = {\n",
    "    \"C\": \"Consent\",\n",
    "    \"I\": \"Inventory\",\n",
    "    \"N\": \"Not Applicable\",\n",
    "    \"O\": \"Other\"\n",
    "}\n",
    "df[\"SearchAuthorizationCode\"] = df[\"SearchAuthorizationCode\"].apply(lambda x: search[x])\n",
    "df[\"SearchAuthorizationCode\"].value_counts()"
   ]
  },
  {
   "cell_type": "code",
   "execution_count": 28,
   "metadata": {
    "collapsed": false
   },
   "outputs": [
    {
     "data": {
      "text/plain": [
       "False    580441\n",
       "True       6408\n",
       "Name: ContrabandIndicator, dtype: int64"
      ]
     },
     "execution_count": 28,
     "metadata": {},
     "output_type": "execute_result"
    }
   ],
   "source": [
    "df[\"ContrabandIndicator\"].value_counts()"
   ]
  },
  {
   "cell_type": "code",
   "execution_count": 29,
   "metadata": {
    "collapsed": false
   },
   "outputs": [
    {
     "data": {
      "text/plain": [
       "Infraction               276194\n",
       "Verbal Warning           169820\n",
       "Written Warning           94450\n",
       "Misdemeanor Summons       31585\n",
       "No Disposition             9491\n",
       "Uniform Arrest Report      5309\n",
       "Name: InterventionDispositionCode, dtype: int64"
      ]
     },
     "execution_count": 29,
     "metadata": {},
     "output_type": "execute_result"
    }
   ],
   "source": [
    "disposition = {\n",
    "    \"I\": \"Infraction\",\n",
    "    \"M\": \"Misdemeanor Summons\",\n",
    "    \"N\": \"No Disposition\",\n",
    "    \"U\": \"Uniform Arrest Report\",\n",
    "    \"V\": \"Verbal Warning\",\n",
    "    \"W\": \"Written Warning\"\n",
    "}\n",
    "\n",
    "df[\"InterventionDispositionCode\"] = df[\"InterventionDispositionCode\"].apply(lambda x: disposition[x])\n",
    "df[\"InterventionDispositionCode\"].value_counts()"
   ]
  },
  {
   "cell_type": "code",
   "execution_count": 30,
   "metadata": {
    "collapsed": false
   },
   "outputs": [
    {
     "data": {
      "text/plain": [
       "Misdemeanor Summons      4515\n",
       "Uniform Arrest Report    4069\n",
       "Infraction               1426\n",
       "Verbal Warning            444\n",
       "Written Warning           227\n",
       "No Disposition             83\n",
       "Name: InterventionDispositionCode, dtype: int64"
      ]
     },
     "execution_count": 30,
     "metadata": {},
     "output_type": "execute_result"
    }
   ],
   "source": [
    "df[df[\"CustodialArrestIndicator\"] == True][\"InterventionDispositionCode\"].value_counts()"
   ]
  },
  {
   "cell_type": "code",
   "execution_count": 31,
   "metadata": {
    "collapsed": false
   },
   "outputs": [
    {
     "data": {
      "text/plain": [
       "True     4069\n",
       "False    1240\n",
       "Name: CustodialArrestIndicator, dtype: int64"
      ]
     },
     "execution_count": 31,
     "metadata": {},
     "output_type": "execute_result"
    }
   ],
   "source": [
    "df[df[\"InterventionDispositionCode\"] == \"Uniform Arrest Report\"][\"CustodialArrestIndicator\"].value_counts()"
   ]
  },
  {
   "cell_type": "code",
   "execution_count": 32,
   "metadata": {
    "collapsed": false
   },
   "outputs": [
    {
     "data": {
      "text/plain": [
       "False    576085\n",
       "True      10764\n",
       "Name: CustodialArrestIndicator, dtype: int64"
      ]
     },
     "execution_count": 32,
     "metadata": {},
     "output_type": "execute_result"
    }
   ],
   "source": [
    "df[\"CustodialArrestIndicator\"].value_counts()"
   ]
  },
  {
   "cell_type": "code",
   "execution_count": 33,
   "metadata": {
    "collapsed": false
   },
   "outputs": [],
   "source": [
    "df.drop(['InterventionDispositionReasonText', 'IsStatuteCodeValid','IsStatutatoryCitationValid',\n",
    "        'IsaTest', 'RecordCount', 'SourceId', 'SourceReferenceId',\"InterventionLocationLatitude\", \n",
    "         \"InterventionLocationLongitude\", \"OrganizationActivityText\"], axis = 1, inplace = True)"
   ]
  },
  {
   "cell_type": "code",
   "execution_count": 34,
   "metadata": {
    "collapsed": false
   },
   "outputs": [],
   "source": [
    "cols = ['InterventionDateTime',\n",
    " 'InterventionDate',\n",
    " 'InterventionTime',\n",
    " 'Month',\n",
    " 'Day of Week',\n",
    " 'CreatedDate',\n",
    " 'Department Name',\n",
    " 'ProfileNo',\n",
    " 'OrganizationIdentificationID',\n",
    " 'ReportingOfficerIdentificationID',\n",
    " 'InterventionIdentificationID',\n",
    " 'IdentificationCategoryDescriptionText',\n",
    " 'InterventionLocationName',\n",
    " 'ResidentIndicator',\n",
    " 'TownRecidentIndicator',\n",
    " 'SubjectRaceCode',\n",
    " 'SubjectEthnicityCode',\n",
    " 'SubjectSexCode',\n",
    " 'SubjectAge',\n",
    " 'InterventionLocationDescriptionText',\n",
    " 'InterventionReasonCode',\n",
    " 'InterventionTechniqueCode',\n",
    " 'InterventionDurationCode',\n",
    " 'TowedIndicator',\n",
    " 'StatuteCodeIdentificationID',\n",
    " 'StatuteReason',\n",
    " 'StatutatoryCitation',\n",
    " 'VehicleSearchedIndicator',\n",
    " 'SearchAuthorizationCode',\n",
    " 'ContrabandIndicator',\n",
    " 'CustodialArrestIndicator',\n",
    " 'InterventionDispositionCode',\n",
    " 'InterventionDispositionDate']\n",
    "        \n",
    "df = df[cols]"
   ]
  },
  {
   "cell_type": "markdown",
   "metadata": {},
   "source": [
    "#### Predict the length of the stop"
   ]
  },
  {
   "cell_type": "code",
   "execution_count": 35,
   "metadata": {
    "collapsed": false
   },
   "outputs": [],
   "source": [
    "# Using Race, Sex, Age, and Reason code use KNN, Logistic Regression and Random Forest to predict Length of Stop\n",
    "X = pd.DataFrame(index = df.index ,columns = [\"SubjectSexCode\", \"SubjectRaceCode\", \"InterventionReasonCode\"])\n",
    "le = LabelEncoder()\n",
    "\n",
    "for x in [\"SubjectSexCode\", \"SubjectRaceCode\", \"InterventionReasonCode\"]:\n",
    "    X[x] = le.fit_transform(df[x])\n",
    "\n",
    "X = X.join(df[[\"SubjectAge\", \"InterventionDurationCode\"]])\n",
    "X.dropna(inplace = True)\n",
    "y = X[\"InterventionDurationCode\"]\n",
    "\n",
    "X.drop(\"InterventionDurationCode\", axis = 1, inplace = True)\n",
    "\n",
    "oneHot = OneHotEncoder(categorical_features = [True, True, True, False], sparse = True)\n",
    "X = oneHot.fit_transform(X)"
   ]
  },
  {
   "cell_type": "code",
   "execution_count": 36,
   "metadata": {
    "collapsed": false
   },
   "outputs": [
    {
     "name": "stdout",
     "output_type": "stream",
     "text": [
      "<class 'pandas.core.frame.DataFrame'>\n",
      "Index: 586849 entries, Ansonia_1038902 to Milford_3177\n",
      "Data columns (total 4 columns):\n",
      "SubjectSexCode              586849 non-null object\n",
      "SubjectRaceCode             586849 non-null object\n",
      "InterventionReasonCode      586849 non-null object\n",
      "InterventionDurationCode    586849 non-null object\n",
      "dtypes: object(4)\n",
      "memory usage: 22.4+ MB\n"
     ]
    }
   ],
   "source": [
    "df[[\"SubjectSexCode\", \"SubjectRaceCode\", \"InterventionReasonCode\", \"InterventionDurationCode\"]].info()"
   ]
  },
  {
   "cell_type": "code",
   "execution_count": 42,
   "metadata": {
    "collapsed": false
   },
   "outputs": [
    {
     "data": {
      "text/plain": [
       "<582796x10 sparse matrix of type '<class 'numpy.float64'>'\n",
       "\twith 2331184 stored elements in COOrdinate format>"
      ]
     },
     "execution_count": 42,
     "metadata": {},
     "output_type": "execute_result"
    }
   ],
   "source": [
    "X"
   ]
  },
  {
   "cell_type": "code",
   "execution_count": 44,
   "metadata": {
    "collapsed": false
   },
   "outputs": [
    {
     "data": {
      "text/plain": [
       "array([[  1.,   0.,   0., ...,   0.,   0.,  24.],\n",
       "       [  0.,   1.,   0., ...,   0.,   1.,  31.],\n",
       "       [  0.,   1.,   0., ...,   0.,   1.,  60.],\n",
       "       ..., \n",
       "       [  0.,   1.,   0., ...,   0.,   1.,  45.],\n",
       "       [  0.,   1.,   0., ...,   0.,   1.,  45.],\n",
       "       [  0.,   1.,   0., ...,   0.,   0.,  25.]])"
      ]
     },
     "execution_count": 44,
     "metadata": {},
     "output_type": "execute_result"
    }
   ],
   "source": [
    "X.A"
   ]
  },
  {
   "cell_type": "code",
   "execution_count": 49,
   "metadata": {
    "collapsed": false
   },
   "outputs": [
    {
     "data": {
      "text/plain": [
       "0.88106788325891416"
      ]
     },
     "execution_count": 49,
     "metadata": {},
     "output_type": "execute_result"
    }
   ],
   "source": [
    "from sklearn.model_selection import cross_val_score\n",
    "knn = neighbors.KNeighborsClassifier(n_neighbors = 10)\n",
    "cross_val_score(knn, X.A[:1000], y[:1000], cv=10, scoring='accuracy').mean()"
   ]
  },
  {
   "cell_type": "code",
   "execution_count": 60,
   "metadata": {
    "collapsed": false
   },
   "outputs": [],
   "source": [
    "kf = cross_validation.KFold(len(y[:1000]),n_folds = 3)\n",
    "gs = GridSearchCV(\n",
    "    estimator = neighbors.KNeighborsClassifier(), \n",
    "    param_grid = {\"n_neighbors\" : np.arange(2,20),\n",
    "                  \"weights\" : [\"distance\", \"uniform\"]},\n",
    "    cv = kf)\n",
    "\n",
    "gs.fit(X.A[:1000],y[:1000])\n",
    "test = gs.best_estimator_"
   ]
  },
  {
   "cell_type": "code",
   "execution_count": 63,
   "metadata": {
    "collapsed": false
   },
   "outputs": [
    {
     "data": {
      "text/plain": [
       "0.88100000000000001"
      ]
     },
     "execution_count": 63,
     "metadata": {},
     "output_type": "execute_result"
    }
   ],
   "source": [
    "test.score(X.A[:1000], y[:1000])"
   ]
  }
 ],
 "metadata": {
  "kernelspec": {
   "display_name": "Python 3",
   "language": "python",
   "name": "python3"
  },
  "language_info": {
   "codemirror_mode": {
    "name": "ipython",
    "version": 3
   },
   "file_extension": ".py",
   "mimetype": "text/x-python",
   "name": "python",
   "nbconvert_exporter": "python",
   "pygments_lexer": "ipython3",
   "version": "3.5.2"
  }
 },
 "nbformat": 4,
 "nbformat_minor": 1
}
